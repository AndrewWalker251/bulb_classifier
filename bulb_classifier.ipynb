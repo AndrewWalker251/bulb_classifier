{
 "cells": [
  {
   "cell_type": "code",
   "execution_count": 1,
   "metadata": {},
   "outputs": [],
   "source": [
    "import pandas as pd\n",
    "import numpy as np\n",
    "\n",
    "import torch\n",
    "import torch.nn as nn\n",
    "from torch.utils.data import Dataset, DataLoader\n",
    "from torchvision import transforms, datasets\n",
    "import torchvision.utils as utils\n",
    "import torch.optim as optim\n",
    "\n",
    "import matplotlib.pyplot as plt"
   ]
  },
  {
   "cell_type": "code",
   "execution_count": 138,
   "metadata": {},
   "outputs": [
    {
     "data": {
      "text/plain": [
       "\"\\n8 Class classification problem \\n\\nInitially work on trying to classifiy based on google search scraped pictures of these lightbulbs.\\nThe problem with this is that they nearly always have a white backgroud and are not realistic of a phone camera version\\nof a picture of the light bulb\\n'current search: B15 light bulbs'\\n\\nClasses\\nE27 light bulbs\\nE14 light bulbs\\nB22 light bulbs\\nB15 light bulbs\\nGU10 light bulbs\\nG4\\nG9\\nMR16\\n\\n\\nNeed to also buy some examples of the light bulbs as a way of building up my own dataset that might be more realistic.\\n\\n\""
      ]
     },
     "execution_count": 138,
     "metadata": {},
     "output_type": "execute_result"
    }
   ],
   "source": [
    "'''\n",
    "8 Class classification problem \n",
    "\n",
    "Initially work on trying to classifiy based on google search scraped pictures of these lightbulbs.\n",
    "The problem with this is that they nearly always have a white backgroud and are not realistic of a phone camera version\n",
    "of a picture of the light bulb\n",
    "'current search: B15 light bulbs'\n",
    "\n",
    "Classes\n",
    "E27 light bulbs\n",
    "E14 light bulbs\n",
    "B22 light bulbs\n",
    "B15 light bulbs\n",
    "GU10 light bulbs\n",
    "G4\n",
    "G9\n",
    "MR16\n",
    "\n",
    "\n",
    "Need to also buy some examples of the light bulbs as a way of building up my own dataset that might be more realistic.\n",
    "\n",
    "'''"
   ]
  },
  {
   "cell_type": "markdown",
   "metadata": {},
   "source": [
    "# Datasets"
   ]
  },
  {
   "cell_type": "code",
   "execution_count": 10,
   "metadata": {},
   "outputs": [],
   "source": [
    "# Create a pytorch dataset, and then dataloader to allow for mini-batch processing. \n",
    "data_transform = transforms.Compose([\n",
    "        transforms.RandomSizedCrop(128),\n",
    "        transforms.RandomHorizontalFlip(),\n",
    "        transforms.ToTensor(),\n",
    "        transforms.Normalize(mean=[0.485, 0.456, 0.406],\n",
    "                             std=[0.229, 0.224, 0.225])\n",
    "        ])\n",
    "    \n",
    "light_bulbs = datasets.ImageFolder(root=r'C:\\Users\\awalker8\\Documents\\COVID_Furlow\\bulb_class\\bulb_data',\n",
    "                                           transform=data_transform)\n",
    "    \n",
    "dataloader = torch.utils.data.DataLoader(light_bulbs,\n",
    "                                             batch_size=64, shuffle=True,\n",
    "                                             num_workers=2)"
   ]
  },
  {
   "cell_type": "code",
   "execution_count": 3,
   "metadata": {},
   "outputs": [
    {
     "data": {
      "text/plain": [
       "<torch.utils.data.dataloader.DataLoader at 0x1e702ec35c0>"
      ]
     },
     "execution_count": 3,
     "metadata": {},
     "output_type": "execute_result"
    }
   ],
   "source": [
    "dataloader"
   ]
  },
  {
   "cell_type": "code",
   "execution_count": 86,
   "metadata": {},
   "outputs": [
    {
     "name": "stdout",
     "output_type": "stream",
     "text": [
      "torch.Size([1, 3, 128, 128])\n",
      "(1, 128, 128, 3)\n",
      "(128, 128, 3)\n"
     ]
    },
    {
     "name": "stderr",
     "output_type": "stream",
     "text": [
      "Clipping input data to the valid range for imshow with RGB data ([0..1] for floats or [0..255] for integers).\n"
     ]
    },
    {
     "data": {
      "image/png": "[encoded data removed]",
      "text/plain": [
       "<Figure size 432x288 with 1 Axes>"
      ]
     },
     "metadata": {
      "needs_background": "light"
     },
     "output_type": "display_data"
    },
    {
     "name": "stdout",
     "output_type": "stream",
     "text": [
      "tensor([0])\n"
     ]
    }
   ],
   "source": [
    "for x, y in dataloader:\n",
    "    print(x.shape)\n",
    "    x.shape[0]\n",
    "    out = np.reshape(x.numpy()[0,:,:,:],newshape =[x.shape[0],x.shape[2],x.shape[3],x.shape[1]])\n",
    "    print(out.shape)\n",
    "    print(out[0,:,:,:].shape)\n",
    "    plt.imshow(out[0,:,:,:])\n",
    "    plt.show()\n",
    "    \n",
    "    #plt.imshow(np.reshape(x.numpy()[0,:,:,:],newshape =[1,64,64,3]))\n",
    "    #plt.show()\n",
    "    print(y) # image label\n",
    "    break"
   ]
  },
  {
   "cell_type": "markdown",
   "metadata": {},
   "source": [
    "# CNN"
   ]
  },
  {
   "cell_type": "code",
   "execution_count": 4,
   "metadata": {},
   "outputs": [],
   "source": [
    "# Defining the weights_init function that takes as input a neural network m and that will initialize all its weights.\n",
    "def weights_init(m):\n",
    "    classname = m.__class__.__name__\n",
    "    if classname.find('Conv') != -1:\n",
    "        m.weight.data.normal_(0.0, 0.02)\n",
    "    elif classname.find('BatchNorm') != -1:\n",
    "        m.weight.data.normal_(1.0, 0.02)\n",
    "        m.bias.data.fill_(0)"
   ]
  },
  {
   "cell_type": "code",
   "execution_count": 5,
   "metadata": {},
   "outputs": [],
   "source": [
    "# Define the classifier\n",
    "\n",
    "class bulb_model(nn.Module):\n",
    "    \n",
    "    def __init__(self):\n",
    "        super(bulb_model, self).__init__()\n",
    "    \n",
    "        self.main = nn.Sequential(\n",
    "            nn.Conv2d(in_channels=3, out_channels=64, kernel_size=4, stride=2, padding=1, bias=False),\n",
    "            nn.LeakyReLU(0.2, inplace=True),\n",
    "            nn.Conv2d(in_channels=64, out_channels=128, kernel_size=4, stride=2, padding=1, bias=False),\n",
    "            # add a max pooling layer\n",
    "            nn.MaxPool2d(kernel_size =3 , stride=1, padding=0),\n",
    "            nn.BatchNorm2d(128),\n",
    "            nn.LeakyReLU(0.2, inplace = True), \n",
    "            nn.Conv2d(128, 256, 4, 2, 1, bias = False), \n",
    "            nn.MaxPool2d(kernel_size =2 , stride=1, padding=0),\n",
    "            nn.BatchNorm2d(256), \n",
    "            nn.LeakyReLU(0.2, inplace = True), \n",
    "            nn.Conv2d(256, 512, 4, 2, 1, bias = False),\n",
    "            nn.BatchNorm2d(512), \n",
    "            nn.LeakyReLU(0.2, inplace = True), \n",
    "            nn.Conv2d(512, 10, 4, 1, 0, bias = False), \n",
    "            nn.Flatten(),\n",
    "            nn.Linear(160, 512),\n",
    "            nn.Dropout(p=0.2),\n",
    "            nn.Linear(512, 128),\n",
    "            nn.Dropout(p=0.2),\n",
    "            nn.Linear(128, 10),\n",
    "            nn.Softmax()\n",
    "        )\n",
    "        \n",
    "    def forward(self, input):\n",
    "        output = self.main(input)\n",
    "        return output"
   ]
  },
  {
   "cell_type": "code",
   "execution_count": 6,
   "metadata": {},
   "outputs": [
    {
     "data": {
      "text/plain": [
       "bulb_model(\n",
       "  (main): Sequential(\n",
       "    (0): Conv2d(3, 64, kernel_size=(4, 4), stride=(2, 2), padding=(1, 1), bias=False)\n",
       "    (1): LeakyReLU(negative_slope=0.2, inplace=True)\n",
       "    (2): Conv2d(64, 128, kernel_size=(4, 4), stride=(2, 2), padding=(1, 1), bias=False)\n",
       "    (3): MaxPool2d(kernel_size=3, stride=1, padding=0, dilation=1, ceil_mode=False)\n",
       "    (4): BatchNorm2d(128, eps=1e-05, momentum=0.1, affine=True, track_running_stats=True)\n",
       "    (5): LeakyReLU(negative_slope=0.2, inplace=True)\n",
       "    (6): Conv2d(128, 256, kernel_size=(4, 4), stride=(2, 2), padding=(1, 1), bias=False)\n",
       "    (7): MaxPool2d(kernel_size=2, stride=1, padding=0, dilation=1, ceil_mode=False)\n",
       "    (8): BatchNorm2d(256, eps=1e-05, momentum=0.1, affine=True, track_running_stats=True)\n",
       "    (9): LeakyReLU(negative_slope=0.2, inplace=True)\n",
       "    (10): Conv2d(256, 512, kernel_size=(4, 4), stride=(2, 2), padding=(1, 1), bias=False)\n",
       "    (11): BatchNorm2d(512, eps=1e-05, momentum=0.1, affine=True, track_running_stats=True)\n",
       "    (12): LeakyReLU(negative_slope=0.2, inplace=True)\n",
       "    (13): Conv2d(512, 10, kernel_size=(4, 4), stride=(1, 1), bias=False)\n",
       "    (14): Flatten()\n",
       "    (15): Linear(in_features=160, out_features=512, bias=True)\n",
       "    (16): Dropout(p=0.2, inplace=False)\n",
       "    (17): Linear(in_features=512, out_features=128, bias=True)\n",
       "    (18): Dropout(p=0.2, inplace=False)\n",
       "    (19): Linear(in_features=128, out_features=10, bias=True)\n",
       "    (20): Softmax(dim=None)\n",
       "  )\n",
       ")"
      ]
     },
     "execution_count": 6,
     "metadata": {},
     "output_type": "execute_result"
    }
   ],
   "source": [
    "classifier_1 = bulb_model()\n",
    "classifier_1.apply(weights_init)"
   ]
  },
  {
   "cell_type": "code",
   "execution_count": 7,
   "metadata": {},
   "outputs": [],
   "source": [
    "# print(classifier_1) will output the setup of the model. "
   ]
  },
  {
   "cell_type": "markdown",
   "metadata": {},
   "source": [
    "# Train classifier"
   ]
  },
  {
   "cell_type": "code",
   "execution_count": 8,
   "metadata": {},
   "outputs": [],
   "source": [
    "# create an optimiser for the classifier\n",
    "optimiser_bulb = optim.Adam(classifier_1.parameters(), lr=0.002, betas = (0.9,0.999))\n",
    "# Create a criterion. Lets use cross entropy loss. \n",
    "criterion = nn.CrossEntropyLoss(weight=None, size_average=None, ignore_index=-100, reduce=None, reduction='mean')"
   ]
  },
  {
   "cell_type": "code",
   "execution_count": 20,
   "metadata": {},
   "outputs": [
    {
     "name": "stdout",
     "output_type": "stream",
     "text": [
      "tensor([[0.0818, 0.0969, 0.0919, 0.1244, 0.1035, 0.0768, 0.1293, 0.1060, 0.1008,\n",
      "         0.0887],\n",
      "        [0.0885, 0.0882, 0.0915, 0.1034, 0.0768, 0.1255, 0.1183, 0.0875, 0.1146,\n",
      "         0.1055],\n",
      "        [0.0804, 0.0620, 0.1172, 0.1340, 0.0968, 0.0877, 0.1308, 0.1131, 0.1021,\n",
      "         0.0761],\n",
      "        [0.1193, 0.0943, 0.0670, 0.1103, 0.0972, 0.0630, 0.1377, 0.1222, 0.1033,\n",
      "         0.0859],\n",
      "        [0.0543, 0.0879, 0.1368, 0.0570, 0.0761, 0.0739, 0.1835, 0.0964, 0.1501,\n",
      "         0.0840],\n",
      "        [0.0673, 0.1524, 0.0767, 0.0649, 0.0859, 0.1129, 0.0924, 0.1307, 0.1238,\n",
      "         0.0932],\n",
      "        [0.0651, 0.1025, 0.0969, 0.0850, 0.0609, 0.1006, 0.1218, 0.1336, 0.1394,\n",
      "         0.0941],\n",
      "        [0.0766, 0.0644, 0.0529, 0.0803, 0.0557, 0.0567, 0.0813, 0.0838, 0.1368,\n",
      "         0.3115],\n",
      "        [0.0463, 0.1796, 0.0837, 0.0626, 0.0431, 0.0644, 0.1030, 0.0936, 0.1742,\n",
      "         0.1494],\n",
      "        [0.1219, 0.1101, 0.1143, 0.1133, 0.0756, 0.0948, 0.0902, 0.1070, 0.0844,\n",
      "         0.0883],\n",
      "        [0.1257, 0.0747, 0.1142, 0.1067, 0.0980, 0.0722, 0.1146, 0.0965, 0.1144,\n",
      "         0.0829],\n",
      "        [0.0668, 0.0833, 0.0619, 0.1255, 0.0735, 0.0663, 0.0645, 0.2673, 0.1114,\n",
      "         0.0795],\n",
      "        [0.0988, 0.0734, 0.1137, 0.1115, 0.1020, 0.1223, 0.1285, 0.0905, 0.0855,\n",
      "         0.0738],\n",
      "        [0.0527, 0.0772, 0.0621, 0.1033, 0.1204, 0.0891, 0.1756, 0.1504, 0.0911,\n",
      "         0.0781],\n",
      "        [0.0911, 0.0992, 0.0962, 0.0967, 0.0907, 0.0786, 0.1409, 0.1143, 0.0972,\n",
      "         0.0952],\n",
      "        [0.1046, 0.0873, 0.1324, 0.0956, 0.0511, 0.0785, 0.1309, 0.1187, 0.0891,\n",
      "         0.1118],\n",
      "        [0.0831, 0.0807, 0.0834, 0.1233, 0.1081, 0.0674, 0.1441, 0.1266, 0.0986,\n",
      "         0.0847],\n",
      "        [0.1451, 0.1269, 0.1003, 0.0118, 0.0484, 0.1012, 0.0374, 0.1816, 0.1333,\n",
      "         0.1140],\n",
      "        [0.0932, 0.0953, 0.0920, 0.1170, 0.0952, 0.1010, 0.1137, 0.1071, 0.0930,\n",
      "         0.0926],\n",
      "        [0.0948, 0.1126, 0.0645, 0.1023, 0.0564, 0.0992, 0.1202, 0.1283, 0.0986,\n",
      "         0.1231],\n",
      "        [0.0846, 0.1111, 0.0961, 0.0878, 0.0864, 0.0889, 0.1155, 0.1311, 0.1085,\n",
      "         0.0900],\n",
      "        [0.0895, 0.0843, 0.1005, 0.1046, 0.1005, 0.0885, 0.1089, 0.1306, 0.1042,\n",
      "         0.0884],\n",
      "        [0.0788, 0.1021, 0.0887, 0.0854, 0.0919, 0.0956, 0.1123, 0.1279, 0.1342,\n",
      "         0.0831],\n",
      "        [0.0844, 0.0833, 0.0881, 0.1223, 0.1015, 0.0905, 0.1096, 0.1053, 0.1054,\n",
      "         0.1095],\n",
      "        [0.0803, 0.0896, 0.1197, 0.1144, 0.1039, 0.0827, 0.1134, 0.0929, 0.1097,\n",
      "         0.0935],\n",
      "        [0.0973, 0.0950, 0.0529, 0.1482, 0.0707, 0.0978, 0.0287, 0.1287, 0.1664,\n",
      "         0.1143],\n",
      "        [0.1004, 0.1150, 0.1043, 0.1005, 0.0836, 0.0895, 0.1065, 0.1245, 0.0807,\n",
      "         0.0950],\n",
      "        [0.0797, 0.0810, 0.1052, 0.1431, 0.0942, 0.0858, 0.1359, 0.1158, 0.0945,\n",
      "         0.0649],\n",
      "        [0.0693, 0.0876, 0.0864, 0.0918, 0.0698, 0.0832, 0.2012, 0.0741, 0.1254,\n",
      "         0.1114],\n",
      "        [0.0786, 0.0971, 0.1139, 0.1178, 0.0353, 0.0536, 0.1212, 0.2021, 0.1082,\n",
      "         0.0723],\n",
      "        [0.0874, 0.0970, 0.0910, 0.0816, 0.0800, 0.0895, 0.1501, 0.1012, 0.1013,\n",
      "         0.1209],\n",
      "        [0.0948, 0.0802, 0.1014, 0.1116, 0.1077, 0.0943, 0.1256, 0.1034, 0.0976,\n",
      "         0.0833],\n",
      "        [0.0900, 0.1264, 0.0388, 0.0608, 0.0318, 0.1484, 0.0764, 0.2267, 0.0731,\n",
      "         0.1277],\n",
      "        [0.0441, 0.0651, 0.1200, 0.0845, 0.0677, 0.0910, 0.1690, 0.2079, 0.0808,\n",
      "         0.0699],\n",
      "        [0.0503, 0.0866, 0.1222, 0.0830, 0.1539, 0.1638, 0.0903, 0.1289, 0.0758,\n",
      "         0.0453],\n",
      "        [0.0713, 0.0455, 0.0333, 0.0597, 0.0196, 0.0270, 0.1000, 0.2438, 0.1846,\n",
      "         0.2152],\n",
      "        [0.1111, 0.0662, 0.1002, 0.0772, 0.0871, 0.0805, 0.1252, 0.1262, 0.1325,\n",
      "         0.0940],\n",
      "        [0.1041, 0.0824, 0.1302, 0.0836, 0.0864, 0.0872, 0.1181, 0.1382, 0.0803,\n",
      "         0.0895],\n",
      "        [0.0824, 0.0974, 0.0743, 0.1296, 0.1065, 0.0707, 0.1173, 0.1104, 0.1297,\n",
      "         0.0817],\n",
      "        [0.1199, 0.0856, 0.0934, 0.1278, 0.0735, 0.0959, 0.1758, 0.0885, 0.0642,\n",
      "         0.0754],\n",
      "        [0.1027, 0.0566, 0.1022, 0.0773, 0.0755, 0.1940, 0.1070, 0.0894, 0.0709,\n",
      "         0.1244],\n",
      "        [0.0759, 0.1192, 0.1036, 0.1022, 0.0718, 0.0873, 0.1159, 0.1490, 0.0914,\n",
      "         0.0838],\n",
      "        [0.0801, 0.0862, 0.1440, 0.0968, 0.0893, 0.0628, 0.1089, 0.1195, 0.0845,\n",
      "         0.1279],\n",
      "        [0.0857, 0.0791, 0.1192, 0.0800, 0.0807, 0.1036, 0.1213, 0.1207, 0.1051,\n",
      "         0.1046],\n",
      "        [0.0773, 0.0800, 0.1238, 0.1014, 0.0797, 0.1049, 0.0963, 0.0826, 0.1089,\n",
      "         0.1451],\n",
      "        [0.0873, 0.0904, 0.0997, 0.1119, 0.1037, 0.0970, 0.1281, 0.1001, 0.0993,\n",
      "         0.0825],\n",
      "        [0.1654, 0.1250, 0.0397, 0.0450, 0.0083, 0.0554, 0.1046, 0.0421, 0.1860,\n",
      "         0.2285],\n",
      "        [0.0854, 0.0692, 0.0942, 0.1303, 0.0952, 0.0819, 0.1478, 0.0988, 0.0961,\n",
      "         0.1011],\n",
      "        [0.0827, 0.0931, 0.1056, 0.1086, 0.0942, 0.0754, 0.1433, 0.1175, 0.1029,\n",
      "         0.0768],\n",
      "        [0.0849, 0.1168, 0.0777, 0.1066, 0.0624, 0.0909, 0.1500, 0.0963, 0.1186,\n",
      "         0.0957],\n",
      "        [0.0870, 0.0894, 0.0948, 0.1189, 0.1008, 0.1068, 0.1118, 0.1060, 0.1137,\n",
      "         0.0709],\n",
      "        [0.0797, 0.1448, 0.1090, 0.0939, 0.0618, 0.0612, 0.0904, 0.1313, 0.1276,\n",
      "         0.1003],\n",
      "        [0.0728, 0.1474, 0.1079, 0.0507, 0.0382, 0.0692, 0.0814, 0.2403, 0.1159,\n",
      "         0.0763],\n",
      "        [0.1234, 0.0862, 0.0956, 0.1200, 0.0963, 0.0762, 0.0739, 0.1263, 0.1226,\n",
      "         0.0795],\n",
      "        [0.0981, 0.0785, 0.0670, 0.0777, 0.0887, 0.1128, 0.0910, 0.1292, 0.1343,\n",
      "         0.1228],\n",
      "        [0.0684, 0.0590, 0.2771, 0.0442, 0.0441, 0.0813, 0.0593, 0.2284, 0.0724,\n",
      "         0.0657],\n",
      "        [0.0690, 0.1077, 0.0847, 0.0927, 0.0848, 0.0908, 0.1076, 0.1415, 0.1555,\n",
      "         0.0657],\n",
      "        [0.0973, 0.0822, 0.0773, 0.1270, 0.0715, 0.0823, 0.1548, 0.0919, 0.1315,\n",
      "         0.0843],\n",
      "        [0.1568, 0.0607, 0.1066, 0.1461, 0.0746, 0.0813, 0.1081, 0.0865, 0.0755,\n",
      "         0.1038],\n",
      "        [0.1063, 0.1354, 0.0682, 0.1125, 0.0778, 0.0973, 0.0858, 0.0902, 0.1350,\n",
      "         0.0915],\n",
      "        [0.0835, 0.0798, 0.0881, 0.1372, 0.0653, 0.0983, 0.1273, 0.1537, 0.0830,\n",
      "         0.0839],\n",
      "        [0.0594, 0.0789, 0.0506, 0.0963, 0.1304, 0.1109, 0.2108, 0.0887, 0.0487,\n",
      "         0.1253],\n",
      "        [0.0850, 0.0895, 0.1135, 0.0939, 0.1090, 0.0802, 0.1398, 0.0952, 0.1066,\n",
      "         0.0874],\n",
      "        [0.0867, 0.0887, 0.1175, 0.0956, 0.1200, 0.0941, 0.1272, 0.1011, 0.0877,\n",
      "         0.0815]], grad_fn=<SoftmaxBackward>)\n",
      "torch.Size([64, 10])\n",
      "tensor([1, 0, 0, 1, 4, 4, 5, 0, 1, 0, 3, 0, 6, 4, 5, 3, 1, 4, 7, 7, 7, 6, 3, 7,\n",
      "        7, 2, 5, 1, 7, 6, 1, 4, 1, 4, 5, 1, 2, 3, 3, 4, 6, 2, 7, 4, 4, 2, 0, 2,\n",
      "        6, 0, 4, 4, 2, 3, 2, 5, 7, 2, 3, 7, 4, 6, 2, 2])\n"
     ]
    }
   ],
   "source": [
    "for epoch in range(1):\n",
    "\n",
    "    for data, labels in dataloader:\n",
    "        i = 1\n",
    "        # push the image through the network\n",
    "        prediction = classifier_1(data)\n",
    "        print(prediction)\n",
    "        print(prediction.shape)\n",
    "        print(labels)\n",
    "        if i == 1:\n",
    "            break"
   ]
  },
  {
   "cell_type": "code",
   "execution_count": 11,
   "metadata": {},
   "outputs": [
    {
     "name": "stdout",
     "output_type": "stream",
     "text": [
      "[0/25][1/71] Loss: 2.3081\n",
      "[0/25][2/71] Loss: 2.3338\n"
     ]
    },
    {
     "ename": "OSError",
     "evalue": "Caught OSError in DataLoader worker process 0.\nOriginal Traceback (most recent call last):\n  File \"C:\\Users\\awalker8\\AppData\\Local\\Continuum\\anaconda3\\lib\\site-packages\\torch\\utils\\data\\_utils\\worker.py\", line 178, in _worker_loop\n    data = fetcher.fetch(index)\n  File \"C:\\Users\\awalker8\\AppData\\Local\\Continuum\\anaconda3\\lib\\site-packages\\torch\\utils\\data\\_utils\\fetch.py\", line 44, in fetch\n    data = [self.dataset[idx] for idx in possibly_batched_index]\n  File \"C:\\Users\\awalker8\\AppData\\Local\\Continuum\\anaconda3\\lib\\site-packages\\torch\\utils\\data\\_utils\\fetch.py\", line 44, in <listcomp>\n    data = [self.dataset[idx] for idx in possibly_batched_index]\n  File \"C:\\Users\\awalker8\\AppData\\Local\\Continuum\\anaconda3\\lib\\site-packages\\torchvision\\datasets\\folder.py\", line 138, in __getitem__\n    sample = self.loader(path)\n  File \"C:\\Users\\awalker8\\AppData\\Local\\Continuum\\anaconda3\\lib\\site-packages\\torchvision\\datasets\\folder.py\", line 174, in default_loader\n    return pil_loader(path)\n  File \"C:\\Users\\awalker8\\AppData\\Local\\Continuum\\anaconda3\\lib\\site-packages\\torchvision\\datasets\\folder.py\", line 156, in pil_loader\n    img = Image.open(f)\n  File \"C:\\Users\\awalker8\\AppData\\Local\\Continuum\\anaconda3\\lib\\site-packages\\PIL\\Image.py\", line 2687, in open\n    % (filename if filename else fp))\nOSError: cannot identify image file <_io.BufferedReader name='C:\\\\Users\\\\awalker8\\\\Documents\\\\COVID_Furlow\\\\bulb_class\\\\bulb_data\\\\E14\\\\ledare-led-bulb-e14-400-lumen-warm-dimming-chandelier-clear__0557806_PE661004_S5JPG.jpg'>\n",
     "output_type": "error",
     "traceback": [
      "\u001b[1;31m---------------------------------------------------------------------------\u001b[0m",
      "\u001b[1;31mOSError\u001b[0m                                   Traceback (most recent call last)",
      "\u001b[1;32m<ipython-input-11-d6a325ca6197>\u001b[0m in \u001b[0;36m<module>\u001b[1;34m\u001b[0m\n\u001b[0;32m      1\u001b[0m \u001b[1;32mfor\u001b[0m \u001b[0mepoch\u001b[0m \u001b[1;32min\u001b[0m \u001b[0mrange\u001b[0m\u001b[1;33m(\u001b[0m\u001b[1;36m1\u001b[0m\u001b[1;33m)\u001b[0m\u001b[1;33m:\u001b[0m\u001b[1;33m\u001b[0m\u001b[1;33m\u001b[0m\u001b[0m\n\u001b[0;32m      2\u001b[0m     \u001b[0mi\u001b[0m \u001b[1;33m=\u001b[0m \u001b[1;36m1\u001b[0m\u001b[1;33m\u001b[0m\u001b[1;33m\u001b[0m\u001b[0m\n\u001b[1;32m----> 3\u001b[1;33m     \u001b[1;32mfor\u001b[0m \u001b[0mdata\u001b[0m\u001b[1;33m,\u001b[0m \u001b[0mlabels\u001b[0m \u001b[1;32min\u001b[0m \u001b[0mdataloader\u001b[0m\u001b[1;33m:\u001b[0m\u001b[1;33m\u001b[0m\u001b[1;33m\u001b[0m\u001b[0m\n\u001b[0m\u001b[0;32m      4\u001b[0m \u001b[1;33m\u001b[0m\u001b[0m\n\u001b[0;32m      5\u001b[0m         \u001b[1;31m# push the image through the network\u001b[0m\u001b[1;33m\u001b[0m\u001b[1;33m\u001b[0m\u001b[1;33m\u001b[0m\u001b[0m\n",
      "\u001b[1;32m~\\AppData\\Local\\Continuum\\anaconda3\\lib\\site-packages\\torch\\utils\\data\\dataloader.py\u001b[0m in \u001b[0;36m__next__\u001b[1;34m(self)\u001b[0m\n\u001b[0;32m    817\u001b[0m             \u001b[1;32melse\u001b[0m\u001b[1;33m:\u001b[0m\u001b[1;33m\u001b[0m\u001b[1;33m\u001b[0m\u001b[0m\n\u001b[0;32m    818\u001b[0m                 \u001b[1;32mdel\u001b[0m \u001b[0mself\u001b[0m\u001b[1;33m.\u001b[0m\u001b[0m_task_info\u001b[0m\u001b[1;33m[\u001b[0m\u001b[0midx\u001b[0m\u001b[1;33m]\u001b[0m\u001b[1;33m\u001b[0m\u001b[1;33m\u001b[0m\u001b[0m\n\u001b[1;32m--> 819\u001b[1;33m                 \u001b[1;32mreturn\u001b[0m \u001b[0mself\u001b[0m\u001b[1;33m.\u001b[0m\u001b[0m_process_data\u001b[0m\u001b[1;33m(\u001b[0m\u001b[0mdata\u001b[0m\u001b[1;33m)\u001b[0m\u001b[1;33m\u001b[0m\u001b[1;33m\u001b[0m\u001b[0m\n\u001b[0m\u001b[0;32m    820\u001b[0m \u001b[1;33m\u001b[0m\u001b[0m\n\u001b[0;32m    821\u001b[0m     \u001b[0mnext\u001b[0m \u001b[1;33m=\u001b[0m \u001b[0m__next__\u001b[0m  \u001b[1;31m# Python 2 compatibility\u001b[0m\u001b[1;33m\u001b[0m\u001b[1;33m\u001b[0m\u001b[0m\n",
      "\u001b[1;32m~\\AppData\\Local\\Continuum\\anaconda3\\lib\\site-packages\\torch\\utils\\data\\dataloader.py\u001b[0m in \u001b[0;36m_process_data\u001b[1;34m(self, data)\u001b[0m\n\u001b[0;32m    844\u001b[0m         \u001b[0mself\u001b[0m\u001b[1;33m.\u001b[0m\u001b[0m_try_put_index\u001b[0m\u001b[1;33m(\u001b[0m\u001b[1;33m)\u001b[0m\u001b[1;33m\u001b[0m\u001b[1;33m\u001b[0m\u001b[0m\n\u001b[0;32m    845\u001b[0m         \u001b[1;32mif\u001b[0m \u001b[0misinstance\u001b[0m\u001b[1;33m(\u001b[0m\u001b[0mdata\u001b[0m\u001b[1;33m,\u001b[0m \u001b[0mExceptionWrapper\u001b[0m\u001b[1;33m)\u001b[0m\u001b[1;33m:\u001b[0m\u001b[1;33m\u001b[0m\u001b[1;33m\u001b[0m\u001b[0m\n\u001b[1;32m--> 846\u001b[1;33m             \u001b[0mdata\u001b[0m\u001b[1;33m.\u001b[0m\u001b[0mreraise\u001b[0m\u001b[1;33m(\u001b[0m\u001b[1;33m)\u001b[0m\u001b[1;33m\u001b[0m\u001b[1;33m\u001b[0m\u001b[0m\n\u001b[0m\u001b[0;32m    847\u001b[0m         \u001b[1;32mreturn\u001b[0m \u001b[0mdata\u001b[0m\u001b[1;33m\u001b[0m\u001b[1;33m\u001b[0m\u001b[0m\n\u001b[0;32m    848\u001b[0m \u001b[1;33m\u001b[0m\u001b[0m\n",
      "\u001b[1;32m~\\AppData\\Local\\Continuum\\anaconda3\\lib\\site-packages\\torch\\_utils.py\u001b[0m in \u001b[0;36mreraise\u001b[1;34m(self)\u001b[0m\n\u001b[0;32m    383\u001b[0m             \u001b[1;31m# (https://bugs.python.org/issue2651), so we work around it.\u001b[0m\u001b[1;33m\u001b[0m\u001b[1;33m\u001b[0m\u001b[1;33m\u001b[0m\u001b[0m\n\u001b[0;32m    384\u001b[0m             \u001b[0mmsg\u001b[0m \u001b[1;33m=\u001b[0m \u001b[0mKeyErrorMessage\u001b[0m\u001b[1;33m(\u001b[0m\u001b[0mmsg\u001b[0m\u001b[1;33m)\u001b[0m\u001b[1;33m\u001b[0m\u001b[1;33m\u001b[0m\u001b[0m\n\u001b[1;32m--> 385\u001b[1;33m         \u001b[1;32mraise\u001b[0m \u001b[0mself\u001b[0m\u001b[1;33m.\u001b[0m\u001b[0mexc_type\u001b[0m\u001b[1;33m(\u001b[0m\u001b[0mmsg\u001b[0m\u001b[1;33m)\u001b[0m\u001b[1;33m\u001b[0m\u001b[1;33m\u001b[0m\u001b[0m\n\u001b[0m",
      "\u001b[1;31mOSError\u001b[0m: Caught OSError in DataLoader worker process 0.\nOriginal Traceback (most recent call last):\n  File \"C:\\Users\\awalker8\\AppData\\Local\\Continuum\\anaconda3\\lib\\site-packages\\torch\\utils\\data\\_utils\\worker.py\", line 178, in _worker_loop\n    data = fetcher.fetch(index)\n  File \"C:\\Users\\awalker8\\AppData\\Local\\Continuum\\anaconda3\\lib\\site-packages\\torch\\utils\\data\\_utils\\fetch.py\", line 44, in fetch\n    data = [self.dataset[idx] for idx in possibly_batched_index]\n  File \"C:\\Users\\awalker8\\AppData\\Local\\Continuum\\anaconda3\\lib\\site-packages\\torch\\utils\\data\\_utils\\fetch.py\", line 44, in <listcomp>\n    data = [self.dataset[idx] for idx in possibly_batched_index]\n  File \"C:\\Users\\awalker8\\AppData\\Local\\Continuum\\anaconda3\\lib\\site-packages\\torchvision\\datasets\\folder.py\", line 138, in __getitem__\n    sample = self.loader(path)\n  File \"C:\\Users\\awalker8\\AppData\\Local\\Continuum\\anaconda3\\lib\\site-packages\\torchvision\\datasets\\folder.py\", line 174, in default_loader\n    return pil_loader(path)\n  File \"C:\\Users\\awalker8\\AppData\\Local\\Continuum\\anaconda3\\lib\\site-packages\\torchvision\\datasets\\folder.py\", line 156, in pil_loader\n    img = Image.open(f)\n  File \"C:\\Users\\awalker8\\AppData\\Local\\Continuum\\anaconda3\\lib\\site-packages\\PIL\\Image.py\", line 2687, in open\n    % (filename if filename else fp))\nOSError: cannot identify image file <_io.BufferedReader name='C:\\\\Users\\\\awalker8\\\\Documents\\\\COVID_Furlow\\\\bulb_class\\\\bulb_data\\\\E14\\\\ledare-led-bulb-e14-400-lumen-warm-dimming-chandelier-clear__0557806_PE661004_S5JPG.jpg'>\n"
     ]
    }
   ],
   "source": [
    "for epoch in range(1):\n",
    "    i = 1\n",
    "    for data, labels in dataloader:\n",
    "     \n",
    "        # push the image through the network\n",
    "        prediction = classifier_1(data)\n",
    "        \n",
    "        error = criterion(prediction, labels)\n",
    "        print('[%d/%d][%d/%d] Loss: %.4f' % (epoch, 25, i, len(dataloader),error))\n",
    "  \n",
    "        # zero grad\n",
    "        classifier_1.zero_grad()\n",
    "        error.backward()\n",
    "        optimiser_bulb.step()\n",
    "        \n",
    "        #if i == 10:\n",
    "        #   break\n",
    "            \n",
    "        i = i + 1"
   ]
  },
  {
   "cell_type": "code",
   "execution_count": null,
   "metadata": {},
   "outputs": [],
   "source": [
    "def show_image(image):\n",
    "    \"\"\"Show image with landmarks\"\"\"\n",
    "    plt.imshow(image)\n",
    "    plt.pause(0.001)  # pause a bit so that plots are updated"
   ]
  },
  {
   "cell_type": "code",
   "execution_count": null,
   "metadata": {},
   "outputs": [],
   "source": [
    "plt.figure()\n",
    "show_image(io.imread(os.path.join('C:\\\\Users\\\\awalker8\\\\Documents\\\\COVID_Furlow\\\\bulb_class\\\\bulb_data\\\\E14\\\\', 'ledare-led-bulb-e14-400-lumen-warm-dimming-chandelier-clear__0557806_PE661004_S5JPG.jpg')))\n",
    "plt.show()"
   ]
  },
  {
   "cell_type": "markdown",
   "metadata": {},
   "source": [
    "# Would be good to be able to show images from the loader whenever we fancy. Why can't i get this to work :()"
   ]
  },
  {
   "cell_type": "code",
   "execution_count": 6,
   "metadata": {},
   "outputs": [
    {
     "data": {
      "image/png": "[encoded data removed]",
      "text/plain": [
       "<PIL.Image.Image image mode=RGB size=64x64 at 0x21F37F79828>"
      ]
     },
     "execution_count": 6,
     "metadata": {},
     "output_type": "execute_result"
    }
   ],
   "source": [
    "# View images from the dataloader. \n",
    "from torchvision.transforms import ToPILImage\n",
    "from IPython.display import Image\n",
    "to_img = ToPILImage()\n",
    "\n",
    "# display tensor\n",
    "a = torch.Tensor(3, 64, 64).normal_()\n",
    "to_img(a)"
   ]
  },
  {
   "cell_type": "code",
   "execution_count": 7,
   "metadata": {},
   "outputs": [],
   "source": [
    "# Helper function to show a batch\n",
    "def show_bulb_batch(sample_batched):\n",
    "    \n",
    "    \"\"\"Show image for a batch of samples.\"\"\"\n",
    "    images_batch = sample_batched[0][1]\n",
    "    batch_size = len(images_batch)\n",
    "    im_size = images_batch.size(2)\n",
    "    grid_border_size = 2\n",
    "\n",
    "    grid = utils.make_grid(images_batch)\n",
    "    plt.imshow(grid.numpy().transpose((1, 2, 0)))\n",
    "\n",
    "    plt.title('Batch from dataloader')\n"
   ]
  },
  {
   "cell_type": "code",
   "execution_count": 8,
   "metadata": {},
   "outputs": [],
   "source": [
    "# for i_batch, sample_batched in enumerate(dataloader):\n",
    "#     print(i_batch)\n",
    "#     print(sample_batched[0][1].shape)\n",
    "#     #ToPILImage(sample_batched[0][1])\n",
    "#     #to_img(sample_batched[0][1])\n",
    "    \n",
    "#     if i_batch ==3:\n",
    "#         break"
   ]
  },
  {
   "cell_type": "code",
   "execution_count": 9,
   "metadata": {},
   "outputs": [],
   "source": [
    "import matplotlib.pyplot as plt"
   ]
  },
  {
   "cell_type": "code",
   "execution_count": null,
   "metadata": {},
   "outputs": [],
   "source": [
    "for i_batch, sample_batched in enumerate(dataloader):\n",
    "    print(i_batch, sample_batched[0].size())\n",
    "\n",
    "    # observe 4th batch and stop.\n",
    "    if i_batch == 1:\n",
    "        plt.figure()\n",
    "        show_bulb_batch(sample_batched)\n",
    "        plt.axis('off')\n",
    "        plt.ioff()\n",
    "        plt.show()\n",
    "        break"
   ]
  },
  {
   "cell_type": "code",
   "execution_count": null,
   "metadata": {},
   "outputs": [],
   "source": []
  }
 ],
 "metadata": {
  "kernelspec": {
   "display_name": "Python 3",
   "language": "python",
   "name": "python3"
  },
  "language_info": {
   "codemirror_mode": {
    "name": "ipython",
    "version": 3
   },
   "file_extension": ".py",
   "mimetype": "text/x-python",
   "name": "python",
   "nbconvert_exporter": "python",
   "pygments_lexer": "ipython3",
   "version": "3.6.8"
  }
 },
 "nbformat": 4,
 "nbformat_minor": 2
}
