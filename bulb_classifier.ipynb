{
 "cells": [
  {
   "cell_type": "markdown",
   "metadata": {},
   "source": [
    "# Light Bulb Detector\n",
    "\n",
    "Detecting which lightbulb you have from a phone picture to make changing your lights to energy efficient solutions really easy.\n",
    "\n",
    "### Notebook: Simple Classifier\n",
    "\n",
    "Approach the problem as a image classification problem. \n",
    "\n",
    "1. Datasets\n",
    "2. Trained from Scratch Classifier (2 classes)\n",
    "3. Transfer Learning Classifier (2 classes)\n",
    "4. Transfer Learning Classifier (8 classes)\n",
    "\n",
    "\n",
    "Background: What are some of the different lightbulbs.\n",
    "\n",
    "E27<br>\n",
    "E14<br>\n",
    "B22<br>\n",
    "B15<br>\n",
    "GU10<br>\n",
    "G4<br>\n",
    "G9<br>\n",
    "MR16<br>\n",
    "\n",
    "Dataset creation: Gathered images using the 'ZIP' chrome add on from a google search of the bulb type. \n",
    "\n",
    "Dataset sizes - about 500 images of each class\n",
    "\n",
    "Dataset quality is not very good. Some images have multiple images of the same bulb, mostly white backgrounds and some cases where you get a picture of the box. "
   ]
  },
  {
   "cell_type": "code",
   "execution_count": 10,
   "metadata": {},
   "outputs": [],
   "source": [
    "import pandas as pd\n",
    "import numpy as np\n",
    "import itertools\n",
    "import os \n",
    "\n",
    "import torch\n",
    "import torch.nn as nn\n",
    "from torch.utils.data import Dataset, DataLoader\n",
    "from torchvision import transforms, datasets\n",
    "import torchvision.utils as utils\n",
    "import torch.optim as optim\n",
    "import torchvision.utils as vutils\n",
    "import matplotlib.image as mpimg\n",
    "import torchvision\n",
    "from torchvision import models\n",
    "\n",
    "import matplotlib.pyplot as plt\n",
    "\n",
    "from PIL import ImageFile\n",
    "ImageFile.LOAD_TRUNCATED_IMAGES = True\n",
    "\n",
    "from torch.utils.data import SubsetRandomSampler\n",
    "from sklearn.metrics import confusion_matrix\n",
    "from sklearn.metrics import plot_confusion_matrix\n",
    "import matplotlib.pyplot as plt\n",
    "\n",
    "%matplotlib inline"
   ]
  },
  {
   "cell_type": "markdown",
   "metadata": {},
   "source": [
    "# Datasets"
   ]
  },
  {
   "cell_type": "code",
   "execution_count": 2,
   "metadata": {},
   "outputs": [],
   "source": [
    "# TODO Replace file location with automated"
   ]
  },
  {
   "cell_type": "code",
   "execution_count": 3,
   "metadata": {},
   "outputs": [],
   "source": [
    "folders = ['B15','B22','E14', 'E27', 'G4', 'G9','GU10', 'MR16']\n",
    "\n",
    "def file_rename(folders):\n",
    "    '''\n",
    "    Function to rename all files taken from the internet from training. Used to rename\n",
    "    all the file names to avoid really long file names and make it easier to know which\n",
    "    bulb it is.\n",
    "    \n",
    "    Could be made more generic for other projects. Eg move out the base location into a parameter.\n",
    "    \n",
    "    input - folder names\n",
    "    \n",
    "    output - all files renamed in place. \n",
    "    \n",
    "    '''\n",
    "    \n",
    "    for bulb_type in folders:\n",
    "\n",
    "        location = r\"C:\\Users\\awalker8\\Documents\\COVID_Furlow\\bulb_class\\bulb_data\"\n",
    "        location = location + '\\\\' + bulb_type + '\\\\'\n",
    "        print(location)\n",
    "        for count, filename in enumerate(os.listdir(location)): \n",
    "            dst = bulb_type + str(count) + \".jpg\"\n",
    "            src = location + filename \n",
    "            dst = location + dst  \n",
    "            os.rename(src, dst) "
   ]
  },
  {
   "cell_type": "code",
   "execution_count": 4,
   "metadata": {},
   "outputs": [],
   "source": [
    "def create_separate_train_dev_test( dataset, percentages = [0.8,0.1,0.1]):\n",
    "    '''\n",
    "    Function to create separate dataloaders for test dev and train.\n",
    "    \n",
    "    Inputs - list of percentage breakdowns [train, dev , test] Must add to 1. \n",
    "    # Add in test to check for this ~\n",
    "    \n",
    "    Outputs - each dataloader.\n",
    "    \n",
    "    '''\n",
    "\n",
    "    indices = list(range(len(dataset)))\n",
    "    train_amount =0.8\n",
    "    dev = 0.1\n",
    "    test = 0.1\n",
    "\n",
    "    split_1 = int(np.floor(len(dataset)*0.8))\n",
    "    split_2 = int(np.floor(len(dataset)*0.9))\n",
    "\n",
    "    np.random.seed(0)\n",
    "    np.random.shuffle(indices)\n",
    "\n",
    "    train_indices, dev_indices, test_indices = indices[:split_1], indices[split_1:split_2],indices[split_2:]\n",
    "\n",
    "    train_sampler = SubsetRandomSampler(train_indices)\n",
    "    dev_sampler = SubsetRandomSampler(dev_indices)\n",
    "    test_sampler = SubsetRandomSampler(test_indices)\n",
    "\n",
    "    dataloader_train = torch.utils.data.DataLoader(dataset,\n",
    "                                                 batch_size=64,\n",
    "                                                 num_workers=0 , sampler = train_sampler)\n",
    "\n",
    "    dataloader_dev = torch.utils.data.DataLoader(dataset,\n",
    "                                                 batch_size=4,\n",
    "                                                 num_workers=0 , sampler = dev_sampler)\n",
    "\n",
    "    dataloader_test = torch.utils.data.DataLoader(dataset,\n",
    "                                                 batch_size=4,\n",
    "                                                 num_workers=0 , sampler = test_sampler)\n",
    "    \n",
    "    return dataloader_train, dataloader_dev, dataloader_test"
   ]
  },
  {
   "cell_type": "code",
   "execution_count": 5,
   "metadata": {},
   "outputs": [],
   "source": [
    "def imshow(img):\n",
    "    img = img / 2 + 0.5     # unnormalize\n",
    "    npimg = img.numpy()\n",
    "    plt.imshow(np.transpose(npimg, (1, 2, 0)))\n",
    "    plt.show()"
   ]
  },
  {
   "cell_type": "code",
   "execution_count": 6,
   "metadata": {},
   "outputs": [],
   "source": [
    "# Create a pytorch dataset, and then dataloader to allow for mini-batch processing. \n",
    "# We can't use random crops as it might cut off the connector\n",
    "\n",
    "data_transform = transforms.Compose([\n",
    "        transforms.Resize((64,64)),\n",
    "        transforms.ToTensor(),\n",
    "        transforms.Normalize(mean=[0.5, 0.5, 0.5],std=[0.5, 0.5, 0.5])\n",
    "        ])\n",
    "    \n",
    "light_bulbs = datasets.ImageFolder(root=r'C:\\Users\\awalker8\\Documents\\COVID_Furlow\\bulb_class\\bulb_data',\n",
    "                                           transform=data_transform)\n",
    "\n",
    "classes = light_bulbs.classes"
   ]
  },
  {
   "cell_type": "code",
   "execution_count": 7,
   "metadata": {},
   "outputs": [],
   "source": [
    "train, dev, test = create_separate_train_dev_test(light_bulbs, percentages = [0.8,0.1,0.1])"
   ]
  },
  {
   "cell_type": "code",
   "execution_count": 8,
   "metadata": {},
   "outputs": [
    {
     "data": {
      "image/png": "[encoded data removed]",
      "text/plain": [
       "<Figure size 432x288 with 1 Axes>"
      ]
     },
     "metadata": {
      "needs_background": "light"
     },
     "output_type": "display_data"
    },
    {
     "name": "stdout",
     "output_type": "stream",
     "text": [
      "GroundTruth:    B15   B22   B15  MR16\n"
     ]
    }
   ],
   "source": [
    "dataiter = iter(test)\n",
    "images, labels = dataiter.next()\n",
    "\n",
    "# print images\n",
    "imshow(torchvision.utils.make_grid(images))\n",
    "print('GroundTruth: ', ' '.join('%5s' % classes[labels[j]] for j in range(4)))"
   ]
  },
  {
   "cell_type": "markdown",
   "metadata": {},
   "source": [
    "# Model"
   ]
  },
  {
   "cell_type": "code",
   "execution_count": 48,
   "metadata": {},
   "outputs": [],
   "source": [
    "class BulbModel(nn.Module):\n",
    "    \n",
    "    '''\n",
    "    class which defines the bulb classifier, forward prop, training and inference methods\n",
    "    \n",
    "    '''\n",
    "    \n",
    "    def __init__(self, num_classes):\n",
    "        super(BulbModel, self).__init__()\n",
    "        \n",
    "        '''\n",
    "        Initialise the model architecture\n",
    "        '''\n",
    "    \n",
    "        self.main = nn.Sequential(\n",
    "            nn.Conv2d(in_channels=3, out_channels=64, kernel_size=4, stride=1, padding=1, bias=False),\n",
    "            nn.LeakyReLU(0.2, inplace=True),\n",
    "            nn.Conv2d(in_channels=64, out_channels=128, kernel_size=4, stride=2, padding=1, bias=False),\n",
    "            nn.MaxPool2d(kernel_size =3 , stride=1, padding=0),\n",
    "            nn.BatchNorm2d(128),\n",
    "            nn.LeakyReLU(0.2, inplace = True), \n",
    "            nn.Conv2d(128, 256, 4, 2, 1, bias = False), \n",
    "            nn.MaxPool2d(kernel_size =2 , stride=1, padding=0),\n",
    "            nn.BatchNorm2d(256), \n",
    "            nn.LeakyReLU(0.2, inplace = True), \n",
    "            nn.Conv2d(256, 512, 4, 2, 1, bias = False),\n",
    "            nn.BatchNorm2d(512), \n",
    "            nn.LeakyReLU(0.2, inplace = True), \n",
    "            nn.Conv2d(512, 10, 4, 1, 0, bias = False), \n",
    "            nn.Flatten(),\n",
    "            nn.Linear(90, 128),\n",
    "            nn.Dropout(p=0.2),\n",
    "            nn.Linear(128, num_classes),\n",
    "            nn.Softmax()\n",
    "        )\n",
    "        # Create a criterion. Lets use cross entropy loss. \n",
    "        self.criterion = nn.CrossEntropyLoss(weight=None, size_average=None, ignore_index=-100, reduce=None, reduction='mean')\n",
    "        # create an optimiser for the classifier\n",
    "        self.optimiser = optim.Adam(self.main.parameters(), lr=0.0001, betas = (0.9,0.999))\n",
    "        \n",
    "    def forward(self, input):\n",
    "        '''\n",
    "        Use to push an image through the network. \n",
    "        input is going to be an 3 channel image\n",
    "        '''\n",
    "        output = self.main(input)\n",
    "        return output\n",
    "    \n",
    "   \n",
    "    def weights_init(self):\n",
    "        '''\n",
    "        Defining the weights_init function that takes as input a neural network\n",
    "        m and that will initialize all its weights.\n",
    "        '''\n",
    "        classname = self.__class__.__name__\n",
    "        if classname.find('Conv') != -1:\n",
    "            self.weight.data.normal_(0.0, 0.02)\n",
    "        elif classname.find('BatchNorm') != -1:\n",
    "            self.weight.data.normal_(1.0, 0.02)\n",
    "            self.bias.data.fill_(0)\n",
    "    \n",
    "    def classifer_train(self, epochs_total, train):\n",
    "        '''\n",
    "        Function to train classifier based on training data and set epochs\n",
    "        inputs: \n",
    "            - classifer\n",
    "            - number of training epochs\n",
    "            - training data\n",
    "        '''\n",
    "        error_monitoring = []\n",
    "\n",
    "        for epoch in range(epochs_total):\n",
    "            i = 1\n",
    "            for data, labels in train:\n",
    "\n",
    "                # create the prediction using the classifier\n",
    "                prediction = self.forward(data)\n",
    "                error = self.criterion(prediction, labels)\n",
    "                #print('[%d/%d][%d/%d] Loss: %.4f' % (epoch, epochs_total, i, len(train),error))\n",
    "\n",
    "                # Update the weights\n",
    "                self.zero_grad()\n",
    "                error.backward()\n",
    "                self.optimiser.step()\n",
    "\n",
    "                i = i + 1\n",
    "\n",
    "            #for each epoch record the final error\n",
    "            error_monitoring.append(error)\n",
    "            print('[%d/%d][%d/%d] Loss: %.4f' % (epoch, epochs_total, i, len(train),error))\n",
    "            \n",
    "    def inference(self, dataset_to_test_against):\n",
    "        \n",
    "        '''\n",
    "        function to test how good the model\n",
    "        input - dataset you want to test against\n",
    "        \n",
    "        output - confusion matrix and recall precision. \n",
    "        '''\n",
    "        predictions_total = []\n",
    "        labels_total = []\n",
    "\n",
    "        with torch.no_grad():\n",
    "            for data in dataset_to_test_against:\n",
    "                images, labels = data\n",
    "                outputs = model(images)\n",
    "                _, predicted = torch.max(outputs, 1)\n",
    "\n",
    "                for value in predicted:\n",
    "                    predictions_total.append(value.item())\n",
    "                for value in labels:\n",
    "                    labels_total.append(value.item())    \n",
    "\n",
    "        \n",
    "        cm = confusion_matrix(labels_total, predictions_total)\n",
    "        plot_confusion_matrix(cm, classes)\n",
    "\n",
    "        from sklearn.metrics import precision_score, recall_score\n",
    "        pre = precision_score(labels_total, predictions_total, average='micro')\n",
    "        print('Precision {}'.format(round(pre,3)))\n",
    "        rec = recall_score(labels_total, predictions_total, average='micro')\n",
    "        print('Recall {}'.format(round(rec,3)))\n",
    "        \n"
   ]
  },
  {
   "cell_type": "code",
   "execution_count": 47,
   "metadata": {},
   "outputs": [],
   "source": [
    "def plot_confusion_matrix(cm, classes, normalize=False, title='Confusion matrix', cmap=plt.cm.Blues):\n",
    "    '''\n",
    "    ref - function from https://deeplizard.com/learn/video/0LhiS6yu2qQ\n",
    "    \n",
    "    '''\n",
    "    \n",
    "    if normalize:\n",
    "        cm = cm.astype('float') / cm.sum(axis=1)[:, np.newaxis]\n",
    "        print(\"Normalized confusion matrix\")\n",
    "    else:\n",
    "        print('Confusion matrix, without normalization')\n",
    "\n",
    "    plt.imshow(cm, interpolation='nearest', cmap=cmap)\n",
    "    plt.title(title)\n",
    "    plt.colorbar()\n",
    "    tick_marks = np.arange(len(classes))\n",
    "    plt.xticks(tick_marks, classes, rotation=45)\n",
    "    plt.yticks(tick_marks, classes)\n",
    "\n",
    "    fmt = '.2f' if normalize else 'd'\n",
    "    thresh = cm.max() / 2.\n",
    "    for i, j in itertools.product(range(cm.shape[0]), range(cm.shape[1])):\n",
    "        plt.text(j, i, format(cm[i, j], fmt), horizontalalignment=\"center\", color=\"white\" if cm[i, j] > thresh else \"black\")\n",
    "\n",
    "    plt.tight_layout()\n",
    "    plt.ylabel('True label')\n",
    "    plt.xlabel('Predicted label')\n",
    "    plt.show()"
   ]
  },
  {
   "cell_type": "markdown",
   "metadata": {},
   "source": [
    "# Trained from Scratch Classifier (2 or 3 classes)"
   ]
  },
  {
   "cell_type": "code",
   "execution_count": 55,
   "metadata": {},
   "outputs": [],
   "source": [
    "# Create dataset just for number of classes:\n",
    "\n",
    "NUM_CLASSES = 4\n",
    "\n",
    "path_to_images = r'C:\\Users\\awalker8\\Documents\\COVID_Furlow\\bulb_class\\bulb_' + str(NUM_CLASSES) + '_class'\n",
    "\n",
    "\n",
    "light_bulbs = datasets.ImageFolder(root=path_to_images,\n",
    "                                           transform=data_transform)\n",
    "\n",
    "train, dev, test = create_separate_train_dev_test(light_bulbs, percentages = [0.8,0.1,0.1])\n",
    "\n",
    "\n",
    "classes = light_bulbs.classes"
   ]
  },
  {
   "cell_type": "code",
   "execution_count": 56,
   "metadata": {},
   "outputs": [
    {
     "data": {
      "image/png": "[encoded data removed]",
      "text/plain": [
       "<Figure size 432x288 with 1 Axes>"
      ]
     },
     "metadata": {
      "needs_background": "light"
     },
     "output_type": "display_data"
    },
    {
     "name": "stdout",
     "output_type": "stream",
     "text": [
      "GroundTruth:    B15   E27   B15  MR16\n"
     ]
    }
   ],
   "source": [
    "dataiter = iter(test)\n",
    "images, labels = dataiter.next()\n",
    "\n",
    "# print images\n",
    "imshow(torchvision.utils.make_grid(images))\n",
    "print('GroundTruth: ', ' '.join('%5s' % classes[labels[j]] for j in range(4)))"
   ]
  },
  {
   "cell_type": "code",
   "execution_count": 59,
   "metadata": {},
   "outputs": [
    {
     "name": "stdout",
     "output_type": "stream",
     "text": [
      "[0/5][18/17] Loss: 1.2876\n",
      "[1/5][18/17] Loss: 1.2560\n",
      "[2/5][18/17] Loss: 1.1022\n",
      "[3/5][18/17] Loss: 1.1261\n",
      "[4/5][18/17] Loss: 1.0396\n",
      "Confusion matrix, without normalization\n"
     ]
    },
    {
     "data": {
      "image/png": "[encoded data removed]",
      "text/plain": [
       "<Figure size 432x288 with 2 Axes>"
      ]
     },
     "metadata": {
      "needs_background": "light"
     },
     "output_type": "display_data"
    },
    {
     "name": "stdout",
     "output_type": "stream",
     "text": [
      "Precision 0.808\n",
      "Recall 0.808\n",
      "Confusion matrix, without normalization\n"
     ]
    },
    {
     "data": {
      "image/png": "[encoded data removed]",
      "text/plain": [
       "<Figure size 432x288 with 2 Axes>"
      ]
     },
     "metadata": {
      "needs_background": "light"
     },
     "output_type": "display_data"
    },
    {
     "name": "stdout",
     "output_type": "stream",
     "text": [
      "Precision 0.664\n",
      "Recall 0.664\n",
      "Confusion matrix, without normalization\n"
     ]
    },
    {
     "data": {
      "image/png": "[encoded data removed]",
      "text/plain": [
       "<Figure size 432x288 with 2 Axes>"
      ]
     },
     "metadata": {
      "needs_background": "light"
     },
     "output_type": "display_data"
    },
    {
     "name": "stdout",
     "output_type": "stream",
     "text": [
      "Precision 0.672\n",
      "Recall 0.672\n"
     ]
    }
   ],
   "source": [
    "model = BulbModel(NUM_CLASSES)\n",
    "model.weights_init()\n",
    "model.classifer_train(5,train)\n",
    "\n",
    "PATH = './model_weights.pth'\n",
    "torch.save(model.state_dict(), PATH)\n",
    "\n",
    "model.inference(train)\n",
    "model.inference(dev)\n",
    "model.inference(test)"
   ]
  },
  {
   "cell_type": "code",
   "execution_count": 58,
   "metadata": {},
   "outputs": [
    {
     "data": {
      "image/png": "[encoded data removed]",
      "text/plain": [
       "<Figure size 432x288 with 1 Axes>"
      ]
     },
     "metadata": {
      "needs_background": "light"
     },
     "output_type": "display_data"
    },
    {
     "name": "stdout",
     "output_type": "stream",
     "text": [
      "GroundTruth:   MR16  GU10   E27  GU10\n",
      "Predicted  :   MR16   E27   E27  MR16\n"
     ]
    }
   ],
   "source": [
    "dataiter = iter(test)\n",
    "images, labels = dataiter.next()\n",
    "\n",
    "outputs = model(images)\n",
    "_, predicted = torch.max(outputs, 1)\n",
    "\n",
    "# print images\n",
    "imshow(torchvision.utils.make_grid(images))\n",
    "\n",
    "print('GroundTruth: ', ' '.join('%5s' % classes[labels[j]] \n",
    "                                for j in range(len(images))))\n",
    "\n",
    "print('Predicted  : ', ' '.join('%5s' % classes[predicted[j]]\n",
    "                              for j in range(len(images))))\n",
    "\n"
   ]
  },
  {
   "cell_type": "markdown",
   "metadata": {},
   "source": [
    "# Transfer Learning"
   ]
  },
  {
   "cell_type": "code",
   "execution_count": 63,
   "metadata": {},
   "outputs": [],
   "source": [
    "def retrainable_setup(model ,layers_limit):\n",
    "    '''\n",
    "    function that sets which layers of the network to retrain. \n",
    "    input \n",
    "    - layers_limit - number of layers to keep fixed.\n",
    "    - model \n",
    "    \n",
    "    output \n",
    "    - model - with layers set for training or not. \n",
    "    '''\n",
    "\n",
    "    for param in model.parameters():\n",
    "        param.requires_grad = False\n",
    "    i = 0\n",
    "    for child in model.children():\n",
    "        for layer in child.children():\n",
    "            i  +=1\n",
    "            if i > layers_limit:\n",
    "                for param in layer.parameters():\n",
    "                    param.requires_grad = True\n",
    "            else:\n",
    "                for param in layer.parameters():\n",
    "                    param.requires_grad = False\n"
   ]
  },
  {
   "cell_type": "code",
   "execution_count": 66,
   "metadata": {},
   "outputs": [
    {
     "name": "stderr",
     "output_type": "stream",
     "text": [
      "Downloading: \"https://download.pytorch.org/models/resnet18-5c106cde.pth\" to C:\\Users\\awalker8/.cache\\torch\\checkpoints\\resnet18-5c106cde.pth\n"
     ]
    },
    {
     "data": {
      "application/vnd.jupyter.widget-view+json": {
       "model_id": "2e8888fda0da402faef464c81bb87f04",
       "version_major": 2,
       "version_minor": 0
      },
      "text/plain": [
       "HBox(children=(FloatProgress(value=0.0, max=46827520.0), HTML(value='')))"
      ]
     },
     "metadata": {},
     "output_type": "display_data"
    },
    {
     "name": "stdout",
     "output_type": "stream",
     "text": [
      "\n"
     ]
    }
   ],
   "source": [
    "model_ft = models.resnet18(pretrained=True)\n",
    "num_ftrs = model_ft.fc.in_features"
   ]
  },
  {
   "cell_type": "code",
   "execution_count": 68,
   "metadata": {},
   "outputs": [],
   "source": [
    "model_ft.fc = nn.Linear(num_ftrs, NUM_CLASSES)"
   ]
  },
  {
   "cell_type": "code",
   "execution_count": 69,
   "metadata": {},
   "outputs": [
    {
     "data": {
      "text/plain": [
       "ResNet(\n",
       "  (conv1): Conv2d(3, 64, kernel_size=(7, 7), stride=(2, 2), padding=(3, 3), bias=False)\n",
       "  (bn1): BatchNorm2d(64, eps=1e-05, momentum=0.1, affine=True, track_running_stats=True)\n",
       "  (relu): ReLU(inplace=True)\n",
       "  (maxpool): MaxPool2d(kernel_size=3, stride=2, padding=1, dilation=1, ceil_mode=False)\n",
       "  (layer1): Sequential(\n",
       "    (0): BasicBlock(\n",
       "      (conv1): Conv2d(64, 64, kernel_size=(3, 3), stride=(1, 1), padding=(1, 1), bias=False)\n",
       "      (bn1): BatchNorm2d(64, eps=1e-05, momentum=0.1, affine=True, track_running_stats=True)\n",
       "      (relu): ReLU(inplace=True)\n",
       "      (conv2): Conv2d(64, 64, kernel_size=(3, 3), stride=(1, 1), padding=(1, 1), bias=False)\n",
       "      (bn2): BatchNorm2d(64, eps=1e-05, momentum=0.1, affine=True, track_running_stats=True)\n",
       "    )\n",
       "    (1): BasicBlock(\n",
       "      (conv1): Conv2d(64, 64, kernel_size=(3, 3), stride=(1, 1), padding=(1, 1), bias=False)\n",
       "      (bn1): BatchNorm2d(64, eps=1e-05, momentum=0.1, affine=True, track_running_stats=True)\n",
       "      (relu): ReLU(inplace=True)\n",
       "      (conv2): Conv2d(64, 64, kernel_size=(3, 3), stride=(1, 1), padding=(1, 1), bias=False)\n",
       "      (bn2): BatchNorm2d(64, eps=1e-05, momentum=0.1, affine=True, track_running_stats=True)\n",
       "    )\n",
       "  )\n",
       "  (layer2): Sequential(\n",
       "    (0): BasicBlock(\n",
       "      (conv1): Conv2d(64, 128, kernel_size=(3, 3), stride=(2, 2), padding=(1, 1), bias=False)\n",
       "      (bn1): BatchNorm2d(128, eps=1e-05, momentum=0.1, affine=True, track_running_stats=True)\n",
       "      (relu): ReLU(inplace=True)\n",
       "      (conv2): Conv2d(128, 128, kernel_size=(3, 3), stride=(1, 1), padding=(1, 1), bias=False)\n",
       "      (bn2): BatchNorm2d(128, eps=1e-05, momentum=0.1, affine=True, track_running_stats=True)\n",
       "      (downsample): Sequential(\n",
       "        (0): Conv2d(64, 128, kernel_size=(1, 1), stride=(2, 2), bias=False)\n",
       "        (1): BatchNorm2d(128, eps=1e-05, momentum=0.1, affine=True, track_running_stats=True)\n",
       "      )\n",
       "    )\n",
       "    (1): BasicBlock(\n",
       "      (conv1): Conv2d(128, 128, kernel_size=(3, 3), stride=(1, 1), padding=(1, 1), bias=False)\n",
       "      (bn1): BatchNorm2d(128, eps=1e-05, momentum=0.1, affine=True, track_running_stats=True)\n",
       "      (relu): ReLU(inplace=True)\n",
       "      (conv2): Conv2d(128, 128, kernel_size=(3, 3), stride=(1, 1), padding=(1, 1), bias=False)\n",
       "      (bn2): BatchNorm2d(128, eps=1e-05, momentum=0.1, affine=True, track_running_stats=True)\n",
       "    )\n",
       "  )\n",
       "  (layer3): Sequential(\n",
       "    (0): BasicBlock(\n",
       "      (conv1): Conv2d(128, 256, kernel_size=(3, 3), stride=(2, 2), padding=(1, 1), bias=False)\n",
       "      (bn1): BatchNorm2d(256, eps=1e-05, momentum=0.1, affine=True, track_running_stats=True)\n",
       "      (relu): ReLU(inplace=True)\n",
       "      (conv2): Conv2d(256, 256, kernel_size=(3, 3), stride=(1, 1), padding=(1, 1), bias=False)\n",
       "      (bn2): BatchNorm2d(256, eps=1e-05, momentum=0.1, affine=True, track_running_stats=True)\n",
       "      (downsample): Sequential(\n",
       "        (0): Conv2d(128, 256, kernel_size=(1, 1), stride=(2, 2), bias=False)\n",
       "        (1): BatchNorm2d(256, eps=1e-05, momentum=0.1, affine=True, track_running_stats=True)\n",
       "      )\n",
       "    )\n",
       "    (1): BasicBlock(\n",
       "      (conv1): Conv2d(256, 256, kernel_size=(3, 3), stride=(1, 1), padding=(1, 1), bias=False)\n",
       "      (bn1): BatchNorm2d(256, eps=1e-05, momentum=0.1, affine=True, track_running_stats=True)\n",
       "      (relu): ReLU(inplace=True)\n",
       "      (conv2): Conv2d(256, 256, kernel_size=(3, 3), stride=(1, 1), padding=(1, 1), bias=False)\n",
       "      (bn2): BatchNorm2d(256, eps=1e-05, momentum=0.1, affine=True, track_running_stats=True)\n",
       "    )\n",
       "  )\n",
       "  (layer4): Sequential(\n",
       "    (0): BasicBlock(\n",
       "      (conv1): Conv2d(256, 512, kernel_size=(3, 3), stride=(2, 2), padding=(1, 1), bias=False)\n",
       "      (bn1): BatchNorm2d(512, eps=1e-05, momentum=0.1, affine=True, track_running_stats=True)\n",
       "      (relu): ReLU(inplace=True)\n",
       "      (conv2): Conv2d(512, 512, kernel_size=(3, 3), stride=(1, 1), padding=(1, 1), bias=False)\n",
       "      (bn2): BatchNorm2d(512, eps=1e-05, momentum=0.1, affine=True, track_running_stats=True)\n",
       "      (downsample): Sequential(\n",
       "        (0): Conv2d(256, 512, kernel_size=(1, 1), stride=(2, 2), bias=False)\n",
       "        (1): BatchNorm2d(512, eps=1e-05, momentum=0.1, affine=True, track_running_stats=True)\n",
       "      )\n",
       "    )\n",
       "    (1): BasicBlock(\n",
       "      (conv1): Conv2d(512, 512, kernel_size=(3, 3), stride=(1, 1), padding=(1, 1), bias=False)\n",
       "      (bn1): BatchNorm2d(512, eps=1e-05, momentum=0.1, affine=True, track_running_stats=True)\n",
       "      (relu): ReLU(inplace=True)\n",
       "      (conv2): Conv2d(512, 512, kernel_size=(3, 3), stride=(1, 1), padding=(1, 1), bias=False)\n",
       "      (bn2): BatchNorm2d(512, eps=1e-05, momentum=0.1, affine=True, track_running_stats=True)\n",
       "    )\n",
       "  )\n",
       "  (avgpool): AdaptiveAvgPool2d(output_size=(1, 1))\n",
       "  (fc): Linear(in_features=512, out_features=4, bias=True)\n",
       ")"
      ]
     },
     "execution_count": 69,
     "metadata": {},
     "output_type": "execute_result"
    }
   ],
   "source": [
    "model_ft"
   ]
  },
  {
   "cell_type": "code",
   "execution_count": 70,
   "metadata": {},
   "outputs": [],
   "source": [
    "retrainable_setup(model ,layers_limit = 27)"
   ]
  },
  {
   "cell_type": "code",
   "execution_count": 71,
   "metadata": {},
   "outputs": [
    {
     "name": "stdout",
     "output_type": "stream",
     "text": [
      "11,178,564 total parameters.\n",
      "11,178,564 training parameters.\n"
     ]
    }
   ],
   "source": [
    "# Find total parameters and trainable parameters\n",
    "total_params = sum(p.numel() for p in model_ft.parameters())\n",
    "print(f'{total_params:,} total parameters.')\n",
    "total_trainable_params = sum(\n",
    "    p.numel() for p in model_ft.parameters() if p.requires_grad)\n",
    "print(f'{total_trainable_params:,} training parameters.')"
   ]
  },
  {
   "cell_type": "code",
   "execution_count": null,
   "metadata": {},
   "outputs": [],
   "source": []
  },
  {
   "cell_type": "code",
   "execution_count": 61,
   "metadata": {},
   "outputs": [],
   "source": [
    "modelVGG = models.vgg16(pretrained=True)"
   ]
  },
  {
   "cell_type": "code",
   "execution_count": 29,
   "metadata": {},
   "outputs": [],
   "source": [
    "modelVGG.classifier[6] = nn.Sequential(\n",
    "                      nn.Linear(4096, 256), \n",
    "                      nn.ReLU(), \n",
    "                      nn.Dropout(0.4),\n",
    "                      nn.Linear(256, 8),                   \n",
    "                      nn.Softmax(dim=1))"
   ]
  },
  {
   "cell_type": "code",
   "execution_count": 30,
   "metadata": {},
   "outputs": [
    {
     "data": {
      "text/plain": [
       "VGG(\n",
       "  (features): Sequential(\n",
       "    (0): Conv2d(3, 64, kernel_size=(3, 3), stride=(1, 1), padding=(1, 1))\n",
       "    (1): ReLU(inplace=True)\n",
       "    (2): Conv2d(64, 64, kernel_size=(3, 3), stride=(1, 1), padding=(1, 1))\n",
       "    (3): ReLU(inplace=True)\n",
       "    (4): MaxPool2d(kernel_size=2, stride=2, padding=0, dilation=1, ceil_mode=False)\n",
       "    (5): Conv2d(64, 128, kernel_size=(3, 3), stride=(1, 1), padding=(1, 1))\n",
       "    (6): ReLU(inplace=True)\n",
       "    (7): Conv2d(128, 128, kernel_size=(3, 3), stride=(1, 1), padding=(1, 1))\n",
       "    (8): ReLU(inplace=True)\n",
       "    (9): MaxPool2d(kernel_size=2, stride=2, padding=0, dilation=1, ceil_mode=False)\n",
       "    (10): Conv2d(128, 256, kernel_size=(3, 3), stride=(1, 1), padding=(1, 1))\n",
       "    (11): ReLU(inplace=True)\n",
       "    (12): Conv2d(256, 256, kernel_size=(3, 3), stride=(1, 1), padding=(1, 1))\n",
       "    (13): ReLU(inplace=True)\n",
       "    (14): Conv2d(256, 256, kernel_size=(3, 3), stride=(1, 1), padding=(1, 1))\n",
       "    (15): ReLU(inplace=True)\n",
       "    (16): MaxPool2d(kernel_size=2, stride=2, padding=0, dilation=1, ceil_mode=False)\n",
       "    (17): Conv2d(256, 512, kernel_size=(3, 3), stride=(1, 1), padding=(1, 1))\n",
       "    (18): ReLU(inplace=True)\n",
       "    (19): Conv2d(512, 512, kernel_size=(3, 3), stride=(1, 1), padding=(1, 1))\n",
       "    (20): ReLU(inplace=True)\n",
       "    (21): Conv2d(512, 512, kernel_size=(3, 3), stride=(1, 1), padding=(1, 1))\n",
       "    (22): ReLU(inplace=True)\n",
       "    (23): MaxPool2d(kernel_size=2, stride=2, padding=0, dilation=1, ceil_mode=False)\n",
       "    (24): Conv2d(512, 512, kernel_size=(3, 3), stride=(1, 1), padding=(1, 1))\n",
       "    (25): ReLU(inplace=True)\n",
       "    (26): Conv2d(512, 512, kernel_size=(3, 3), stride=(1, 1), padding=(1, 1))\n",
       "    (27): ReLU(inplace=True)\n",
       "    (28): Conv2d(512, 512, kernel_size=(3, 3), stride=(1, 1), padding=(1, 1))\n",
       "    (29): ReLU(inplace=True)\n",
       "    (30): MaxPool2d(kernel_size=2, stride=2, padding=0, dilation=1, ceil_mode=False)\n",
       "  )\n",
       "  (avgpool): AdaptiveAvgPool2d(output_size=(7, 7))\n",
       "  (classifier): Sequential(\n",
       "    (0): Linear(in_features=25088, out_features=4096, bias=True)\n",
       "    (1): ReLU(inplace=True)\n",
       "    (2): Dropout(p=0.5, inplace=False)\n",
       "    (3): Linear(in_features=4096, out_features=4096, bias=True)\n",
       "    (4): ReLU(inplace=True)\n",
       "    (5): Dropout(p=0.5, inplace=False)\n",
       "    (6): Sequential(\n",
       "      (0): Linear(in_features=4096, out_features=256, bias=True)\n",
       "      (1): ReLU()\n",
       "      (2): Dropout(p=0.4, inplace=False)\n",
       "      (3): Linear(in_features=256, out_features=8, bias=True)\n",
       "      (4): Softmax(dim=1)\n",
       "    )\n",
       "  )\n",
       ")"
      ]
     },
     "execution_count": 30,
     "metadata": {},
     "output_type": "execute_result"
    }
   ],
   "source": [
    "modelVGG"
   ]
  },
  {
   "cell_type": "code",
   "execution_count": 31,
   "metadata": {},
   "outputs": [],
   "source": [
    "model = modelVGG"
   ]
  },
  {
   "cell_type": "code",
   "execution_count": 32,
   "metadata": {},
   "outputs": [],
   "source": [
    "retrainable_setup(model ,layers_limit = 27)"
   ]
  },
  {
   "cell_type": "code",
   "execution_count": 33,
   "metadata": {},
   "outputs": [
    {
     "name": "stdout",
     "output_type": "stream",
     "text": [
      "135,311,432 total parameters.\n",
      "122,956,552 training parameters.\n"
     ]
    }
   ],
   "source": [
    "# Find total parameters and trainable parameters\n",
    "total_params = sum(p.numel() for p in model.parameters())\n",
    "print(f'{total_params:,} total parameters.')\n",
    "total_trainable_params = sum(\n",
    "    p.numel() for p in model.parameters() if p.requires_grad)\n",
    "print(f'{total_trainable_params:,} training parameters.')"
   ]
  },
  {
   "cell_type": "code",
   "execution_count": 34,
   "metadata": {},
   "outputs": [],
   "source": [
    "# create an optimiser for the classifier\n",
    "optimiser_bulb_transfer = optim.Adam(model.parameters(), lr=0.01, betas = (0.9,0.999))\n",
    "# Create a criterion. Lets use cross entropy loss. \n",
    "criterion = nn.CrossEntropyLoss(weight=None, size_average=None, ignore_index=-100, reduce=None, reduction='mean')"
   ]
  },
  {
   "cell_type": "code",
   "execution_count": 334,
   "metadata": {},
   "outputs": [
    {
     "name": "stdout",
     "output_type": "stream",
     "text": [
      "[0/1][58/57] Loss: 2.2740\n"
     ]
    }
   ],
   "source": [
    "epochs_total = 25\n",
    "for epoch in range(epochs_total):\n",
    "    i = 1\n",
    "    for data, labels in train:\n",
    "     \n",
    "        # push the image through the network\n",
    "        prediction = model(data)\n",
    "        \n",
    "        error = criterion(prediction, labels)\n",
    "        #print('[%d/%d][%d/%d] Loss: %.4f' % (epoch, epochs_total, i, len(train),error))\n",
    "  \n",
    "        # zero grad\n",
    "        model.zero_grad()\n",
    "        error.backward()\n",
    "        optimiser_bulb_transfer.step()\n",
    "        \n",
    "        #if i == 10:\n",
    "        #   break\n",
    "            \n",
    "        i = i + 1\n",
    "    #for each epoch record the final error\n",
    "    error_monitoring.append(error)\n",
    "    print('[%d/%d][%d/%d] Loss: %.4f' % (epoch, epochs_total, i, len(train),error))"
   ]
  },
  {
   "cell_type": "code",
   "execution_count": 335,
   "metadata": {},
   "outputs": [
    {
     "name": "stdout",
     "output_type": "stream",
     "text": [
      "[[ 0  0  0  0  0  0 50  0]\n",
      " [ 0  0  0  0  0  0 43  0]\n",
      " [ 0  0  0  0  0  0 50  0]\n",
      " [ 0  0  0  0  0  1 51  0]\n",
      " [ 0  0  0  1  0  0 74  0]\n",
      " [ 0  0  0  0  0  0 53  0]\n",
      " [ 0  0  0  0  0  0 46  0]\n",
      " [ 0  0  0  0  0  0 80  0]]\n",
      "Precision 0.102\n",
      "Recall 0.102\n"
     ]
    }
   ],
   "source": [
    "inference(model, dev)"
   ]
  },
  {
   "cell_type": "markdown",
   "metadata": {},
   "source": [
    "# Hyperparameter Testing "
   ]
  },
  {
   "cell_type": "code",
   "execution_count": 47,
   "metadata": {},
   "outputs": [
    {
     "name": "stdout",
     "output_type": "stream",
     "text": [
      "[0/200][54/53] Loss: 1.3616\n",
      "[1/200][54/53] Loss: 1.6073\n",
      "[2/200][54/53] Loss: 1.2837\n",
      "[3/200][54/53] Loss: 1.3573\n",
      "[4/200][54/53] Loss: 1.3460\n",
      "[5/200][54/53] Loss: 1.5240\n",
      "[6/200][54/53] Loss: 1.3573\n",
      "[7/200][54/53] Loss: 1.4440\n",
      "[8/200][54/53] Loss: 1.2740\n",
      "[9/200][54/53] Loss: 1.4407\n",
      "[10/200][54/53] Loss: 1.3569\n",
      "[11/200][54/53] Loss: 1.2740\n",
      "[12/200][54/53] Loss: 1.5240\n",
      "[13/200][54/53] Loss: 1.3573\n",
      "[14/200][54/53] Loss: 1.2740\n",
      "[15/200][54/53] Loss: 1.5189\n",
      "[16/200][54/53] Loss: 1.4407\n",
      "[17/200][54/53] Loss: 1.2740\n",
      "[18/200][54/53] Loss: 1.3580\n",
      "[19/200][54/53] Loss: 1.2740\n",
      "[20/200][54/53] Loss: 1.5246\n",
      "[21/200][54/53] Loss: 1.2740\n",
      "[22/200][54/53] Loss: 1.2741\n",
      "[23/200][54/53] Loss: 1.3573\n",
      "[24/200][54/53] Loss: 1.5239\n",
      "[25/200][54/53] Loss: 1.2740\n",
      "[26/200][54/53] Loss: 1.2740\n",
      "[27/200][54/53] Loss: 1.2740\n",
      "[28/200][54/53] Loss: 1.7690\n",
      "[29/200][54/53] Loss: 1.3573\n",
      "[30/200][54/53] Loss: 1.4407\n",
      "[31/200][54/53] Loss: 1.3573\n",
      "[32/200][54/53] Loss: 1.3594\n",
      "[33/200][54/53] Loss: 1.5240\n",
      "[34/200][54/53] Loss: 1.2740\n",
      "[35/200][54/53] Loss: 1.5042\n",
      "[36/200][54/53] Loss: 1.3573\n",
      "[37/200][54/53] Loss: 1.5240\n",
      "[38/200][54/53] Loss: 1.4405\n",
      "[39/200][54/53] Loss: 1.2740\n",
      "[40/200][54/53] Loss: 1.2740\n",
      "[41/200][54/53] Loss: 1.2740\n",
      "[42/200][54/53] Loss: 1.2740\n",
      "[43/200][54/53] Loss: 1.2740\n",
      "[44/200][54/53] Loss: 1.4407\n",
      "[45/200][54/53] Loss: 1.4407\n",
      "[46/200][54/53] Loss: 1.3574\n",
      "[47/200][54/53] Loss: 1.3571\n",
      "[48/200][54/53] Loss: 1.2740\n",
      "[49/200][54/53] Loss: 1.3573\n",
      "[50/200][54/53] Loss: 1.4395\n",
      "[51/200][54/53] Loss: 1.4407\n",
      "[52/200][54/53] Loss: 1.4407\n",
      "[53/200][54/53] Loss: 1.2740\n",
      "[54/200][54/53] Loss: 1.5240\n",
      "[55/200][54/53] Loss: 1.5329\n",
      "[56/200][54/53] Loss: 1.2740\n",
      "[57/200][54/53] Loss: 1.3573\n",
      "[58/200][54/53] Loss: 1.5240\n",
      "[59/200][54/53] Loss: 1.5240\n",
      "[60/200][54/53] Loss: 1.2740\n",
      "[61/200][54/53] Loss: 1.2740\n",
      "[62/200][54/53] Loss: 1.2740\n",
      "[63/200][54/53] Loss: 1.3573\n",
      "[64/200][54/53] Loss: 1.2740\n",
      "[65/200][54/53] Loss: 1.2740\n",
      "[66/200][54/53] Loss: 1.2740\n",
      "[67/200][54/53] Loss: 1.3573\n",
      "[68/200][54/53] Loss: 1.5240\n",
      "[69/200][54/53] Loss: 1.3573\n",
      "[70/200][54/53] Loss: 1.5240\n",
      "[71/200][54/53] Loss: 1.2740\n",
      "[72/200][54/53] Loss: 1.4407\n",
      "[73/200][54/53] Loss: 1.4407\n",
      "[74/200][54/53] Loss: 1.4407\n",
      "[75/200][54/53] Loss: 1.4654\n",
      "[76/200][54/53] Loss: 1.3573\n",
      "[77/200][54/53] Loss: 1.6907\n",
      "[78/200][54/53] Loss: 1.2740\n",
      "[79/200][54/53] Loss: 1.5240\n",
      "[80/200][54/53] Loss: 1.3573\n",
      "[81/200][54/53] Loss: 1.4407\n",
      "[82/200][54/53] Loss: 1.2740\n",
      "[83/200][54/53] Loss: 1.2740\n",
      "[84/200][54/53] Loss: 1.4320\n",
      "[85/200][54/53] Loss: 1.4407\n",
      "[86/200][54/53] Loss: 1.3573\n",
      "[87/200][54/53] Loss: 1.3573\n",
      "[88/200][54/53] Loss: 1.3573\n",
      "[89/200][54/53] Loss: 1.3573\n",
      "[90/200][54/53] Loss: 1.5240\n",
      "[91/200][54/53] Loss: 1.2740\n",
      "[92/200][54/53] Loss: 1.5272\n"
     ]
    },
    {
     "ename": "KeyboardInterrupt",
     "evalue": "",
     "output_type": "error",
     "traceback": [
      "\u001b[1;31m---------------------------------------------------------------------------\u001b[0m",
      "\u001b[1;31mKeyboardInterrupt\u001b[0m                         Traceback (most recent call last)",
      "\u001b[1;32m<ipython-input-47-cb941e034d3e>\u001b[0m in \u001b[0;36m<module>\u001b[1;34m\u001b[0m\n\u001b[0;32m     24\u001b[0m     \u001b[1;32mfor\u001b[0m \u001b[0mepoch\u001b[0m \u001b[1;32min\u001b[0m \u001b[0mrange\u001b[0m\u001b[1;33m(\u001b[0m\u001b[0mepochs_total\u001b[0m\u001b[1;33m)\u001b[0m\u001b[1;33m:\u001b[0m\u001b[1;33m\u001b[0m\u001b[1;33m\u001b[0m\u001b[0m\n\u001b[0;32m     25\u001b[0m         \u001b[0mi\u001b[0m \u001b[1;33m=\u001b[0m \u001b[1;36m1\u001b[0m\u001b[1;33m\u001b[0m\u001b[1;33m\u001b[0m\u001b[0m\n\u001b[1;32m---> 26\u001b[1;33m         \u001b[1;32mfor\u001b[0m \u001b[0mdata\u001b[0m\u001b[1;33m,\u001b[0m \u001b[0mlabels\u001b[0m \u001b[1;32min\u001b[0m \u001b[0mtrain\u001b[0m\u001b[1;33m:\u001b[0m\u001b[1;33m\u001b[0m\u001b[1;33m\u001b[0m\u001b[0m\n\u001b[0m\u001b[0;32m     27\u001b[0m \u001b[1;33m\u001b[0m\u001b[0m\n\u001b[0;32m     28\u001b[0m             \u001b[1;31m# push the image through the network\u001b[0m\u001b[1;33m\u001b[0m\u001b[1;33m\u001b[0m\u001b[1;33m\u001b[0m\u001b[0m\n",
      "\u001b[1;32m~\\AppData\\Local\\Continuum\\anaconda3\\lib\\site-packages\\torch\\utils\\data\\dataloader.py\u001b[0m in \u001b[0;36m__next__\u001b[1;34m(self)\u001b[0m\n\u001b[0;32m    344\u001b[0m     \u001b[1;32mdef\u001b[0m \u001b[0m__next__\u001b[0m\u001b[1;33m(\u001b[0m\u001b[0mself\u001b[0m\u001b[1;33m)\u001b[0m\u001b[1;33m:\u001b[0m\u001b[1;33m\u001b[0m\u001b[1;33m\u001b[0m\u001b[0m\n\u001b[0;32m    345\u001b[0m         \u001b[0mindex\u001b[0m \u001b[1;33m=\u001b[0m \u001b[0mself\u001b[0m\u001b[1;33m.\u001b[0m\u001b[0m_next_index\u001b[0m\u001b[1;33m(\u001b[0m\u001b[1;33m)\u001b[0m  \u001b[1;31m# may raise StopIteration\u001b[0m\u001b[1;33m\u001b[0m\u001b[1;33m\u001b[0m\u001b[0m\n\u001b[1;32m--> 346\u001b[1;33m         \u001b[0mdata\u001b[0m \u001b[1;33m=\u001b[0m \u001b[0mself\u001b[0m\u001b[1;33m.\u001b[0m\u001b[0m_dataset_fetcher\u001b[0m\u001b[1;33m.\u001b[0m\u001b[0mfetch\u001b[0m\u001b[1;33m(\u001b[0m\u001b[0mindex\u001b[0m\u001b[1;33m)\u001b[0m  \u001b[1;31m# may raise StopIteration\u001b[0m\u001b[1;33m\u001b[0m\u001b[1;33m\u001b[0m\u001b[0m\n\u001b[0m\u001b[0;32m    347\u001b[0m         \u001b[1;32mif\u001b[0m \u001b[0mself\u001b[0m\u001b[1;33m.\u001b[0m\u001b[0m_pin_memory\u001b[0m\u001b[1;33m:\u001b[0m\u001b[1;33m\u001b[0m\u001b[1;33m\u001b[0m\u001b[0m\n\u001b[0;32m    348\u001b[0m             \u001b[0mdata\u001b[0m \u001b[1;33m=\u001b[0m \u001b[0m_utils\u001b[0m\u001b[1;33m.\u001b[0m\u001b[0mpin_memory\u001b[0m\u001b[1;33m.\u001b[0m\u001b[0mpin_memory\u001b[0m\u001b[1;33m(\u001b[0m\u001b[0mdata\u001b[0m\u001b[1;33m)\u001b[0m\u001b[1;33m\u001b[0m\u001b[1;33m\u001b[0m\u001b[0m\n",
      "\u001b[1;32m~\\AppData\\Local\\Continuum\\anaconda3\\lib\\site-packages\\torch\\utils\\data\\_utils\\fetch.py\u001b[0m in \u001b[0;36mfetch\u001b[1;34m(self, possibly_batched_index)\u001b[0m\n\u001b[0;32m     42\u001b[0m     \u001b[1;32mdef\u001b[0m \u001b[0mfetch\u001b[0m\u001b[1;33m(\u001b[0m\u001b[0mself\u001b[0m\u001b[1;33m,\u001b[0m \u001b[0mpossibly_batched_index\u001b[0m\u001b[1;33m)\u001b[0m\u001b[1;33m:\u001b[0m\u001b[1;33m\u001b[0m\u001b[1;33m\u001b[0m\u001b[0m\n\u001b[0;32m     43\u001b[0m         \u001b[1;32mif\u001b[0m \u001b[0mself\u001b[0m\u001b[1;33m.\u001b[0m\u001b[0mauto_collation\u001b[0m\u001b[1;33m:\u001b[0m\u001b[1;33m\u001b[0m\u001b[1;33m\u001b[0m\u001b[0m\n\u001b[1;32m---> 44\u001b[1;33m             \u001b[0mdata\u001b[0m \u001b[1;33m=\u001b[0m \u001b[1;33m[\u001b[0m\u001b[0mself\u001b[0m\u001b[1;33m.\u001b[0m\u001b[0mdataset\u001b[0m\u001b[1;33m[\u001b[0m\u001b[0midx\u001b[0m\u001b[1;33m]\u001b[0m \u001b[1;32mfor\u001b[0m \u001b[0midx\u001b[0m \u001b[1;32min\u001b[0m \u001b[0mpossibly_batched_index\u001b[0m\u001b[1;33m]\u001b[0m\u001b[1;33m\u001b[0m\u001b[1;33m\u001b[0m\u001b[0m\n\u001b[0m\u001b[0;32m     45\u001b[0m         \u001b[1;32melse\u001b[0m\u001b[1;33m:\u001b[0m\u001b[1;33m\u001b[0m\u001b[1;33m\u001b[0m\u001b[0m\n\u001b[0;32m     46\u001b[0m             \u001b[0mdata\u001b[0m \u001b[1;33m=\u001b[0m \u001b[0mself\u001b[0m\u001b[1;33m.\u001b[0m\u001b[0mdataset\u001b[0m\u001b[1;33m[\u001b[0m\u001b[0mpossibly_batched_index\u001b[0m\u001b[1;33m]\u001b[0m\u001b[1;33m\u001b[0m\u001b[1;33m\u001b[0m\u001b[0m\n",
      "\u001b[1;32m~\\AppData\\Local\\Continuum\\anaconda3\\lib\\site-packages\\torch\\utils\\data\\_utils\\fetch.py\u001b[0m in \u001b[0;36m<listcomp>\u001b[1;34m(.0)\u001b[0m\n\u001b[0;32m     42\u001b[0m     \u001b[1;32mdef\u001b[0m \u001b[0mfetch\u001b[0m\u001b[1;33m(\u001b[0m\u001b[0mself\u001b[0m\u001b[1;33m,\u001b[0m \u001b[0mpossibly_batched_index\u001b[0m\u001b[1;33m)\u001b[0m\u001b[1;33m:\u001b[0m\u001b[1;33m\u001b[0m\u001b[1;33m\u001b[0m\u001b[0m\n\u001b[0;32m     43\u001b[0m         \u001b[1;32mif\u001b[0m \u001b[0mself\u001b[0m\u001b[1;33m.\u001b[0m\u001b[0mauto_collation\u001b[0m\u001b[1;33m:\u001b[0m\u001b[1;33m\u001b[0m\u001b[1;33m\u001b[0m\u001b[0m\n\u001b[1;32m---> 44\u001b[1;33m             \u001b[0mdata\u001b[0m \u001b[1;33m=\u001b[0m \u001b[1;33m[\u001b[0m\u001b[0mself\u001b[0m\u001b[1;33m.\u001b[0m\u001b[0mdataset\u001b[0m\u001b[1;33m[\u001b[0m\u001b[0midx\u001b[0m\u001b[1;33m]\u001b[0m \u001b[1;32mfor\u001b[0m \u001b[0midx\u001b[0m \u001b[1;32min\u001b[0m \u001b[0mpossibly_batched_index\u001b[0m\u001b[1;33m]\u001b[0m\u001b[1;33m\u001b[0m\u001b[1;33m\u001b[0m\u001b[0m\n\u001b[0m\u001b[0;32m     45\u001b[0m         \u001b[1;32melse\u001b[0m\u001b[1;33m:\u001b[0m\u001b[1;33m\u001b[0m\u001b[1;33m\u001b[0m\u001b[0m\n\u001b[0;32m     46\u001b[0m             \u001b[0mdata\u001b[0m \u001b[1;33m=\u001b[0m \u001b[0mself\u001b[0m\u001b[1;33m.\u001b[0m\u001b[0mdataset\u001b[0m\u001b[1;33m[\u001b[0m\u001b[0mpossibly_batched_index\u001b[0m\u001b[1;33m]\u001b[0m\u001b[1;33m\u001b[0m\u001b[1;33m\u001b[0m\u001b[0m\n",
      "\u001b[1;32m~\\AppData\\Local\\Continuum\\anaconda3\\lib\\site-packages\\torchvision\\datasets\\folder.py\u001b[0m in \u001b[0;36m__getitem__\u001b[1;34m(self, index)\u001b[0m\n\u001b[0;32m    138\u001b[0m         \u001b[0msample\u001b[0m \u001b[1;33m=\u001b[0m \u001b[0mself\u001b[0m\u001b[1;33m.\u001b[0m\u001b[0mloader\u001b[0m\u001b[1;33m(\u001b[0m\u001b[0mpath\u001b[0m\u001b[1;33m)\u001b[0m\u001b[1;33m\u001b[0m\u001b[1;33m\u001b[0m\u001b[0m\n\u001b[0;32m    139\u001b[0m         \u001b[1;32mif\u001b[0m \u001b[0mself\u001b[0m\u001b[1;33m.\u001b[0m\u001b[0mtransform\u001b[0m \u001b[1;32mis\u001b[0m \u001b[1;32mnot\u001b[0m \u001b[1;32mNone\u001b[0m\u001b[1;33m:\u001b[0m\u001b[1;33m\u001b[0m\u001b[1;33m\u001b[0m\u001b[0m\n\u001b[1;32m--> 140\u001b[1;33m             \u001b[0msample\u001b[0m \u001b[1;33m=\u001b[0m \u001b[0mself\u001b[0m\u001b[1;33m.\u001b[0m\u001b[0mtransform\u001b[0m\u001b[1;33m(\u001b[0m\u001b[0msample\u001b[0m\u001b[1;33m)\u001b[0m\u001b[1;33m\u001b[0m\u001b[1;33m\u001b[0m\u001b[0m\n\u001b[0m\u001b[0;32m    141\u001b[0m         \u001b[1;32mif\u001b[0m \u001b[0mself\u001b[0m\u001b[1;33m.\u001b[0m\u001b[0mtarget_transform\u001b[0m \u001b[1;32mis\u001b[0m \u001b[1;32mnot\u001b[0m \u001b[1;32mNone\u001b[0m\u001b[1;33m:\u001b[0m\u001b[1;33m\u001b[0m\u001b[1;33m\u001b[0m\u001b[0m\n\u001b[0;32m    142\u001b[0m             \u001b[0mtarget\u001b[0m \u001b[1;33m=\u001b[0m \u001b[0mself\u001b[0m\u001b[1;33m.\u001b[0m\u001b[0mtarget_transform\u001b[0m\u001b[1;33m(\u001b[0m\u001b[0mtarget\u001b[0m\u001b[1;33m)\u001b[0m\u001b[1;33m\u001b[0m\u001b[1;33m\u001b[0m\u001b[0m\n",
      "\u001b[1;32m~\\AppData\\Local\\Continuum\\anaconda3\\lib\\site-packages\\torchvision\\transforms\\transforms.py\u001b[0m in \u001b[0;36m__call__\u001b[1;34m(self, img)\u001b[0m\n\u001b[0;32m     68\u001b[0m     \u001b[1;32mdef\u001b[0m \u001b[0m__call__\u001b[0m\u001b[1;33m(\u001b[0m\u001b[0mself\u001b[0m\u001b[1;33m,\u001b[0m \u001b[0mimg\u001b[0m\u001b[1;33m)\u001b[0m\u001b[1;33m:\u001b[0m\u001b[1;33m\u001b[0m\u001b[1;33m\u001b[0m\u001b[0m\n\u001b[0;32m     69\u001b[0m         \u001b[1;32mfor\u001b[0m \u001b[0mt\u001b[0m \u001b[1;32min\u001b[0m \u001b[0mself\u001b[0m\u001b[1;33m.\u001b[0m\u001b[0mtransforms\u001b[0m\u001b[1;33m:\u001b[0m\u001b[1;33m\u001b[0m\u001b[1;33m\u001b[0m\u001b[0m\n\u001b[1;32m---> 70\u001b[1;33m             \u001b[0mimg\u001b[0m \u001b[1;33m=\u001b[0m \u001b[0mt\u001b[0m\u001b[1;33m(\u001b[0m\u001b[0mimg\u001b[0m\u001b[1;33m)\u001b[0m\u001b[1;33m\u001b[0m\u001b[1;33m\u001b[0m\u001b[0m\n\u001b[0m\u001b[0;32m     71\u001b[0m         \u001b[1;32mreturn\u001b[0m \u001b[0mimg\u001b[0m\u001b[1;33m\u001b[0m\u001b[1;33m\u001b[0m\u001b[0m\n\u001b[0;32m     72\u001b[0m \u001b[1;33m\u001b[0m\u001b[0m\n",
      "\u001b[1;32m~\\AppData\\Local\\Continuum\\anaconda3\\lib\\site-packages\\torchvision\\transforms\\transforms.py\u001b[0m in \u001b[0;36m__call__\u001b[1;34m(self, img)\u001b[0m\n\u001b[0;32m    205\u001b[0m             \u001b[0mPIL\u001b[0m \u001b[0mImage\u001b[0m\u001b[1;33m:\u001b[0m \u001b[0mRescaled\u001b[0m \u001b[0mimage\u001b[0m\u001b[1;33m.\u001b[0m\u001b[1;33m\u001b[0m\u001b[1;33m\u001b[0m\u001b[0m\n\u001b[0;32m    206\u001b[0m         \"\"\"\n\u001b[1;32m--> 207\u001b[1;33m         \u001b[1;32mreturn\u001b[0m \u001b[0mF\u001b[0m\u001b[1;33m.\u001b[0m\u001b[0mresize\u001b[0m\u001b[1;33m(\u001b[0m\u001b[0mimg\u001b[0m\u001b[1;33m,\u001b[0m \u001b[0mself\u001b[0m\u001b[1;33m.\u001b[0m\u001b[0msize\u001b[0m\u001b[1;33m,\u001b[0m \u001b[0mself\u001b[0m\u001b[1;33m.\u001b[0m\u001b[0minterpolation\u001b[0m\u001b[1;33m)\u001b[0m\u001b[1;33m\u001b[0m\u001b[1;33m\u001b[0m\u001b[0m\n\u001b[0m\u001b[0;32m    208\u001b[0m \u001b[1;33m\u001b[0m\u001b[0m\n\u001b[0;32m    209\u001b[0m     \u001b[1;32mdef\u001b[0m \u001b[0m__repr__\u001b[0m\u001b[1;33m(\u001b[0m\u001b[0mself\u001b[0m\u001b[1;33m)\u001b[0m\u001b[1;33m:\u001b[0m\u001b[1;33m\u001b[0m\u001b[1;33m\u001b[0m\u001b[0m\n",
      "\u001b[1;32m~\\AppData\\Local\\Continuum\\anaconda3\\lib\\site-packages\\torchvision\\transforms\\functional.py\u001b[0m in \u001b[0;36mresize\u001b[1;34m(img, size, interpolation)\u001b[0m\n\u001b[0;32m    253\u001b[0m             \u001b[1;32mreturn\u001b[0m \u001b[0mimg\u001b[0m\u001b[1;33m.\u001b[0m\u001b[0mresize\u001b[0m\u001b[1;33m(\u001b[0m\u001b[1;33m(\u001b[0m\u001b[0mow\u001b[0m\u001b[1;33m,\u001b[0m \u001b[0moh\u001b[0m\u001b[1;33m)\u001b[0m\u001b[1;33m,\u001b[0m \u001b[0minterpolation\u001b[0m\u001b[1;33m)\u001b[0m\u001b[1;33m\u001b[0m\u001b[1;33m\u001b[0m\u001b[0m\n\u001b[0;32m    254\u001b[0m     \u001b[1;32melse\u001b[0m\u001b[1;33m:\u001b[0m\u001b[1;33m\u001b[0m\u001b[1;33m\u001b[0m\u001b[0m\n\u001b[1;32m--> 255\u001b[1;33m         \u001b[1;32mreturn\u001b[0m \u001b[0mimg\u001b[0m\u001b[1;33m.\u001b[0m\u001b[0mresize\u001b[0m\u001b[1;33m(\u001b[0m\u001b[0msize\u001b[0m\u001b[1;33m[\u001b[0m\u001b[1;33m:\u001b[0m\u001b[1;33m:\u001b[0m\u001b[1;33m-\u001b[0m\u001b[1;36m1\u001b[0m\u001b[1;33m]\u001b[0m\u001b[1;33m,\u001b[0m \u001b[0minterpolation\u001b[0m\u001b[1;33m)\u001b[0m\u001b[1;33m\u001b[0m\u001b[1;33m\u001b[0m\u001b[0m\n\u001b[0m\u001b[0;32m    256\u001b[0m \u001b[1;33m\u001b[0m\u001b[0m\n\u001b[0;32m    257\u001b[0m \u001b[1;33m\u001b[0m\u001b[0m\n",
      "\u001b[1;32m~\\AppData\\Local\\Continuum\\anaconda3\\lib\\site-packages\\PIL\\Image.py\u001b[0m in \u001b[0;36mresize\u001b[1;34m(self, size, resample, box)\u001b[0m\n\u001b[0;32m   1804\u001b[0m         \u001b[0mself\u001b[0m\u001b[1;33m.\u001b[0m\u001b[0mload\u001b[0m\u001b[1;33m(\u001b[0m\u001b[1;33m)\u001b[0m\u001b[1;33m\u001b[0m\u001b[1;33m\u001b[0m\u001b[0m\n\u001b[0;32m   1805\u001b[0m \u001b[1;33m\u001b[0m\u001b[0m\n\u001b[1;32m-> 1806\u001b[1;33m         \u001b[1;32mreturn\u001b[0m \u001b[0mself\u001b[0m\u001b[1;33m.\u001b[0m\u001b[0m_new\u001b[0m\u001b[1;33m(\u001b[0m\u001b[0mself\u001b[0m\u001b[1;33m.\u001b[0m\u001b[0mim\u001b[0m\u001b[1;33m.\u001b[0m\u001b[0mresize\u001b[0m\u001b[1;33m(\u001b[0m\u001b[0msize\u001b[0m\u001b[1;33m,\u001b[0m \u001b[0mresample\u001b[0m\u001b[1;33m,\u001b[0m \u001b[0mbox\u001b[0m\u001b[1;33m)\u001b[0m\u001b[1;33m)\u001b[0m\u001b[1;33m\u001b[0m\u001b[1;33m\u001b[0m\u001b[0m\n\u001b[0m\u001b[0;32m   1807\u001b[0m \u001b[1;33m\u001b[0m\u001b[0m\n\u001b[0;32m   1808\u001b[0m     def rotate(self, angle, resample=NEAREST, expand=0, center=None,\n",
      "\u001b[1;31mKeyboardInterrupt\u001b[0m: "
     ]
    }
   ],
   "source": [
    "# Testing different parameters. \n",
    "\n",
    "# Learning Rate\n",
    "\n",
    "epochs_total = 200\n",
    "\n",
    "results = {}\n",
    "\n",
    "for learning_rate in [0.0001]:\n",
    "#     modelVGG = models.vgg16(pretrained=True)\n",
    "#     modelVGG.classifier[6] = nn.Sequential(\n",
    "#                       nn.Linear(4096, 256), \n",
    "#                       nn.ReLU(), \n",
    "#                       nn.Dropout(0.4),\n",
    "#                       nn.Linear(256, 8),                   \n",
    "#                       nn.Softmax(dim=1))\n",
    "#     retrainable_setup(modelVGG ,layers_limit = 27)\n",
    "    # create an optimiser for the classifier\n",
    "    optimiser_bulb_transfer = optim.Adam(modelVGG.parameters(), lr=learning_rate, betas = (0.9,0.999))\n",
    "    # Create a criterion. Lets use cross entropy loss. \n",
    "    criterion = nn.CrossEntropyLoss(weight=None, size_average=None, ignore_index=-100, reduce=None, reduction='mean')\n",
    "    error_monitoring = []\n",
    "    \n",
    "    for epoch in range(epochs_total):\n",
    "        i = 1\n",
    "        for data, labels in train:\n",
    "\n",
    "            # push the image through the network\n",
    "            prediction = modelVGG(data)\n",
    "\n",
    "            error = criterion(prediction, labels)\n",
    "\n",
    "            # zero grad\n",
    "            modelVGG.zero_grad()\n",
    "            error.backward()\n",
    "            optimiser_bulb_transfer.step()\n",
    "            \n",
    "            i = i + 1\n",
    "        #for each epoch record the final error\n",
    "        error_monitoring.append(error.item())\n",
    "        print('[%d/%d][%d/%d] Loss: %.4f' % (epoch, epochs_total, i, len(train),error))\n",
    "    \n",
    "    results[learning_rate] = error_monitoring\n",
    "        "
   ]
  },
  {
   "cell_type": "code",
   "execution_count": 50,
   "metadata": {},
   "outputs": [
    {
     "data": {
      "text/plain": [
       "{}"
      ]
     },
     "execution_count": 50,
     "metadata": {},
     "output_type": "execute_result"
    }
   ],
   "source": [
    "results"
   ]
  },
  {
   "cell_type": "code",
   "execution_count": 49,
   "metadata": {},
   "outputs": [
    {
     "ename": "KeyError",
     "evalue": "0.0001",
     "output_type": "error",
     "traceback": [
      "\u001b[1;31m---------------------------------------------------------------------------\u001b[0m",
      "\u001b[1;31mKeyError\u001b[0m                                  Traceback (most recent call last)",
      "\u001b[1;32m<ipython-input-49-5d6873452e34>\u001b[0m in \u001b[0;36m<module>\u001b[1;34m\u001b[0m\n\u001b[0;32m      1\u001b[0m \u001b[0mx_values\u001b[0m \u001b[1;33m=\u001b[0m \u001b[0mlist\u001b[0m\u001b[1;33m(\u001b[0m\u001b[0mrange\u001b[0m\u001b[1;33m(\u001b[0m\u001b[1;36m0\u001b[0m\u001b[1;33m,\u001b[0m\u001b[0mepochs_total\u001b[0m\u001b[1;33m)\u001b[0m\u001b[1;33m)\u001b[0m\u001b[1;33m\u001b[0m\u001b[1;33m\u001b[0m\u001b[0m\n\u001b[0;32m      2\u001b[0m \u001b[1;32mfor\u001b[0m \u001b[0mlearning_rate\u001b[0m \u001b[1;32min\u001b[0m \u001b[1;33m[\u001b[0m\u001b[1;36m0.0001\u001b[0m\u001b[1;33m]\u001b[0m\u001b[1;33m:\u001b[0m\u001b[1;33m\u001b[0m\u001b[1;33m\u001b[0m\u001b[0m\n\u001b[1;32m----> 3\u001b[1;33m     \u001b[0mplt\u001b[0m\u001b[1;33m.\u001b[0m\u001b[0mplot\u001b[0m\u001b[1;33m(\u001b[0m\u001b[0mx_values\u001b[0m\u001b[1;33m,\u001b[0m \u001b[0mresults\u001b[0m\u001b[1;33m[\u001b[0m\u001b[0mlearning_rate\u001b[0m\u001b[1;33m]\u001b[0m\u001b[1;33m,\u001b[0m \u001b[0mlabel\u001b[0m\u001b[1;33m=\u001b[0m\u001b[0mlearning_rate\u001b[0m\u001b[1;33m)\u001b[0m\u001b[1;33m\u001b[0m\u001b[1;33m\u001b[0m\u001b[0m\n\u001b[0m\u001b[0;32m      4\u001b[0m \u001b[1;33m\u001b[0m\u001b[0m\n\u001b[0;32m      5\u001b[0m     \u001b[0mplt\u001b[0m\u001b[1;33m.\u001b[0m\u001b[0mtitle\u001b[0m\u001b[1;33m(\u001b[0m\u001b[1;34m'Learning Rates'\u001b[0m\u001b[1;33m)\u001b[0m\u001b[1;33m\u001b[0m\u001b[1;33m\u001b[0m\u001b[0m\n",
      "\u001b[1;31mKeyError\u001b[0m: 0.0001"
     ]
    }
   ],
   "source": [
    "x_values = list(range(0,epochs_total))\n",
    "for learning_rate in [0.0001]:\n",
    "    plt.plot(x_values, results[learning_rate], label=learning_rate)\n",
    "\n",
    "    plt.title('Learning Rates')\n",
    "    plt.xlabel('Epochs')\n",
    "    plt.ylabel('loss')\n",
    "    plt.legend()\n",
    "plt.savefig('Learning_Rates')"
   ]
  },
  {
   "cell_type": "code",
   "execution_count": 51,
   "metadata": {},
   "outputs": [
    {
     "name": "stdout",
     "output_type": "stream",
     "text": [
      "[[ 1  7  3  5  7  9 14  4]\n",
      " [ 6  7  2  6 16  4 10  1]\n",
      " [ 0  8  7  5 15  9 10  2]\n",
      " [ 1 13  3  3 17 10  5  3]\n",
      " [ 3  6  2  5 12  8 10  3]\n",
      " [ 1  7  5  8  8  3 16  1]\n",
      " [ 3  5  5  5 11  9 12  1]\n",
      " [ 0  8  3  4 11  6 19  4]]\n",
      "Precision 0.118\n",
      "Recall 0.118\n"
     ]
    }
   ],
   "source": [
    "inference(model, dev)"
   ]
  },
  {
   "cell_type": "code",
   "execution_count": null,
   "metadata": {},
   "outputs": [],
   "source": []
  }
 ],
 "metadata": {
  "kernelspec": {
   "display_name": "Python 3",
   "language": "python",
   "name": "python3"
  },
  "language_info": {
   "codemirror_mode": {
    "name": "ipython",
    "version": 3
   },
   "file_extension": ".py",
   "mimetype": "text/x-python",
   "name": "python",
   "nbconvert_exporter": "python",
   "pygments_lexer": "ipython3",
   "version": "3.6.8"
  }
 },
 "nbformat": 4,
 "nbformat_minor": 2
}
