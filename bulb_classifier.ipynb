{
 "cells": [
  {
   "cell_type": "code",
   "execution_count": 2,
   "metadata": {},
   "outputs": [],
   "source": [
    "import pandas as pd\n",
    "import numpy as np\n",
    "import os \n",
    "\n",
    "import torch\n",
    "import torch.nn as nn\n",
    "from torch.utils.data import Dataset, DataLoader\n",
    "from torchvision import transforms, datasets\n",
    "import torchvision.utils as utils\n",
    "import torch.optim as optim\n",
    "\n",
    "import matplotlib.pyplot as plt\n",
    "\n",
    "from PIL import ImageFile\n",
    "ImageFile.LOAD_TRUNCATED_IMAGES = True\n",
    "\n",
    "from torch.utils.data import SubsetRandomSampler\n",
    "from sklearn.metrics import confusion_matrix"
   ]
  },
  {
   "cell_type": "markdown",
   "metadata": {},
   "source": [
    "8 Class classification problem \n",
    "\n",
    "Initially work on trying to classifiy based on google search scraped pictures of these lightbulbs.\n",
    "The problem with this is that they nearly always have a white backgroud and are not realistic of a phone camera version\n",
    "of a picture of the light bulb\n",
    "'current search: B15 light bulbs'\n",
    "\n",
    "Classes\n",
    "E27 light bulbs\n",
    "E14 light bulbs\n",
    "B22 light bulbs\n",
    "B15 light bulbs\n",
    "GU10 light bulbs\n",
    "G4\n",
    "G9\n",
    "MR16\n",
    "\n",
    "\n",
    "Need to also buy some examples of the light bulbs as a way of building up my own dataset that might be more realistic.\n"
   ]
  },
  {
   "cell_type": "markdown",
   "metadata": {},
   "source": [
    "# Support functions"
   ]
  },
  {
   "cell_type": "code",
   "execution_count": 3,
   "metadata": {},
   "outputs": [],
   "source": [
    "folders = ['B15','B22','E14', 'E27', 'G4', 'G9','GU10', 'MR16']\n",
    "\n",
    "def file_rename(folders):\n",
    "    '''\n",
    "    Function to rename all files taken from the internet from training.Used to rename\n",
    "    all the file names to avoid really long file names and make it easier to know which\n",
    "    bulb it is.\n",
    "    \n",
    "    Could be made more generic for other projects. Eg move out the base location into a parameter.\n",
    "    \n",
    "    input - folder names\n",
    "    \n",
    "    output - all files renamed in place. \n",
    "    \n",
    "    '''\n",
    "    \n",
    "    for bulb_type in folders:\n",
    "\n",
    "        location = r\"C:\\Users\\awalker8\\Documents\\COVID_Furlow\\bulb_class\\bulb_data\"\n",
    "        location = location + '\\\\' + bulb_type + '\\\\'\n",
    "        print(location)\n",
    "        for count, filename in enumerate(os.listdir(location)): \n",
    "            dst = bulb_type + str(count) + \".jpg\"\n",
    "            src = location + filename \n",
    "            dst = location + dst \n",
    "            # rename() function will \n",
    "            # rename all the files \n",
    "            os.rename(src, dst) "
   ]
  },
  {
   "cell_type": "code",
   "execution_count": 4,
   "metadata": {},
   "outputs": [],
   "source": [
    "def create_separate_train_dev_test( dataset, percentages = [0.8,0.1,0.1]):\n",
    "    '''\n",
    "    Function to create separate dataloaders for test dev and train.\n",
    "    \n",
    "    Inputs - list of percentage breakdowns [train, dev , test] Must add to 1. \n",
    "    # Add in test to check for this ~\n",
    "    \n",
    "    Outputs - each dataloader.\n",
    "    \n",
    "    '''\n",
    "\n",
    "    indices = list(range(len(light_bulbs)))\n",
    "    train_amount =0.8\n",
    "    dev = 0.1\n",
    "    test = 0.1\n",
    "\n",
    "    split_1 = int(np.floor(len(light_bulbs)*0.8))\n",
    "    split_2 = int(np.floor(len(light_bulbs)*0.9))\n",
    "\n",
    "    np.random.seed(0)\n",
    "    np.random.shuffle(indices)\n",
    "\n",
    "    train_indices, dev_indices, test_indices = indices[:split_1], indices[split_1:split_2],indices[split_2:]\n",
    "\n",
    "    train_sampler = SubsetRandomSampler(train_indices)\n",
    "    dev_sampler = SubsetRandomSampler(dev_indices)\n",
    "    test_sampler = SubsetRandomSampler(test_indices)\n",
    "\n",
    "    dataloader_train = torch.utils.data.DataLoader(light_bulbs,\n",
    "                                                 batch_size=64,\n",
    "                                                 num_workers=0 , sampler = train_sampler)\n",
    "\n",
    "    dataloader_dev = torch.utils.data.DataLoader(light_bulbs,\n",
    "                                                 batch_size=1,\n",
    "                                                 num_workers=0 , sampler = dev_sampler)\n",
    "\n",
    "    dataloader_test = torch.utils.data.DataLoader(light_bulbs,\n",
    "                                                 batch_size=1,\n",
    "                                                 num_workers=0 , sampler = test_sampler)\n",
    "    \n",
    "    return dataloader_train, dataloader_dev, dataloader_test"
   ]
  },
  {
   "cell_type": "code",
   "execution_count": 5,
   "metadata": {},
   "outputs": [],
   "source": [
    "def print_examples(dataloader, number_to_show =4):\n",
    "    i=0\n",
    "    for x, y in dataloader:  \n",
    "        out = np.reshape(x[i].numpy(),newshape =[x[i].shape[1],x[i].shape[2],x[i].shape[0]])\n",
    "        plt.imshow(out)\n",
    "        plt.title('Bulb type {}'.format(y[i]))\n",
    "        plt.show()\n",
    "        \n",
    "        i = i + 1\n",
    "        if i == number_to_show:\n",
    "            break"
   ]
  },
  {
   "cell_type": "markdown",
   "metadata": {},
   "source": [
    "# Datasets"
   ]
  },
  {
   "cell_type": "code",
   "execution_count": 6,
   "metadata": {},
   "outputs": [],
   "source": [
    "# Create a pytorch dataset, and then dataloader to allow for mini-batch processing. \n",
    "data_transform = transforms.Compose([\n",
    "        transforms.Resize(255),\n",
    "        transforms.CenterCrop(128),\n",
    "        #transforms.RandomSizedCrop(256),\n",
    "        #transforms.RandomHorizontalFlip(),\n",
    "        transforms.ToTensor(),\n",
    "        transforms.Normalize(mean=[0.485, 0.456, 0.406],\n",
    "                             std=[0.229, 0.224, 0.225])\n",
    "        ])\n",
    "    \n",
    "light_bulbs = datasets.ImageFolder(root=r'C:\\Users\\awalker8\\Documents\\COVID_Furlow\\bulb_class\\bulb_data',\n",
    "                                           transform=data_transform)\n",
    "    "
   ]
  },
  {
   "cell_type": "code",
   "execution_count": 7,
   "metadata": {},
   "outputs": [],
   "source": [
    "train, dev, test = create_separate_train_dev_test(light_bulbs, percentages = [0.8,0.1,0.1])"
   ]
  },
  {
   "cell_type": "code",
   "execution_count": 8,
   "metadata": {},
   "outputs": [
    {
     "name": "stderr",
     "output_type": "stream",
     "text": [
      "Clipping input data to the valid range for imshow with RGB data ([0..1] for floats or [0..255] for integers).\n"
     ]
    },
    {
     "data": {
      "image/png": "[encoded data removed]",
      "text/plain": [
       "<Figure size 432x288 with 1 Axes>"
      ]
     },
     "metadata": {
      "needs_background": "light"
     },
     "output_type": "display_data"
    },
    {
     "name": "stderr",
     "output_type": "stream",
     "text": [
      "Clipping input data to the valid range for imshow with RGB data ([0..1] for floats or [0..255] for integers).\n"
     ]
    },
    {
     "data": {
      "image/png": "[encoded data removed]",
      "text/plain": [
       "<Figure size 432x288 with 1 Axes>"
      ]
     },
     "metadata": {
      "needs_background": "light"
     },
     "output_type": "display_data"
    },
    {
     "name": "stderr",
     "output_type": "stream",
     "text": [
      "Clipping input data to the valid range for imshow with RGB data ([0..1] for floats or [0..255] for integers).\n"
     ]
    },
    {
     "data": {
      "image/png": "[encoded data removed]",
      "text/plain": [
       "<Figure size 432x288 with 1 Axes>"
      ]
     },
     "metadata": {
      "needs_background": "light"
     },
     "output_type": "display_data"
    },
    {
     "name": "stderr",
     "output_type": "stream",
     "text": [
      "Clipping input data to the valid range for imshow with RGB data ([0..1] for floats or [0..255] for integers).\n"
     ]
    },
    {
     "data": {
      "image/png": "[encoded data removed]",
      "text/plain": [
       "<Figure size 432x288 with 1 Axes>"
      ]
     },
     "metadata": {
      "needs_background": "light"
     },
     "output_type": "display_data"
    }
   ],
   "source": [
    "print_examples(train, number_to_show =4)"
   ]
  },
  {
   "cell_type": "markdown",
   "metadata": {},
   "source": [
    "# CNN"
   ]
  },
  {
   "cell_type": "code",
   "execution_count": 9,
   "metadata": {},
   "outputs": [],
   "source": [
    "# Defining the weights_init function that takes as input a neural network m and that will initialize all its weights.\n",
    "def weights_init(m):\n",
    "    classname = m.__class__.__name__\n",
    "    if classname.find('Conv') != -1:\n",
    "        m.weight.data.normal_(0.0, 0.02)\n",
    "    elif classname.find('BatchNorm') != -1:\n",
    "        m.weight.data.normal_(1.0, 0.02)\n",
    "        m.bias.data.fill_(0)"
   ]
  },
  {
   "cell_type": "code",
   "execution_count": 10,
   "metadata": {},
   "outputs": [],
   "source": [
    "# Define the classifier\n",
    "\n",
    "class bulb_model(nn.Module):\n",
    "    \n",
    "    def __init__(self):\n",
    "        super(bulb_model, self).__init__()\n",
    "    \n",
    "        self.main = nn.Sequential(\n",
    "            nn.Conv2d(in_channels=3, out_channels=64, kernel_size=4, stride=2, padding=1, bias=False),\n",
    "            nn.LeakyReLU(0.2, inplace=True),\n",
    "            nn.Conv2d(in_channels=64, out_channels=128, kernel_size=4, stride=2, padding=1, bias=False),\n",
    "            # add a max pooling layer\n",
    "            nn.MaxPool2d(kernel_size =3 , stride=1, padding=0),\n",
    "            nn.BatchNorm2d(128),\n",
    "            nn.LeakyReLU(0.2, inplace = True), \n",
    "            nn.Conv2d(128, 256, 4, 2, 1, bias = False), \n",
    "            nn.MaxPool2d(kernel_size =2 , stride=1, padding=0),\n",
    "            nn.BatchNorm2d(256), \n",
    "            nn.LeakyReLU(0.2, inplace = True), \n",
    "            nn.Conv2d(256, 512, 4, 2, 1, bias = False),\n",
    "            nn.BatchNorm2d(512), \n",
    "            nn.LeakyReLU(0.2, inplace = True), \n",
    "            nn.Conv2d(512, 10, 4, 1, 0, bias = False), \n",
    "            nn.Flatten(),\n",
    "            nn.Linear(160, 512),\n",
    "            nn.Dropout(p=0.2),\n",
    "            nn.Linear(512, 128),\n",
    "            nn.Dropout(p=0.2),\n",
    "            nn.Linear(128, 10),\n",
    "            nn.Softmax()\n",
    "        )\n",
    "        \n",
    "    def forward(self, input):\n",
    "        output = self.main(input)\n",
    "        return output"
   ]
  },
  {
   "cell_type": "code",
   "execution_count": 11,
   "metadata": {},
   "outputs": [
    {
     "data": {
      "text/plain": [
       "bulb_model(\n",
       "  (main): Sequential(\n",
       "    (0): Conv2d(3, 64, kernel_size=(4, 4), stride=(2, 2), padding=(1, 1), bias=False)\n",
       "    (1): LeakyReLU(negative_slope=0.2, inplace=True)\n",
       "    (2): Conv2d(64, 128, kernel_size=(4, 4), stride=(2, 2), padding=(1, 1), bias=False)\n",
       "    (3): MaxPool2d(kernel_size=3, stride=1, padding=0, dilation=1, ceil_mode=False)\n",
       "    (4): BatchNorm2d(128, eps=1e-05, momentum=0.1, affine=True, track_running_stats=True)\n",
       "    (5): LeakyReLU(negative_slope=0.2, inplace=True)\n",
       "    (6): Conv2d(128, 256, kernel_size=(4, 4), stride=(2, 2), padding=(1, 1), bias=False)\n",
       "    (7): MaxPool2d(kernel_size=2, stride=1, padding=0, dilation=1, ceil_mode=False)\n",
       "    (8): BatchNorm2d(256, eps=1e-05, momentum=0.1, affine=True, track_running_stats=True)\n",
       "    (9): LeakyReLU(negative_slope=0.2, inplace=True)\n",
       "    (10): Conv2d(256, 512, kernel_size=(4, 4), stride=(2, 2), padding=(1, 1), bias=False)\n",
       "    (11): BatchNorm2d(512, eps=1e-05, momentum=0.1, affine=True, track_running_stats=True)\n",
       "    (12): LeakyReLU(negative_slope=0.2, inplace=True)\n",
       "    (13): Conv2d(512, 10, kernel_size=(4, 4), stride=(1, 1), bias=False)\n",
       "    (14): Flatten()\n",
       "    (15): Linear(in_features=160, out_features=512, bias=True)\n",
       "    (16): Dropout(p=0.2, inplace=False)\n",
       "    (17): Linear(in_features=512, out_features=128, bias=True)\n",
       "    (18): Dropout(p=0.2, inplace=False)\n",
       "    (19): Linear(in_features=128, out_features=10, bias=True)\n",
       "    (20): Softmax(dim=None)\n",
       "  )\n",
       ")"
      ]
     },
     "execution_count": 11,
     "metadata": {},
     "output_type": "execute_result"
    }
   ],
   "source": [
    "classifier_1 = bulb_model()\n",
    "classifier_1.apply(weights_init)"
   ]
  },
  {
   "cell_type": "markdown",
   "metadata": {},
   "source": [
    "# Train classifier"
   ]
  },
  {
   "cell_type": "code",
   "execution_count": 12,
   "metadata": {},
   "outputs": [],
   "source": [
    "# create an optimiser for the classifier\n",
    "optimiser_bulb = optim.Adam(classifier_1.parameters(), lr=0.002, betas = (0.9,0.999))\n",
    "# Create a criterion. Lets use cross entropy loss. \n",
    "criterion = nn.CrossEntropyLoss(weight=None, size_average=None, ignore_index=-100, reduce=None, reduction='mean')"
   ]
  },
  {
   "cell_type": "code",
   "execution_count": 13,
   "metadata": {},
   "outputs": [],
   "source": [
    "epochs_total = 1"
   ]
  },
  {
   "cell_type": "code",
   "execution_count": 14,
   "metadata": {},
   "outputs": [
    {
     "name": "stderr",
     "output_type": "stream",
     "text": [
      "C:\\Users\\awalker8\\AppData\\Local\\Continuum\\anaconda3\\lib\\site-packages\\torch\\nn\\modules\\container.py:92: UserWarning: Implicit dimension choice for softmax has been deprecated. Change the call to include dim=X as an argument.\n",
      "  input = module(input)\n"
     ]
    },
    {
     "name": "stdout",
     "output_type": "stream",
     "text": [
      "[0/1][1/57] Loss: 2.2989\n",
      "[0/1][2/57] Loss: 2.3107\n",
      "[0/1][3/57] Loss: 2.2541\n",
      "[0/1][4/57] Loss: 2.2842\n",
      "[0/1][5/57] Loss: 2.3156\n",
      "[0/1][6/57] Loss: 2.2392\n",
      "[0/1][7/57] Loss: 2.3133\n",
      "[0/1][8/57] Loss: 2.3375\n",
      "[0/1][9/57] Loss: 2.2191\n",
      "[0/1][10/57] Loss: 2.3048\n",
      "[0/1][11/57] Loss: 2.3255\n",
      "[0/1][12/57] Loss: 2.3016\n",
      "[0/1][13/57] Loss: 2.2588\n",
      "[0/1][14/57] Loss: 2.2766\n",
      "[0/1][15/57] Loss: 2.2685\n"
     ]
    },
    {
     "name": "stderr",
     "output_type": "stream",
     "text": [
      "C:\\Users\\awalker8\\AppData\\Local\\Continuum\\anaconda3\\lib\\site-packages\\PIL\\Image.py:969: UserWarning: Palette images with Transparency   expressed in bytes should be converted to RGBA images\n",
      "  'to RGBA images')\n"
     ]
    },
    {
     "name": "stdout",
     "output_type": "stream",
     "text": [
      "[0/1][16/57] Loss: 2.3674\n",
      "[0/1][17/57] Loss: 2.2883\n",
      "[0/1][18/57] Loss: 2.3200\n",
      "[0/1][19/57] Loss: 2.3205\n",
      "[0/1][20/57] Loss: 2.2737\n",
      "[0/1][21/57] Loss: 2.2422\n",
      "[0/1][22/57] Loss: 2.2573\n",
      "[0/1][23/57] Loss: 2.3204\n",
      "[0/1][24/57] Loss: 2.2111\n",
      "[0/1][25/57] Loss: 2.3205\n",
      "[0/1][26/57] Loss: 2.3197\n",
      "[0/1][27/57] Loss: 2.2580\n",
      "[0/1][28/57] Loss: 2.3048\n",
      "[0/1][29/57] Loss: 2.2727\n",
      "[0/1][30/57] Loss: 2.3044\n",
      "[0/1][31/57] Loss: 2.2730\n",
      "[0/1][32/57] Loss: 2.1647\n",
      "[0/1][33/57] Loss: 2.2731\n",
      "[0/1][34/57] Loss: 2.2572\n",
      "[0/1][35/57] Loss: 2.3054\n",
      "[0/1][36/57] Loss: 2.3358\n",
      "[0/1][37/57] Loss: 2.3198\n",
      "[0/1][38/57] Loss: 2.3827\n",
      "[0/1][39/57] Loss: 2.3354\n",
      "[0/1][40/57] Loss: 2.3357\n",
      "[0/1][41/57] Loss: 2.3043\n",
      "[0/1][42/57] Loss: 2.2892\n",
      "[0/1][43/57] Loss: 2.3043\n",
      "[0/1][44/57] Loss: 2.3987\n",
      "[0/1][45/57] Loss: 2.3816\n",
      "[0/1][46/57] Loss: 2.3518\n",
      "[0/1][47/57] Loss: 2.3362\n",
      "[0/1][48/57] Loss: 2.3674\n",
      "[0/1][49/57] Loss: 2.3518\n",
      "[0/1][50/57] Loss: 2.3518\n",
      "[0/1][51/57] Loss: 2.3518\n",
      "[0/1][52/57] Loss: 2.3830\n",
      "[0/1][53/57] Loss: 2.3201\n",
      "[0/1][54/57] Loss: 2.3514\n",
      "[0/1][55/57] Loss: 2.2735\n",
      "[0/1][56/57] Loss: 2.3674\n",
      "[0/1][57/57] Loss: 2.4611\n"
     ]
    }
   ],
   "source": [
    "for epoch in range(epochs_total):\n",
    "    i = 1\n",
    "    for data, labels in train:\n",
    "     \n",
    "        # push the image through the network\n",
    "        prediction = classifier_1(data)\n",
    "        \n",
    "        error = criterion(prediction, labels)\n",
    "        print('[%d/%d][%d/%d] Loss: %.4f' % (epoch, epochs_total, i, len(train),error))\n",
    "  \n",
    "        # zero grad\n",
    "        classifier_1.zero_grad()\n",
    "        error.backward()\n",
    "        optimiser_bulb.step()\n",
    "        \n",
    "        #if i == 10:\n",
    "        #   break\n",
    "            \n",
    "        i = i + 1"
   ]
  },
  {
   "cell_type": "code",
   "execution_count": 60,
   "metadata": {},
   "outputs": [],
   "source": [
    "# confusion matrix on the dev set\n",
    "# F1 score - going to be my key metric? (for now)\n",
    "\n",
    "def inference(model, dev_dataset):\n",
    "\n",
    "    dev_predictions = []\n",
    "    dev_labels = []\n",
    "\n",
    "    for data, labels in dev_dataset:\n",
    "            # push the image through the network\n",
    "            predictions = model(data).detach().numpy()\n",
    "            #print(predictions)\n",
    "            index  = np.argmax(predictions, axis=1)\n",
    "            #print(index)\n",
    "            dev_predictions.append(index)\n",
    "            actual = labels.detach().numpy()\n",
    "            dev_labels.append(actual)\n",
    "\n",
    "    print(confusion_matrix(dev_labels, dev_predictions))\n",
    "\n",
    "    from sklearn.metrics import precision_score, recall_score\n",
    "    pre = precision_score(dev_labels, dev_predictions, average='micro')\n",
    "    print('Precision {}'.format(round(pre,3)))\n",
    "    rec = recall_score(dev_labels, dev_predictions, average='micro')\n",
    "    print('Recall {}'.format(round(rec,3)))"
   ]
  },
  {
   "cell_type": "code",
   "execution_count": 61,
   "metadata": {},
   "outputs": [
    {
     "name": "stderr",
     "output_type": "stream",
     "text": [
      "C:\\Users\\awalker8\\AppData\\Local\\Continuum\\anaconda3\\lib\\site-packages\\torch\\nn\\modules\\container.py:92: UserWarning: Implicit dimension choice for softmax has been deprecated. Change the call to include dim=X as an argument.\n",
      "  input = module(input)\n"
     ]
    },
    {
     "name": "stdout",
     "output_type": "stream",
     "text": [
      "[[ 0  0 12  0  0  1  0 37]\n",
      " [ 0  0 11  0  0  0  0 32]\n",
      " [ 0  0 18  0  0  0  0 32]\n",
      " [ 0  0 17  0  0  0  0 35]\n",
      " [ 2  0 26  0  0  0  0 47]\n",
      " [ 1  0 19  0  0  0  0 33]\n",
      " [ 1  0  9  0  0  1  0 35]\n",
      " [ 1  0 15  0  0  2  0 62]]\n",
      "Precision 0.178\n",
      "Recall 0.178\n"
     ]
    }
   ],
   "source": [
    "inference(classifier_1, dev)"
   ]
  },
  {
   "cell_type": "markdown",
   "metadata": {},
   "source": [
    "# Experimenting with Built from Scratch\n",
    "\n",
    "Base set up - after 25 epochs it predicts them all to be type 3.\n",
    "\n",
    "What's the problem - high bias\n",
    "\n",
    "Bigger network,\n",
    "change the learning rate\n",
    "change the layers\n",
    "\n"
   ]
  },
  {
   "cell_type": "markdown",
   "metadata": {},
   "source": [
    "# Transfer Learning"
   ]
  },
  {
   "cell_type": "code",
   "execution_count": 18,
   "metadata": {},
   "outputs": [],
   "source": [
    "# To try and give myself a heads start lets see what happens if we use VGG network as the basis and then transfer learn. "
   ]
  },
  {
   "cell_type": "code",
   "execution_count": 69,
   "metadata": {},
   "outputs": [],
   "source": [
    "'''\n",
    "Create a way to train more layers is required. \n",
    "For now all  37 original layers not retrained.\n",
    "I think I would need to retrain for this problem\n",
    "but it quickly increases the parameters required. \n",
    "'''\n",
    "def retrainable_setup(model ,layers_limit):\n",
    "\n",
    "    '''\n",
    "    Function that allows you to set certain layers to be trainable or not\n",
    "    When using a transfer learning approach can vary the amount of layers you want to retrain.\n",
    "    \n",
    "    input \n",
    "    - layers_limit - number of layers to keep fixed.\n",
    "    - model \n",
    "    \n",
    "    output \n",
    "    - model - with layers set for training or not. \n",
    "    '''\n",
    "\n",
    "    for param in model.parameters():\n",
    "        param.requires_grad = False\n",
    "    i = 0\n",
    "    for child in model.children():\n",
    "        for layer in child.children():\n",
    "            i  +=1\n",
    "            if i > layers_limit:\n",
    "                for param in layer.parameters():\n",
    "                    param.requires_grad = True\n",
    "            else:\n",
    "                for param in layer.parameters():\n",
    "                    param.requires_grad = False\n"
   ]
  },
  {
   "cell_type": "code",
   "execution_count": 70,
   "metadata": {},
   "outputs": [],
   "source": [
    "from torchvision import models\n",
    "modelVGG = models.vgg16(pretrained=True)"
   ]
  },
  {
   "cell_type": "code",
   "execution_count": 74,
   "metadata": {},
   "outputs": [],
   "source": [
    "modelVGG.classifier[6] = nn.Sequential(\n",
    "                      nn.Linear(4096, 256), \n",
    "                      nn.ReLU(), \n",
    "                      nn.Dropout(0.4),\n",
    "                      nn.Linear(256, 8),                   \n",
    "                      nn.Softmax(dim=1))"
   ]
  },
  {
   "cell_type": "code",
   "execution_count": 75,
   "metadata": {},
   "outputs": [],
   "source": [
    "retrainable_setup(model ,layers_limit = 33)"
   ]
  },
  {
   "cell_type": "code",
   "execution_count": 76,
   "metadata": {},
   "outputs": [
    {
     "name": "stdout",
     "output_type": "stream",
     "text": [
      "135,311,432 total parameters.\n",
      "17,832,200 training parameters.\n"
     ]
    }
   ],
   "source": [
    "# Find total parameters and trainable parameters\n",
    "total_params = sum(p.numel() for p in model.parameters())\n",
    "print(f'{total_params:,} total parameters.')\n",
    "total_trainable_params = sum(\n",
    "    p.numel() for p in model.parameters() if p.requires_grad)\n",
    "print(f'{total_trainable_params:,} training parameters.')"
   ]
  },
  {
   "cell_type": "code",
   "execution_count": null,
   "metadata": {},
   "outputs": [],
   "source": [
    "epochs_total = 25\n",
    "for epoch in range(epochs_total):\n",
    "    i = 1\n",
    "    for data, labels in train:\n",
    "     \n",
    "        # push the image through the network\n",
    "        prediction = model(data)\n",
    "        \n",
    "        error = criterion(prediction, labels)\n",
    "        print('[%d/%d][%d/%d] Loss: %.4f' % (epoch, epochs_total, i, len(train),error))\n",
    "  \n",
    "        # zero grad\n",
    "        model.zero_grad()\n",
    "        error.backward()\n",
    "        optimiser_bulb.step()\n",
    "        \n",
    "        #if i == 10:\n",
    "        #   break\n",
    "            \n",
    "        i = i + 1"
   ]
  },
  {
   "cell_type": "code",
   "execution_count": 78,
   "metadata": {},
   "outputs": [
    {
     "name": "stdout",
     "output_type": "stream",
     "text": [
      "[[ 4  9  7 24  0  2  4  0]\n",
      " [10  4  4 16  2  2  2  3]\n",
      " [ 6  6  4 28  1  1  4  0]\n",
      " [ 6  9  8 20  0  0  9  0]\n",
      " [ 2 14  8 44  0  2  4  1]\n",
      " [ 3  8  3 35  0  2  2  0]\n",
      " [ 6  4  5 26  2  0  3  0]\n",
      " [ 9 16  7 37  4  2  5  0]]\n",
      "Precision 0.082\n",
      "Recall 0.082\n"
     ]
    }
   ],
   "source": [
    "inference(model, dev)"
   ]
  },
  {
   "cell_type": "code",
   "execution_count": null,
   "metadata": {},
   "outputs": [],
   "source": []
  }
 ],
 "metadata": {
  "kernelspec": {
   "display_name": "Python 3",
   "language": "python",
   "name": "python3"
  },
  "language_info": {
   "codemirror_mode": {
    "name": "ipython",
    "version": 3
   },
   "file_extension": ".py",
   "mimetype": "text/x-python",
   "name": "python",
   "nbconvert_exporter": "python",
   "pygments_lexer": "ipython3",
   "version": "3.6.8"
  }
 },
 "nbformat": 4,
 "nbformat_minor": 2
}
