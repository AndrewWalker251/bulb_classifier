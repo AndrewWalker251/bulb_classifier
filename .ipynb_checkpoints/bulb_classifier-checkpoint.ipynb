{
 "cells": [
  {
   "cell_type": "markdown",
   "metadata": {},
   "source": [
    "# Light Bulb Detector\n",
    "\n",
    "Detecting which lightbulb you have from a phone picture to make changing your lights to energy efficient solutions really easy.\n",
    "\n",
    "### Notebook: Simple Classifier\n",
    "\n",
    "Approach the problem as a image classification problem. \n",
    "\n",
    "1. Datasets\n",
    "2. Trained from Scratch Classifier (2 classes)\n",
    "3. Transfer Learning Classifier (2 classes)\n",
    "4. Transfer Learning Classifier (8 classes)\n",
    "\n",
    "\n",
    "Background: What are some of the different lightbulbs.\n",
    "\n",
    "E27<br>\n",
    "E14<br>\n",
    "B22<br>\n",
    "B15<br>\n",
    "GU10<br>\n",
    "G4<br>\n",
    "G9<br>\n",
    "MR16<br>\n",
    "\n",
    "Dataset creation: Gathered images using the 'ZIP' chrome add on from a google search of the bulb type. \n",
    "\n",
    "Dataset sizes - about 500 images of each class\n",
    "\n",
    "Dataset quality is not very good. Some images have multiple images of the same bulb, mostly white backgrounds and some cases where you get a picture of the box. \n",
    "\n",
    "references: https://pytorch.org/tutorials/beginner/blitz/cifar10_tutorial.html"
   ]
  },
  {
   "cell_type": "code",
   "execution_count": 216,
   "metadata": {},
   "outputs": [],
   "source": [
    "import pandas as pd\n",
    "import numpy as np\n",
    "import itertools\n",
    "import os \n",
    "import time\n",
    "import copy\n",
    "\n",
    "import torch\n",
    "import torch.nn as nn\n",
    "from torch.utils.data import Dataset, DataLoader\n",
    "from torchvision import transforms, datasets\n",
    "import torchvision.utils as utils\n",
    "import torch.optim as optim\n",
    "import torchvision.utils as vutils\n",
    "import matplotlib.image as mpimg\n",
    "import torchvision\n",
    "from torchvision import models\n",
    "\n",
    "import matplotlib.pyplot as plt\n",
    "\n",
    "from PIL import ImageFile\n",
    "ImageFile.LOAD_TRUNCATED_IMAGES = True\n",
    "\n",
    "from torch.utils.data import SubsetRandomSampler\n",
    "from sklearn.metrics import confusion_matrix\n",
    "from sklearn.metrics import plot_confusion_matrix\n",
    "import matplotlib.pyplot as plt\n",
    "\n",
    "%matplotlib inline"
   ]
  },
  {
   "cell_type": "code",
   "execution_count": 217,
   "metadata": {},
   "outputs": [],
   "source": [
    "device = torch.device('cuda') if torch.cuda.is_available() else torch.device('cpu')"
   ]
  },
  {
   "cell_type": "code",
   "execution_count": 261,
   "metadata": {},
   "outputs": [],
   "source": [
    "TRAIN = 'NO'"
   ]
  },
  {
   "cell_type": "markdown",
   "metadata": {},
   "source": [
    "# Datasets"
   ]
  },
  {
   "cell_type": "code",
   "execution_count": 219,
   "metadata": {},
   "outputs": [],
   "source": [
    "# Set up working directory\n",
    "WORKING_DIR = os.getcwd()\n",
    "IMAGE_DIR = WORKING_DIR.replace('bulb_classifier','bulb_data')"
   ]
  },
  {
   "cell_type": "code",
   "execution_count": 220,
   "metadata": {},
   "outputs": [],
   "source": [
    "folders = ['B15','B22','E14', 'E27', 'G4', 'G9','GU10', 'MR16']\n",
    "\n",
    "def file_rename(folders):\n",
    "    '''\n",
    "    Function to rename all files taken from the internet from training. Used to rename\n",
    "    all the file names to avoid really long file names and make it easier to know which\n",
    "    bulb it is.\n",
    "    \n",
    "    Could be made more generic for other projects. Eg move out the base location into a parameter.\n",
    "    \n",
    "    input - folder names\n",
    "    \n",
    "    output - all files renamed in place. \n",
    "    \n",
    "    '''\n",
    "    \n",
    "    for bulb_type in folders:\n",
    "\n",
    "        location = IMAGE_DIR\n",
    "        location = location + '\\\\' + bulb_type + '\\\\'\n",
    "        print(location)\n",
    "        for count, filename in enumerate(os.listdir(location)): \n",
    "            dst = bulb_type + str(count) + \".jpg\"\n",
    "            src = location + filename \n",
    "            dst = location + dst  \n",
    "            os.rename(src, dst) "
   ]
  },
  {
   "cell_type": "code",
   "execution_count": 221,
   "metadata": {},
   "outputs": [],
   "source": [
    "def create_separate_train_dev_test( dataset, percentages = [0.8,0.1,0.1]):\n",
    "    '''\n",
    "    Function to create separate dataloaders for test dev and train.\n",
    "    \n",
    "    Inputs - list of percentage breakdowns [train, dev , test] Must add to 1. \n",
    "    # Add in test to check for this ~\n",
    "    \n",
    "    Outputs - each dataloader.\n",
    "    \n",
    "    '''\n",
    "\n",
    "    indices = list(range(len(dataset)))\n",
    "    train_amount =0.8\n",
    "    dev = 0.1\n",
    "    test = 0.1\n",
    "\n",
    "    split_1 = int(np.floor(len(dataset)*0.8))\n",
    "    split_2 = int(np.floor(len(dataset)*0.9))\n",
    "\n",
    "    np.random.seed(0)\n",
    "    np.random.shuffle(indices)\n",
    "\n",
    "    train_indices, dev_indices, test_indices = indices[:split_1], indices[split_1:split_2],indices[split_2:]\n",
    "\n",
    "    train_sampler = SubsetRandomSampler(train_indices)\n",
    "    dev_sampler = SubsetRandomSampler(dev_indices)\n",
    "    test_sampler = SubsetRandomSampler(test_indices)\n",
    "\n",
    "    dataloader_train = torch.utils.data.DataLoader(dataset,\n",
    "                                                 batch_size=64,\n",
    "                                                 num_workers=0 , sampler = train_sampler)\n",
    "\n",
    "    dataloader_dev = torch.utils.data.DataLoader(dataset,\n",
    "                                                 batch_size=4,\n",
    "                                                 num_workers=0 , sampler = dev_sampler)\n",
    "\n",
    "    dataloader_test = torch.utils.data.DataLoader(dataset,\n",
    "                                                 batch_size=4,\n",
    "                                                 num_workers=0 , sampler = test_sampler)\n",
    "    \n",
    "    return dataloader_train, dataloader_dev, dataloader_test"
   ]
  },
  {
   "cell_type": "code",
   "execution_count": 222,
   "metadata": {},
   "outputs": [],
   "source": [
    "def imshow(img):\n",
    "    img = img / 2 + 0.5     # unnormalize\n",
    "    npimg = img.numpy()\n",
    "    plt.imshow(np.transpose(npimg, (1, 2, 0)))\n",
    "    plt.show()"
   ]
  },
  {
   "cell_type": "code",
   "execution_count": 223,
   "metadata": {},
   "outputs": [],
   "source": [
    "# Create a pytorch dataset, and then dataloader to allow for mini-batch processing. \n",
    "# We can't use random crops as it might cut off the connector\n",
    "\n",
    "data_transform = transforms.Compose([\n",
    "        transforms.Resize((64,64)),\n",
    "        transforms.ToTensor(),\n",
    "        transforms.Normalize(mean=[0.5, 0.5, 0.5],std=[0.5, 0.5, 0.5])\n",
    "        ])\n",
    "    \n",
    "light_bulbs = datasets.ImageFolder(root=IMAGE_DIR,\n",
    "                                           transform=data_transform)\n",
    "\n",
    "classes = light_bulbs.classes"
   ]
  },
  {
   "cell_type": "code",
   "execution_count": 224,
   "metadata": {},
   "outputs": [],
   "source": [
    "train, dev, test = create_separate_train_dev_test(light_bulbs, percentages = [0.8,0.1,0.1])"
   ]
  },
  {
   "cell_type": "code",
   "execution_count": 225,
   "metadata": {},
   "outputs": [
    {
     "data": {
      "image/png": "[encoded data removed]",
      "text/plain": [
       "<Figure size 432x288 with 1 Axes>"
      ]
     },
     "metadata": {
      "needs_background": "light"
     },
     "output_type": "display_data"
    },
    {
     "name": "stdout",
     "output_type": "stream",
     "text": [
      "GroundTruth:   MR16    G9   E27  GU10\n"
     ]
    }
   ],
   "source": [
    "dataiter = iter(test)\n",
    "images, labels = dataiter.next()\n",
    "\n",
    "# print images\n",
    "imshow(torchvision.utils.make_grid(images))\n",
    "print('GroundTruth: ', ' '.join('%5s' % classes[labels[j]] for j in range(4)))"
   ]
  },
  {
   "cell_type": "markdown",
   "metadata": {},
   "source": [
    "# Model"
   ]
  },
  {
   "cell_type": "code",
   "execution_count": 226,
   "metadata": {},
   "outputs": [],
   "source": [
    "class BulbModel(nn.Module):\n",
    "    \n",
    "    '''\n",
    "    class which defines the bulb classifier, forward prop, training and inference methods\n",
    "    \n",
    "    '''\n",
    "    \n",
    "    def __init__(self, num_classes):\n",
    "        super(BulbModel, self).__init__()\n",
    "        \n",
    "        '''\n",
    "        Initialise the model architecture\n",
    "        '''\n",
    "    \n",
    "        self.main = nn.Sequential(\n",
    "            nn.Conv2d(in_channels=3, out_channels=64, kernel_size=4, stride=1, padding=1, bias=False),\n",
    "            nn.LeakyReLU(0.2, inplace=True),\n",
    "            nn.Conv2d(in_channels=64, out_channels=128, kernel_size=4, stride=2, padding=1, bias=False),\n",
    "            nn.MaxPool2d(kernel_size =3 , stride=1, padding=0),\n",
    "            nn.BatchNorm2d(128),\n",
    "            nn.LeakyReLU(0.2, inplace = True), \n",
    "            nn.Conv2d(128, 256, 4, 2, 1, bias = False), \n",
    "            nn.MaxPool2d(kernel_size =2 , stride=1, padding=0),\n",
    "            nn.BatchNorm2d(256), \n",
    "            nn.LeakyReLU(0.2, inplace = True), \n",
    "            nn.Conv2d(256, 512, 4, 2, 1, bias = False),\n",
    "            nn.BatchNorm2d(512), \n",
    "            nn.LeakyReLU(0.2, inplace = True), \n",
    "            nn.Conv2d(512, 10, 4, 1, 0, bias = False), \n",
    "            nn.Flatten(),\n",
    "            nn.Linear(90, 128),\n",
    "            nn.Dropout(p=0.2),\n",
    "            nn.Linear(128, num_classes),\n",
    "            nn.Softmax()\n",
    "        )\n",
    "        # Create a criterion. Lets use cross entropy loss. \n",
    "        self.criterion = nn.CrossEntropyLoss(weight=None, size_average=None, ignore_index=-100, reduce=None, reduction='mean')\n",
    "        # create an optimiser for the classifier\n",
    "        self.optimiser = optim.Adam(self.main.parameters(), lr=0.0001, betas = (0.9,0.999))\n",
    "        \n",
    "    def forward(self, input):\n",
    "        '''\n",
    "        Use to push an image through the network. \n",
    "        input is going to be an 3 channel image\n",
    "        '''\n",
    "        output = self.main(input)\n",
    "        return output\n",
    "    \n",
    "   \n",
    "    def weights_init(self):\n",
    "        '''\n",
    "        Defining the weights_init function that takes as input a neural network\n",
    "        m and that will initialize all its weights.\n",
    "        '''\n",
    "        classname = self.__class__.__name__\n",
    "        if classname.find('Conv') != -1:\n",
    "            self.weight.data.normal_(0.0, 0.02)\n",
    "        elif classname.find('BatchNorm') != -1:\n",
    "            self.weight.data.normal_(1.0, 0.02)\n",
    "            self.bias.data.fill_(0)\n",
    "    \n",
    "    def classifer_train(self, epochs_total, train):\n",
    "        '''\n",
    "        Function to train classifier based on training data and set epochs\n",
    "        inputs: \n",
    "            - classifer\n",
    "            - number of training epochs\n",
    "            - training data\n",
    "        '''\n",
    "        error_monitoring = []\n",
    "\n",
    "        for epoch in range(epochs_total):\n",
    "            i = 0\n",
    "            for data, labels in train:\n",
    "\n",
    "                # create the prediction using the classifier\n",
    "                prediction = self.forward(data)\n",
    "                error = self.criterion(prediction, labels)\n",
    "                #print('[%d/%d][%d/%d] Loss: %.4f' % (epoch, epochs_total, i, len(train),error))\n",
    "\n",
    "                # Update the weights\n",
    "                self.zero_grad()\n",
    "                error.backward()\n",
    "                self.optimiser.step()\n",
    "\n",
    "                i = i + 1\n",
    "\n",
    "            #for each epoch record the final error\n",
    "            error_monitoring.append(error)\n",
    "            print('[%d/%d][%d/%d] Loss: %.4f' % (epoch, epochs_total, i, len(train),error))\n",
    "            \n",
    "    def inference(self, dataset_to_test_against):\n",
    "        \n",
    "        '''\n",
    "        function to test how good the model\n",
    "        input - dataset you want to test against\n",
    "        \n",
    "        output - confusion matrix and recall precision. \n",
    "        '''\n",
    "        predictions_total = []\n",
    "        labels_total = []\n",
    "\n",
    "        with torch.no_grad():\n",
    "            for data in dataset_to_test_against:\n",
    "                images, labels = data\n",
    "                outputs = model(images)\n",
    "                _, predicted = torch.max(outputs, 1)\n",
    "\n",
    "                for value in predicted:\n",
    "                    predictions_total.append(value.item())\n",
    "                for value in labels:\n",
    "                    labels_total.append(value.item())    \n",
    "\n",
    "        \n",
    "        cm = confusion_matrix(labels_total, predictions_total)\n",
    "        plot_confusion_matrix(cm, classes)\n",
    "\n",
    "        from sklearn.metrics import precision_score, recall_score\n",
    "        pre = precision_score(labels_total, predictions_total, average='micro')\n",
    "        print('Precision {}'.format(round(pre,3)))\n",
    "        rec = recall_score(labels_total, predictions_total, average='micro')\n",
    "        print('Recall {}'.format(round(rec,3)))\n",
    "        \n"
   ]
  },
  {
   "cell_type": "code",
   "execution_count": 227,
   "metadata": {},
   "outputs": [],
   "source": [
    "def plot_confusion_matrix(cm, classes, normalize=False, title='Confusion matrix', cmap=plt.cm.Blues):\n",
    "    '''\n",
    "    ref - function from https://deeplizard.com/learn/video/0LhiS6yu2qQ\n",
    "    \n",
    "    '''\n",
    "    \n",
    "    if normalize:\n",
    "        cm = cm.astype('float') / cm.sum(axis=1)[:, np.newaxis]\n",
    "        print(\"Normalized confusion matrix\")\n",
    "    else:\n",
    "        print('Confusion matrix, without normalization')\n",
    "\n",
    "    plt.imshow(cm, interpolation='nearest', cmap=cmap)\n",
    "    plt.title(title)\n",
    "    plt.colorbar()\n",
    "    tick_marks = np.arange(len(classes))\n",
    "    plt.xticks(tick_marks, classes, rotation=45)\n",
    "    plt.yticks(tick_marks, classes)\n",
    "\n",
    "    fmt = '.2f' if normalize else 'd'\n",
    "    thresh = cm.max() / 2.\n",
    "    for i, j in itertools.product(range(cm.shape[0]), range(cm.shape[1])):\n",
    "        plt.text(j, i, format(cm[i, j], fmt), horizontalalignment=\"center\", color=\"white\" if cm[i, j] > thresh else \"black\")\n",
    "\n",
    "    plt.tight_layout()\n",
    "    plt.ylabel('True label')\n",
    "    plt.xlabel('Predicted label')\n",
    "    plt.show()"
   ]
  },
  {
   "cell_type": "markdown",
   "metadata": {},
   "source": [
    "# Trained from Scratch Classifier (2 or 3 classes)"
   ]
  },
  {
   "cell_type": "code",
   "execution_count": 228,
   "metadata": {},
   "outputs": [],
   "source": [
    "# Create dataset just for number of classes:\n",
    "\n",
    "NUM_CLASSES = 4\n",
    "\n",
    "path_to_images = WORKING_DIR.strip('bulb_classifier') + 'bulb_' + str(NUM_CLASSES) + '_class'\n",
    "\n",
    "\n",
    "light_bulbs = datasets.ImageFolder(root=path_to_images,\n",
    "                                           transform=data_transform)\n",
    "\n",
    "train, dev, test = create_separate_train_dev_test(light_bulbs, percentages = [0.8,0.1,0.1])\n",
    "\n",
    "\n",
    "classes = light_bulbs.classes"
   ]
  },
  {
   "cell_type": "code",
   "execution_count": 229,
   "metadata": {},
   "outputs": [
    {
     "data": {
      "image/png": "[encoded data removed]",
      "text/plain": [
       "<Figure size 432x288 with 1 Axes>"
      ]
     },
     "metadata": {
      "needs_background": "light"
     },
     "output_type": "display_data"
    },
    {
     "name": "stdout",
     "output_type": "stream",
     "text": [
      "GroundTruth:   GU10  MR16  MR16   B15\n"
     ]
    }
   ],
   "source": [
    "dataiter = iter(test)\n",
    "images, labels = dataiter.next()\n",
    "\n",
    "# print images\n",
    "imshow(torchvision.utils.make_grid(images))\n",
    "print('GroundTruth: ', ' '.join('%5s' % classes[labels[j]] for j in range(4)))"
   ]
  },
  {
   "cell_type": "code",
   "execution_count": 262,
   "metadata": {},
   "outputs": [
    {
     "name": "stdout",
     "output_type": "stream",
     "text": [
      "Confusion matrix, without normalization\n"
     ]
    },
    {
     "data": {
      "image/png": "[encoded data removed]",
      "text/plain": [
       "<Figure size 432x288 with 2 Axes>"
      ]
     },
     "metadata": {
      "needs_background": "light"
     },
     "output_type": "display_data"
    },
    {
     "name": "stdout",
     "output_type": "stream",
     "text": [
      "Precision 0.993\n",
      "Recall 0.993\n",
      "Confusion matrix, without normalization\n"
     ]
    },
    {
     "data": {
      "image/png": "[encoded data removed]",
      "text/plain": [
       "<Figure size 432x288 with 2 Axes>"
      ]
     },
     "metadata": {
      "needs_background": "light"
     },
     "output_type": "display_data"
    },
    {
     "name": "stdout",
     "output_type": "stream",
     "text": [
      "Precision 0.776\n",
      "Recall 0.776\n",
      "Confusion matrix, without normalization\n"
     ]
    },
    {
     "data": {
      "image/png": "[encoded data removed]",
      "text/plain": [
       "<Figure size 432x288 with 2 Axes>"
      ]
     },
     "metadata": {
      "needs_background": "light"
     },
     "output_type": "display_data"
    },
    {
     "name": "stdout",
     "output_type": "stream",
     "text": [
      "Precision 0.731\n",
      "Recall 0.731\n"
     ]
    }
   ],
   "source": [
    "model = BulbModel(NUM_CLASSES)\n",
    "model.weights_init()\n",
    "\n",
    "if TRAIN == 'YES':\n",
    "    model.classifer_train(50,train)\n",
    "    path = './model_weights.pth'\n",
    "    torch.save(model.state_dict(), path)\n",
    "else:\n",
    "    # Load last model if not training.\n",
    "    if device.type == 'cpu':\n",
    "        model.load_state_dict(torch.load(path, map_location=torch.device('cpu')))\n",
    "    else:\n",
    "        model.load_state_dict(torch.load(path))\n",
    "\n",
    "model.inference(train)\n",
    "model.inference(dev)\n",
    "model.inference(test)"
   ]
  },
  {
   "cell_type": "code",
   "execution_count": 265,
   "metadata": {},
   "outputs": [
    {
     "name": "stdout",
     "output_type": "stream",
     "text": [
      "tensor([3, 0, 2, 3])\n",
      "tensor([[1.6991e-02, 4.6358e-01, 7.4457e-02, 4.4498e-01],\n",
      "        [9.9999e-01, 1.1903e-05, 1.0385e-11, 6.2249e-10],\n",
      "        [1.2662e-01, 8.6150e-01, 6.8334e-03, 5.0408e-03],\n",
      "        [2.6722e-05, 2.2887e-05, 5.1686e-07, 9.9995e-01]],\n",
      "       grad_fn=<SoftmaxBackward>)\n"
     ]
    },
    {
     "data": {
      "image/png": "[encoded data removed]",
      "text/plain": [
       "<Figure size 432x288 with 1 Axes>"
      ]
     },
     "metadata": {
      "needs_background": "light"
     },
     "output_type": "display_data"
    },
    {
     "name": "stdout",
     "output_type": "stream",
     "text": [
      "GroundTruth:   MR16   B15  GU10  MR16\n",
      "Predicted  :    E27   B15   E27  MR16\n"
     ]
    }
   ],
   "source": [
    "dataiter = iter(test)\n",
    "images, labels = dataiter.next()\n",
    "\n",
    "print(labels)\n",
    "\n",
    "outputs = model(images)\n",
    "print(outputs)\n",
    "_, predicted = torch.max(outputs, 1)\n",
    "\n",
    "# print images\n",
    "imshow(torchvision.utils.make_grid(images))\n",
    "\n",
    "print('GroundTruth: ', ' '.join('%5s' % classes[labels[j]] \n",
    "                                for j in range(len(images))))\n",
    "\n",
    "print('Predicted  : ', ' '.join('%5s' % classes[predicted[j]]\n",
    "                              for j in range(len(images))))\n",
    "\n"
   ]
  },
  {
   "cell_type": "markdown",
   "metadata": {},
   "source": [
    "# Transfer Learning"
   ]
  },
  {
   "cell_type": "markdown",
   "metadata": {},
   "source": [
    "references: https://pytorch.org/tutorials/beginner/transfer_learning_tutorial.html\n",
    "\n",
    "ResNet18 with added linear layer on top. "
   ]
  },
  {
   "cell_type": "code",
   "execution_count": 232,
   "metadata": {},
   "outputs": [],
   "source": [
    "device = torch.device(\"cuda:0\" if torch.cuda.is_available() else \"cpu\")"
   ]
  },
  {
   "cell_type": "code",
   "execution_count": 233,
   "metadata": {},
   "outputs": [],
   "source": [
    "dataloaders= {'train':train, 'test':test}\n",
    "dataset_sizes = {'train':len(train), 'test':len(test)}"
   ]
  },
  {
   "cell_type": "code",
   "execution_count": 234,
   "metadata": {},
   "outputs": [],
   "source": [
    "def inference_transfer(model, dataset_to_test_against):\n",
    "        \n",
    "        '''\n",
    "        function to test how good the model\n",
    "        input - dataset you want to test against\n",
    "        output - confusion matrix and recall precision. \n",
    "        '''\n",
    "        predictions_total = []\n",
    "        labels_total = []\n",
    "\n",
    "        with torch.no_grad():\n",
    "            for data in dataset_to_test_against:\n",
    "                images, labels = data\n",
    "                outputs = model(images)\n",
    "                _, predicted = torch.max(outputs, 1)\n",
    "\n",
    "                for value in predicted:\n",
    "                    predictions_total.append(value.item())\n",
    "                for value in labels:\n",
    "                    labels_total.append(value.item())    \n",
    "\n",
    "        \n",
    "        cm = confusion_matrix(labels_total, predictions_total)\n",
    "        plot_confusion_matrix(cm, classes)\n",
    "\n",
    "        from sklearn.metrics import precision_score, recall_score\n",
    "        pre = precision_score(labels_total, predictions_total, average='micro')\n",
    "        print('Precision {}'.format(round(pre,3)))\n",
    "        rec = recall_score(labels_total, predictions_total, average='micro')\n",
    "        print('Recall {}'.format(round(rec,3)))\n",
    "        "
   ]
  },
  {
   "cell_type": "code",
   "execution_count": 235,
   "metadata": {},
   "outputs": [],
   "source": [
    "def train_model(model, criterion, optimizer, num_epochs=25):\n",
    "    since = time.time()\n",
    "\n",
    "    best_model_wts = copy.deepcopy(model.state_dict())\n",
    "    best_acc = 0.0\n",
    "\n",
    "    for epoch in range(num_epochs):\n",
    "        print('Epoch {}/{}'.format(epoch, num_epochs - 1))\n",
    "        print('-' * 10)\n",
    "\n",
    "        # Each epoch has a training and validation phase\n",
    "        for phase in ['train', 'test']:\n",
    "            if phase == 'train':\n",
    "                model.train()  # Set model to training mode\n",
    "            else:\n",
    "                model.eval()   # Set model to evaluate mode\n",
    "\n",
    "            running_loss = 0.0\n",
    "            running_corrects = 0\n",
    "\n",
    "            # Iterate over data.\n",
    "            for inputs, labels in dataloaders[phase]:\n",
    "                inputs = inputs.to(device)\n",
    "                labels = labels.to(device)\n",
    "\n",
    "                # zero the parameter gradients\n",
    "                optimizer.zero_grad()\n",
    "\n",
    "                # forward\n",
    "                # track history if only in train\n",
    "                with torch.set_grad_enabled(phase == 'train'):\n",
    "                    outputs = model(inputs)\n",
    "                    _, preds = torch.max(outputs, 1)\n",
    "                    loss = criterion(outputs, labels)\n",
    "\n",
    "                    # backward + optimize only if in training phase\n",
    "                    if phase == 'train':\n",
    "                        loss.backward()\n",
    "                        optimizer.step()\n",
    "\n",
    "                # statistics\n",
    "                running_loss += loss.item() * inputs.size(0)\n",
    "                running_corrects += torch.sum(preds == labels.data)\n",
    "\n",
    "\n",
    "            epoch_loss = running_loss / dataset_sizes[phase]\n",
    "            epoch_acc = running_corrects.double() / dataset_sizes[phase]\n",
    "\n",
    "            print('{} Loss: {:.4f} Acc: {:.4f}'.format(\n",
    "                phase, epoch_loss, epoch_acc))\n",
    "\n",
    "            # deep copy the model\n",
    "            if phase == 'val' and epoch_acc > best_acc:\n",
    "                best_acc = epoch_acc\n",
    "                best_model_wts = copy.deepcopy(model.state_dict())\n",
    "\n",
    "        print()\n",
    "\n",
    "    time_elapsed = time.time() - since\n",
    "    print('Training complete in {:.0f}m {:.0f}s'.format(\n",
    "        time_elapsed // 60, time_elapsed % 60))\n",
    "    print('Best val Acc: {:4f}'.format(best_acc))\n",
    "\n",
    "    # load best model weights\n",
    "    model.load_state_dict(best_model_wts)\n",
    "    return model"
   ]
  },
  {
   "cell_type": "code",
   "execution_count": 236,
   "metadata": {},
   "outputs": [],
   "source": [
    "model_ft = models.resnet18(pretrained=True)\n",
    "num_ftrs = model_ft.fc.in_features\n",
    "# Here the size of each output sample is set to 2.\n",
    "# Alternatively, it can be generalized to nn.Linear(num_ftrs, len(class_names)).\n",
    "model_ft.fc = nn.Linear(num_ftrs, 4)\n",
    "\n",
    "model_ft = model_ft.to(device)\n",
    "\n",
    "criterion = nn.CrossEntropyLoss()\n",
    "\n",
    "# Observe that all parameters are being optimized\n",
    "optimizer_ft = optim.SGD(model_ft.parameters(), lr=0.001, momentum=0.9)\n"
   ]
  },
  {
   "cell_type": "code",
   "execution_count": 237,
   "metadata": {},
   "outputs": [
    {
     "name": "stdout",
     "output_type": "stream",
     "text": [
      "Epoch 0/49\n",
      "----------\n",
      "train Loss: 83.9405 Acc: 23.5882\n",
      "test Loss: 4.1412 Acc: 2.2059\n",
      "\n",
      "Epoch 1/49\n",
      "----------\n",
      "train Loss: 46.0805 Acc: 46.2353\n",
      "test Loss: 2.9542 Acc: 2.8529\n",
      "\n",
      "Epoch 2/49\n",
      "----------\n",
      "train Loss: 29.8312 Acc: 54.2941\n",
      "test Loss: 3.0501 Acc: 2.8824\n",
      "\n",
      "Epoch 3/49\n",
      "----------\n",
      "train Loss: 19.7490 Acc: 58.0000\n",
      "test Loss: 2.3564 Acc: 3.0294\n",
      "\n",
      "Epoch 4/49\n",
      "----------\n",
      "train Loss: 13.4937 Acc: 60.5882\n",
      "test Loss: 2.4362 Acc: 3.0294\n",
      "\n",
      "Epoch 5/49\n",
      "----------\n",
      "train Loss: 9.7536 Acc: 61.6471\n",
      "test Loss: 2.3556 Acc: 3.0588\n",
      "\n",
      "Epoch 6/49\n",
      "----------\n",
      "train Loss: 6.6795 Acc: 62.0588\n",
      "test Loss: 2.3885 Acc: 3.0294\n",
      "\n",
      "Epoch 7/49\n",
      "----------\n",
      "train Loss: 5.1135 Acc: 62.2941\n",
      "test Loss: 2.3165 Acc: 3.0882\n",
      "\n",
      "Epoch 8/49\n",
      "----------\n",
      "train Loss: 3.8181 Acc: 62.5882\n",
      "test Loss: 2.3326 Acc: 3.0882\n",
      "\n",
      "Epoch 9/49\n",
      "----------\n",
      "train Loss: 3.4181 Acc: 62.7059\n",
      "test Loss: 2.3815 Acc: 3.1471\n",
      "\n",
      "Epoch 10/49\n",
      "----------\n",
      "train Loss: 2.7981 Acc: 62.7059\n",
      "test Loss: 2.3838 Acc: 3.0588\n",
      "\n",
      "Epoch 11/49\n",
      "----------\n",
      "train Loss: 2.1223 Acc: 62.5882\n",
      "test Loss: 2.3599 Acc: 3.1176\n",
      "\n",
      "Epoch 12/49\n",
      "----------\n",
      "train Loss: 2.0501 Acc: 62.7059\n",
      "test Loss: 2.4977 Acc: 3.1176\n",
      "\n",
      "Epoch 13/49\n",
      "----------\n",
      "train Loss: 1.8561 Acc: 62.7059\n",
      "test Loss: 2.4116 Acc: 3.1176\n",
      "\n",
      "Epoch 14/49\n",
      "----------\n",
      "train Loss: 1.4796 Acc: 62.6471\n",
      "test Loss: 2.4477 Acc: 3.1471\n",
      "\n",
      "Epoch 15/49\n",
      "----------\n",
      "train Loss: 1.3936 Acc: 62.7647\n",
      "test Loss: 2.4764 Acc: 3.1471\n",
      "\n",
      "Epoch 16/49\n",
      "----------\n",
      "train Loss: 1.2661 Acc: 62.5882\n",
      "test Loss: 2.5524 Acc: 3.1471\n",
      "\n",
      "Epoch 17/49\n",
      "----------\n",
      "train Loss: 1.1862 Acc: 62.7059\n",
      "test Loss: 2.5265 Acc: 3.1471\n",
      "\n",
      "Epoch 18/49\n",
      "----------\n",
      "train Loss: 1.0599 Acc: 62.5882\n",
      "test Loss: 2.5213 Acc: 3.1176\n",
      "\n",
      "Epoch 19/49\n",
      "----------\n",
      "train Loss: 1.2527 Acc: 62.7059\n",
      "test Loss: 2.4497 Acc: 3.1765\n",
      "\n",
      "Epoch 20/49\n",
      "----------\n",
      "train Loss: 1.1734 Acc: 62.6471\n",
      "test Loss: 2.5340 Acc: 3.1471\n",
      "\n",
      "Epoch 21/49\n",
      "----------\n",
      "train Loss: 1.0624 Acc: 62.7059\n",
      "test Loss: 2.4731 Acc: 3.1176\n",
      "\n",
      "Epoch 22/49\n",
      "----------\n",
      "train Loss: 0.9710 Acc: 62.6471\n",
      "test Loss: 2.5664 Acc: 3.1176\n",
      "\n",
      "Epoch 23/49\n",
      "----------\n",
      "train Loss: 1.1696 Acc: 62.5882\n",
      "test Loss: 2.4486 Acc: 3.1176\n",
      "\n",
      "Epoch 24/49\n",
      "----------\n",
      "train Loss: 0.7762 Acc: 62.7647\n",
      "test Loss: 2.5330 Acc: 3.1176\n",
      "\n",
      "Epoch 25/49\n",
      "----------\n",
      "train Loss: 0.7079 Acc: 62.7647\n",
      "test Loss: 2.6151 Acc: 3.1471\n",
      "\n",
      "Epoch 26/49\n",
      "----------\n",
      "train Loss: 0.7814 Acc: 62.7059\n",
      "test Loss: 2.6104 Acc: 3.0882\n",
      "\n",
      "Epoch 27/49\n",
      "----------\n",
      "train Loss: 0.6743 Acc: 62.7059\n",
      "test Loss: 2.5933 Acc: 3.0882\n",
      "\n",
      "Epoch 28/49\n",
      "----------\n",
      "train Loss: 0.7622 Acc: 62.5882\n",
      "test Loss: 2.6720 Acc: 3.1471\n",
      "\n",
      "Epoch 29/49\n",
      "----------\n",
      "train Loss: 0.7079 Acc: 62.6471\n",
      "test Loss: 2.5921 Acc: 3.1176\n",
      "\n",
      "Epoch 30/49\n",
      "----------\n",
      "train Loss: 0.7660 Acc: 62.6471\n",
      "test Loss: 2.5423 Acc: 3.1471\n",
      "\n",
      "Epoch 31/49\n",
      "----------\n",
      "train Loss: 0.7983 Acc: 62.5882\n",
      "test Loss: 2.5689 Acc: 3.1471\n",
      "\n",
      "Epoch 32/49\n",
      "----------\n",
      "train Loss: 0.7474 Acc: 62.5882\n",
      "test Loss: 2.6073 Acc: 3.1176\n",
      "\n",
      "Epoch 33/49\n",
      "----------\n",
      "train Loss: 0.6291 Acc: 62.6471\n",
      "test Loss: 2.6222 Acc: 3.1471\n",
      "\n",
      "Epoch 34/49\n",
      "----------\n",
      "train Loss: 0.6931 Acc: 62.6471\n",
      "test Loss: 2.6129 Acc: 3.0882\n",
      "\n",
      "Epoch 35/49\n",
      "----------\n",
      "train Loss: 0.7067 Acc: 62.6471\n",
      "test Loss: 2.7088 Acc: 3.0882\n",
      "\n",
      "Epoch 36/49\n",
      "----------\n",
      "train Loss: 0.7761 Acc: 62.6471\n",
      "test Loss: 2.6646 Acc: 3.0588\n",
      "\n",
      "Epoch 37/49\n",
      "----------\n",
      "train Loss: 0.8576 Acc: 62.6471\n",
      "test Loss: 2.6554 Acc: 3.1471\n",
      "\n",
      "Epoch 38/49\n",
      "----------\n",
      "train Loss: 0.5742 Acc: 62.7059\n",
      "test Loss: 2.6817 Acc: 3.0882\n",
      "\n",
      "Epoch 39/49\n",
      "----------\n",
      "train Loss: 0.5018 Acc: 62.7647\n",
      "test Loss: 2.6364 Acc: 3.0882\n",
      "\n",
      "Epoch 40/49\n",
      "----------\n",
      "train Loss: 0.6726 Acc: 62.5294\n",
      "test Loss: 2.6507 Acc: 3.1471\n",
      "\n",
      "Epoch 41/49\n",
      "----------\n",
      "train Loss: 0.6774 Acc: 62.5882\n",
      "test Loss: 2.7265 Acc: 3.1176\n",
      "\n",
      "Epoch 42/49\n",
      "----------\n",
      "train Loss: 0.5191 Acc: 62.7059\n",
      "test Loss: 2.6855 Acc: 3.1176\n",
      "\n",
      "Epoch 43/49\n",
      "----------\n",
      "train Loss: 0.6348 Acc: 62.5882\n",
      "test Loss: 2.6858 Acc: 3.1176\n",
      "\n",
      "Epoch 44/49\n",
      "----------\n",
      "train Loss: 0.5869 Acc: 62.6471\n",
      "test Loss: 2.7405 Acc: 3.1176\n",
      "\n",
      "Epoch 45/49\n",
      "----------\n",
      "train Loss: 0.5345 Acc: 62.7059\n",
      "test Loss: 2.7556 Acc: 3.1176\n",
      "\n",
      "Epoch 46/49\n",
      "----------\n",
      "train Loss: 0.6030 Acc: 62.7059\n",
      "test Loss: 2.7305 Acc: 3.0882\n",
      "\n",
      "Epoch 47/49\n",
      "----------\n",
      "train Loss: 0.5371 Acc: 62.6471\n",
      "test Loss: 2.7721 Acc: 3.1471\n",
      "\n",
      "Epoch 48/49\n",
      "----------\n",
      "train Loss: 0.4171 Acc: 62.7647\n",
      "test Loss: 2.7611 Acc: 3.1176\n",
      "\n",
      "Epoch 49/49\n",
      "----------\n",
      "train Loss: 0.4768 Acc: 62.7647\n",
      "test Loss: 2.7457 Acc: 3.1176\n",
      "\n",
      "Training complete in 20m 49s\n",
      "Best val Acc: 0.000000\n"
     ]
    }
   ],
   "source": [
    "if TRAIN == 'YES':\n",
    "    model_ft = train_model(model_ft, criterion, optimizer_ft,\n",
    "                       num_epochs=50)\n",
    "    path_ft = './model_weights_ft.pth'\n",
    "    torch.save(model_ft.state_dict(), path_ft)\n",
    "else:\n",
    "    # Load last model if not training.\n",
    "    if device.type == 'cpu':\n",
    "        model_ft.load_state_dict(torch.load(path_ft, map_location=torch.device('cpu')))\n",
    "    else:\n",
    "        model_ft.load_state_dict(torch.load(path_ft))"
   ]
  },
  {
   "cell_type": "code",
   "execution_count": 238,
   "metadata": {},
   "outputs": [
    {
     "name": "stdout",
     "output_type": "stream",
     "text": [
      "tensor([1, 0, 3, 2])\n"
     ]
    },
    {
     "data": {
      "image/png": "[encoded data removed]",
      "text/plain": [
       "<Figure size 432x288 with 1 Axes>"
      ]
     },
     "metadata": {
      "needs_background": "light"
     },
     "output_type": "display_data"
    },
    {
     "name": "stdout",
     "output_type": "stream",
     "text": [
      "GroundTruth:    E27   B15  MR16  GU10\n",
      "Predicted  :    E27  GU10  MR16  GU10\n"
     ]
    }
   ],
   "source": [
    "dataiter = iter(test)\n",
    "images, labels = dataiter.next()\n",
    "\n",
    "print(labels)\n",
    "\n",
    "outputs = model_ft(images)\n",
    "_, predicted = torch.max(outputs, 1)\n",
    "\n",
    "# print images\n",
    "imshow(torchvision.utils.make_grid(images))\n",
    "\n",
    "print('GroundTruth: ', ' '.join('%5s' % classes[labels[j]] \n",
    "                                for j in range(len(images))))\n",
    "\n",
    "print('Predicted  : ', ' '.join('%5s' % classes[predicted[j]]\n",
    "                              for j in range(len(images))))\n"
   ]
  },
  {
   "cell_type": "code",
   "execution_count": 239,
   "metadata": {},
   "outputs": [
    {
     "name": "stdout",
     "output_type": "stream",
     "text": [
      "Confusion matrix, without normalization\n"
     ]
    },
    {
     "data": {
      "image/png": "[encoded data removed]",
      "text/plain": [
       "<Figure size 432x288 with 2 Axes>"
      ]
     },
     "metadata": {
      "needs_background": "light"
     },
     "output_type": "display_data"
    },
    {
     "name": "stdout",
     "output_type": "stream",
     "text": [
      "Precision 0.328\n",
      "Recall 0.328\n"
     ]
    }
   ],
   "source": [
    "inference_transfer(model_ft, test)"
   ]
  },
  {
   "cell_type": "markdown",
   "metadata": {},
   "source": [
    "# VGG Transfer Learn - retrain more of the layers. "
   ]
  },
  {
   "cell_type": "code",
   "execution_count": 240,
   "metadata": {},
   "outputs": [],
   "source": [
    "def retrainable_setup(model ,layers_limit):\n",
    "    '''\n",
    "    function that sets which layers of the network to retrain. \n",
    "    input \n",
    "    - layers_limit - number of layers to keep fixed.\n",
    "    - model \n",
    "    \n",
    "    output \n",
    "    - model - with layers set for training or not. \n",
    "    '''\n",
    "\n",
    "    for param in model.parameters():\n",
    "        param.requires_grad = False\n",
    "    i = 0\n",
    "    for child in model.children():\n",
    "        for layer in child.children():\n",
    "            i  +=1\n",
    "            if i > layers_limit:\n",
    "                for param in layer.parameters():\n",
    "                    param.requires_grad = True\n",
    "            else:\n",
    "                for param in layer.parameters():\n",
    "                    param.requires_grad = False\n"
   ]
  },
  {
   "cell_type": "code",
   "execution_count": 241,
   "metadata": {},
   "outputs": [],
   "source": [
    "modelVGG = models.vgg16(pretrained=True)"
   ]
  },
  {
   "cell_type": "code",
   "execution_count": 242,
   "metadata": {},
   "outputs": [],
   "source": [
    "modelVGG.classifier[6] = nn.Sequential(\n",
    "                      nn.Linear(4096, 256), \n",
    "                      nn.ReLU(), \n",
    "                      nn.Dropout(0.4),\n",
    "                      nn.Linear(256, 4),                   \n",
    "                      nn.Softmax(dim=1))"
   ]
  },
  {
   "cell_type": "code",
   "execution_count": 243,
   "metadata": {},
   "outputs": [],
   "source": [
    "retrainable_setup(modelVGG ,layers_limit = 37)"
   ]
  },
  {
   "cell_type": "code",
   "execution_count": 244,
   "metadata": {},
   "outputs": [
    {
     "name": "stdout",
     "output_type": "stream",
     "text": [
      "135,310,404 total parameters.\n",
      "1,049,860 training parameters.\n"
     ]
    }
   ],
   "source": [
    "# Find total parameters and trainable parameters\n",
    "total_params = sum(p.numel() for p in modelVGG.parameters())\n",
    "print(f'{total_params:,} total parameters.')\n",
    "total_trainable_params = sum(\n",
    "    p.numel() for p in modelVGG.parameters() if p.requires_grad)\n",
    "print(f'{total_trainable_params:,} training parameters.')"
   ]
  },
  {
   "cell_type": "code",
   "execution_count": 245,
   "metadata": {},
   "outputs": [],
   "source": [
    "def Vgg_transfer_train(modelVGG , epochs):\n",
    "    epochs_total = epochs\n",
    "    \n",
    "    # create an optimiser for the classifier\n",
    "    optimiser_bulb_transfer = optim.Adam(model.parameters(), lr=0.01, betas = (0.9,0.999))\n",
    "    # Create a criterion. Lets use cross entropy loss. \n",
    "    criterion = nn.CrossEntropyLoss(weight=None, size_average=None, ignore_index=-100, reduce=None, reduction='mean')\n",
    "        \n",
    "    for epoch in range(epochs_total):\n",
    "        i = 0\n",
    "        for data, labels in train:\n",
    "            data = data.to(device)\n",
    "            labels = labels.to(device)\n",
    "\n",
    "            # push the image through the network\n",
    "            prediction = modelVGG(data)\n",
    "\n",
    "            error = criterion(prediction, labels)\n",
    "            #print('[%d/%d][%d/%d] Loss: %.4f' % (epoch, epochs_total, i, len(train),error))\n",
    "\n",
    "            # zero grad\n",
    "            modelVGG.zero_grad()\n",
    "            error.backward()\n",
    "            optimiser_bulb_transfer.step()\n",
    "\n",
    "            #if i == 10:\n",
    "            #   break\n",
    "\n",
    "            i = i + 1\n",
    "        #for each epoch record the final error\n",
    "        print('[%d/%d][%d/%d] Loss: %.4f' % (epoch, epochs_total, i, len(train),error))\n",
    "    return modelVGG"
   ]
  },
  {
   "cell_type": "code",
   "execution_count": 246,
   "metadata": {},
   "outputs": [
    {
     "name": "stdout",
     "output_type": "stream",
     "text": [
      "[0/50][17/17] Loss: 1.3979\n",
      "[1/50][17/17] Loss: 1.4022\n",
      "[2/50][17/17] Loss: 1.3846\n",
      "[3/50][17/17] Loss: 1.4169\n",
      "[4/50][17/17] Loss: 1.3886\n",
      "[5/50][17/17] Loss: 1.4183\n",
      "[6/50][17/17] Loss: 1.4175\n",
      "[7/50][17/17] Loss: 1.3898\n",
      "[8/50][17/17] Loss: 1.4181\n",
      "[9/50][17/17] Loss: 1.4034\n",
      "[10/50][17/17] Loss: 1.4311\n",
      "[11/50][17/17] Loss: 1.3888\n",
      "[12/50][17/17] Loss: 1.4227\n",
      "[13/50][17/17] Loss: 1.4087\n",
      "[14/50][17/17] Loss: 1.3995\n",
      "[15/50][17/17] Loss: 1.3895\n",
      "[16/50][17/17] Loss: 1.4220\n",
      "[17/50][17/17] Loss: 1.4166\n",
      "[18/50][17/17] Loss: 1.4287\n",
      "[19/50][17/17] Loss: 1.3984\n",
      "[20/50][17/17] Loss: 1.4208\n",
      "[21/50][17/17] Loss: 1.3970\n",
      "[22/50][17/17] Loss: 1.4222\n",
      "[23/50][17/17] Loss: 1.3679\n",
      "[24/50][17/17] Loss: 1.3855\n",
      "[25/50][17/17] Loss: 1.4233\n",
      "[26/50][17/17] Loss: 1.3794\n",
      "[27/50][17/17] Loss: 1.4115\n",
      "[28/50][17/17] Loss: 1.3999\n",
      "[29/50][17/17] Loss: 1.4062\n",
      "[30/50][17/17] Loss: 1.3980\n",
      "[31/50][17/17] Loss: 1.4066\n",
      "[32/50][17/17] Loss: 1.4088\n",
      "[33/50][17/17] Loss: 1.4318\n",
      "[34/50][17/17] Loss: 1.4004\n",
      "[35/50][17/17] Loss: 1.4059\n",
      "[36/50][17/17] Loss: 1.4209\n",
      "[37/50][17/17] Loss: 1.3968\n",
      "[38/50][17/17] Loss: 1.4055\n",
      "[39/50][17/17] Loss: 1.3954\n",
      "[40/50][17/17] Loss: 1.4190\n",
      "[41/50][17/17] Loss: 1.4313\n",
      "[42/50][17/17] Loss: 1.3866\n",
      "[43/50][17/17] Loss: 1.4157\n",
      "[44/50][17/17] Loss: 1.4165\n",
      "[45/50][17/17] Loss: 1.4135\n",
      "[46/50][17/17] Loss: 1.3812\n",
      "[47/50][17/17] Loss: 1.3962\n",
      "[48/50][17/17] Loss: 1.4125\n",
      "[49/50][17/17] Loss: 1.4216\n"
     ]
    }
   ],
   "source": [
    "if TRAIN == 'YES':\n",
    "    modelVGG = Vgg_transfer_train(modelVGG, epochs=50)\n",
    "    path_vgg = './model_weights_vgg.pth'\n",
    "    torch.save(modelVGG.state_dict(), path_vgg)\n",
    "else:\n",
    "    # Load last model if not training.\n",
    "    if device.type == 'cpu':\n",
    "        modelVGG.load_state_dict(torch.load(path_vgg, map_location=torch.device('cpu')))\n",
    "    else:\n",
    "        modelVGG.load_state_dict(torch.load(path_vgg))"
   ]
  },
  {
   "cell_type": "code",
   "execution_count": 247,
   "metadata": {},
   "outputs": [
    {
     "name": "stdout",
     "output_type": "stream",
     "text": [
      "Confusion matrix, without normalization\n"
     ]
    },
    {
     "data": {
      "image/png": "[encoded data removed]",
      "text/plain": [
       "<Figure size 432x288 with 2 Axes>"
      ]
     },
     "metadata": {
      "needs_background": "light"
     },
     "output_type": "display_data"
    },
    {
     "name": "stdout",
     "output_type": "stream",
     "text": [
      "Precision 0.209\n",
      "Recall 0.209\n"
     ]
    }
   ],
   "source": [
    "inference_transfer(modelVGG, test)"
   ]
  }
 ],
 "metadata": {
  "kernelspec": {
   "display_name": "Python 3",
   "language": "python",
   "name": "python3"
  },
  "language_info": {
   "codemirror_mode": {
    "name": "ipython",
    "version": 3
   },
   "file_extension": ".py",
   "mimetype": "text/x-python",
   "name": "python",
   "nbconvert_exporter": "python",
   "pygments_lexer": "ipython3",
   "version": "3.6.8"
  }
 },
 "nbformat": 4,
 "nbformat_minor": 2
}
