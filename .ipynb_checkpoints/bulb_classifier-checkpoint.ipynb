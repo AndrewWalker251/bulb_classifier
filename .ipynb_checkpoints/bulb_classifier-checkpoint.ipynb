{
 "cells": [
  {
   "cell_type": "code",
   "execution_count": 12,
   "metadata": {},
   "outputs": [],
   "source": [
    "import pandas as pd\n",
    "import numpy as np\n",
    "import os \n",
    "\n",
    "import torch\n",
    "import torch.nn as nn\n",
    "from torch.utils.data import Dataset, DataLoader\n",
    "from torchvision import transforms, datasets\n",
    "import torchvision.utils as utils\n",
    "import torch.optim as optim\n",
    "import torchvision.utils as vutils\n",
    "import matplotlib.image as mpimg\n",
    "from torchvision import models\n",
    "\n",
    "import matplotlib.pyplot as plt\n",
    "\n",
    "from PIL import ImageFile\n",
    "ImageFile.LOAD_TRUNCATED_IMAGES = True\n",
    "\n",
    "from torch.utils.data import SubsetRandomSampler\n",
    "from sklearn.metrics import confusion_matrix\n",
    "import matplotlib.pyplot as plt\n",
    "\n",
    "%matplotlib inline"
   ]
  },
  {
   "cell_type": "markdown",
   "metadata": {},
   "source": [
    "## 8 Class Classification Problem \n",
    "\n",
    "Initially work on trying to classifiy based on google search scraped pictures of these lightbulbs.\n",
    "The problem with this is that they nearly always have a white backgroud and are not realistic of a phone camera version\n",
    "of a picture of the light bulb\n",
    "\n",
    "Classes<br>\n",
    "E27 light bulbs<br>\n",
    "E14 light bulbs<br>\n",
    "B22 light bulbs<br>\n",
    "B15 light bulbs<br>\n",
    "GU10 light bulbs<br>\n",
    "G4<br>\n",
    "G9<br>\n",
    "MR16<br>\n",
    "\n",
    "\n",
    "Need to also buy some examples of the light bulbs and take pictures on my phone as a way of building up my own dataset that might be more realistic.\n"
   ]
  },
  {
   "cell_type": "markdown",
   "metadata": {},
   "source": [
    "# Support functions"
   ]
  },
  {
   "cell_type": "code",
   "execution_count": 13,
   "metadata": {},
   "outputs": [],
   "source": [
    "folders = ['B15','B22','E14', 'E27', 'G4', 'G9','GU10', 'MR16']\n",
    "\n",
    "def file_rename(folders):\n",
    "    '''\n",
    "    Function to rename all files taken from the internet from training.Used to rename\n",
    "    all the file names to avoid really long file names and make it easier to know which\n",
    "    bulb it is.\n",
    "    \n",
    "    Could be made more generic for other projects. Eg move out the base location into a parameter.\n",
    "    \n",
    "    input - folder names\n",
    "    \n",
    "    output - all files renamed in place. \n",
    "    \n",
    "    '''\n",
    "    \n",
    "    for bulb_type in folders:\n",
    "\n",
    "        location = r\"C:\\Users\\awalker8\\Documents\\COVID_Furlow\\bulb_class\\bulb_data\"\n",
    "        location = location + '\\\\' + bulb_type + '\\\\'\n",
    "        print(location)\n",
    "        for count, filename in enumerate(os.listdir(location)): \n",
    "            dst = bulb_type + str(count) + \".jpg\"\n",
    "            src = location + filename \n",
    "            dst = location + dst \n",
    "            # rename() function will \n",
    "            # rename all the files \n",
    "            os.rename(src, dst) "
   ]
  },
  {
   "cell_type": "code",
   "execution_count": 14,
   "metadata": {},
   "outputs": [],
   "source": [
    "def create_separate_train_dev_test( dataset, percentages = [0.8,0.1,0.1]):\n",
    "    '''\n",
    "    Function to create separate dataloaders for test dev and train.\n",
    "    \n",
    "    Inputs - list of percentage breakdowns [train, dev , test] Must add to 1. \n",
    "    # Add in test to check for this ~\n",
    "    \n",
    "    Outputs - each dataloader.\n",
    "    \n",
    "    '''\n",
    "\n",
    "    indices = list(range(len(dataset)))\n",
    "    train_amount =0.8\n",
    "    dev = 0.1\n",
    "    test = 0.1\n",
    "\n",
    "    split_1 = int(np.floor(len(dataset)*0.8))\n",
    "    split_2 = int(np.floor(len(dataset)*0.9))\n",
    "\n",
    "    np.random.seed(0)\n",
    "    np.random.shuffle(indices)\n",
    "\n",
    "    train_indices, dev_indices, test_indices = indices[:split_1], indices[split_1:split_2],indices[split_2:]\n",
    "\n",
    "    train_sampler = SubsetRandomSampler(train_indices)\n",
    "    dev_sampler = SubsetRandomSampler(dev_indices)\n",
    "    test_sampler = SubsetRandomSampler(test_indices)\n",
    "\n",
    "    dataloader_train = torch.utils.data.DataLoader(dataset,\n",
    "                                                 batch_size=64,\n",
    "                                                 num_workers=0 , sampler = train_sampler)\n",
    "\n",
    "    dataloader_dev = torch.utils.data.DataLoader(dataset,\n",
    "                                                 batch_size=1,\n",
    "                                                 num_workers=0 , sampler = dev_sampler)\n",
    "\n",
    "    dataloader_test = torch.utils.data.DataLoader(dataset,\n",
    "                                                 batch_size=1,\n",
    "                                                 num_workers=0 , sampler = test_sampler)\n",
    "    \n",
    "    return dataloader_train, dataloader_dev, dataloader_test"
   ]
  },
  {
   "cell_type": "code",
   "execution_count": 15,
   "metadata": {},
   "outputs": [],
   "source": [
    "def print_examples(dataloader, number_to_show =4):\n",
    "    i=0\n",
    "    for x, y in dataloader:  \n",
    "        # Can't get it to effectively print out the images in the notebook. I think it might be something to do with the numpy conversion above.\n",
    "        '''\n",
    "        out = np.reshape(x[i].numpy(),newshape =[x[i].shape[1],x[i].shape[2],x[i].shape[0]])\n",
    "        plt.imshow(out)\n",
    "        plt.title('Bulb type {}'.format(y[i]))\n",
    "        plt.show()\n",
    "        '''\n",
    "        # Instead going to save and reload\n",
    "        vutils.save_image(x[0], '%s_example.png' % i, normalize = True)\n",
    "        \n",
    "        image = mpimg.imread('%s_example.png' % i)\n",
    "        plt.imshow(image)\n",
    "        plt.show()\n",
    "        i = i + 1\n",
    "        if i == number_to_show:\n",
    "            break"
   ]
  },
  {
   "cell_type": "markdown",
   "metadata": {},
   "source": [
    "# Datasets"
   ]
  },
  {
   "cell_type": "code",
   "execution_count": 16,
   "metadata": {},
   "outputs": [],
   "source": [
    "# Create a pytorch dataset, and then dataloader to allow for mini-batch processing. \n",
    "# We can't really use random crops as it might cut off the connector\n",
    "\n",
    "data_transform = transforms.Compose([\n",
    "        transforms.Resize((64,64)),\n",
    "        #ransforms.CenterCrop(128),\n",
    "        #transforms.RandomSizedCrop(2000),\n",
    "        #transforms.RandomHorizontalFlip(),\n",
    "        transforms.ToTensor(),\n",
    "        transforms.Normalize(mean=[0.485, 0.456, 0.406],std=[0.229, 0.224, 0.225])\n",
    "        ])\n",
    "    \n",
    "light_bulbs = datasets.ImageFolder(root=r'C:\\Users\\awalker8\\Documents\\COVID_Furlow\\bulb_class\\bulb_data',\n",
    "                                           transform=data_transform)\n",
    "    "
   ]
  },
  {
   "cell_type": "code",
   "execution_count": 17,
   "metadata": {},
   "outputs": [],
   "source": [
    "train, dev, test = create_separate_train_dev_test(light_bulbs, percentages = [0.8,0.1,0.1])"
   ]
  },
  {
   "cell_type": "code",
   "execution_count": 18,
   "metadata": {},
   "outputs": [
    {
     "data": {
      "image/png": "[encoded data removed]",
      "text/plain": [
       "<Figure size 432x288 with 1 Axes>"
      ]
     },
     "metadata": {
      "needs_background": "light"
     },
     "output_type": "display_data"
    },
    {
     "data": {
      "image/png": "[encoded data removed]",
      "text/plain": [
       "<Figure size 432x288 with 1 Axes>"
      ]
     },
     "metadata": {
      "needs_background": "light"
     },
     "output_type": "display_data"
    },
    {
     "data": {
      "image/png": "[encoded data removed]",
      "text/plain": [
       "<Figure size 432x288 with 1 Axes>"
      ]
     },
     "metadata": {
      "needs_background": "light"
     },
     "output_type": "display_data"
    },
    {
     "data": {
      "image/png": "[encoded data removed]",
      "text/plain": [
       "<Figure size 432x288 with 1 Axes>"
      ]
     },
     "metadata": {
      "needs_background": "light"
     },
     "output_type": "display_data"
    }
   ],
   "source": [
    "print_examples(train, number_to_show =4)"
   ]
  },
  {
   "cell_type": "markdown",
   "metadata": {},
   "source": [
    "# CNN"
   ]
  },
  {
   "cell_type": "code",
   "execution_count": 19,
   "metadata": {},
   "outputs": [],
   "source": [
    "# Defining the weights_init function that takes as input a neural network m and that will initialize all its weights.\n",
    "def weights_init(m):\n",
    "    classname = m.__class__.__name__\n",
    "    if classname.find('Conv') != -1:\n",
    "        m.weight.data.normal_(0.0, 0.02)\n",
    "    elif classname.find('BatchNorm') != -1:\n",
    "        m.weight.data.normal_(1.0, 0.02)\n",
    "        m.bias.data.fill_(0)"
   ]
  },
  {
   "cell_type": "code",
   "execution_count": 20,
   "metadata": {},
   "outputs": [],
   "source": [
    "# You don't actually need to do this with pytorch but sometime useful to know what's happening. \n",
    "# Calculate Hout of layer\n",
    "def output_sizes(hin, win, padding, dilation, kernal, stride):\n",
    "    hout = ((hin + (2*padding[0]) - (dilation[0] * (kernal[0] -1)) - 1)/stride[0]) + 1\n",
    "\n",
    "    # Calculate Wout of layer\n",
    "\n",
    "    wout = ((win + (2*padding[1]) - (dilation[1] * (kernal[1] -1)) - 1)/stride[1]) + 1\n",
    "    print('hout {}'.format(hout))\n",
    "    print('hout {}'.format(wout))"
   ]
  },
  {
   "cell_type": "code",
   "execution_count": 21,
   "metadata": {},
   "outputs": [
    {
     "name": "stdout",
     "output_type": "stream",
     "text": [
      "hout 66.0\n",
      "hout 66.0\n"
     ]
    }
   ],
   "source": [
    "output_sizes(64, 64, padding = [1,1], dilation = [0,0], kernal = [4,4], stride = [1,1])"
   ]
  },
  {
   "cell_type": "code",
   "execution_count": 22,
   "metadata": {},
   "outputs": [],
   "source": [
    "# Adding this custom class so when you're building out the sequential model in pytorch you can print out the size of each layer.\n",
    "class PrintLayer(nn.Module):\n",
    "    def __init__(self):\n",
    "        super(PrintLayer, self).__init__()\n",
    "    \n",
    "    def forward(self, x):\n",
    "        # Do your print / debug stuff here\n",
    "        #print('Layer_print {}'.format(x.shape))\n",
    "        return x"
   ]
  },
  {
   "cell_type": "code",
   "execution_count": 23,
   "metadata": {},
   "outputs": [],
   "source": [
    "# Define the classifier\n",
    "\n",
    "class bulb_model(nn.Module):\n",
    "    \n",
    "    def __init__(self):\n",
    "        super(bulb_model, self).__init__()\n",
    "    \n",
    "        self.main = nn.Sequential(\n",
    "            nn.Conv2d(in_channels=3, out_channels=64, kernel_size=4, stride=1, padding=1, bias=False),\n",
    "            nn.LeakyReLU(0.2, inplace=True),\n",
    "            #PrintLayer(),\n",
    "            nn.Conv2d(in_channels=64, out_channels=128, kernel_size=4, stride=2, padding=1, bias=False),\n",
    "            #PrintLayer(),\n",
    "            # add a max pooling layer\n",
    "            nn.MaxPool2d(kernel_size =3 , stride=1, padding=0),\n",
    "            #PrintLayer(),\n",
    "            nn.BatchNorm2d(128),\n",
    "            PrintLayer(),\n",
    "            nn.LeakyReLU(0.2, inplace = True), \n",
    "            #PrintLayer(),\n",
    "            nn.Conv2d(128, 256, 4, 2, 1, bias = False), \n",
    "            #PrintLayer(),\n",
    "            nn.MaxPool2d(kernel_size =2 , stride=1, padding=0),\n",
    "            #PrintLayer(),\n",
    "            nn.BatchNorm2d(256), \n",
    "            PrintLayer(),\n",
    "            nn.LeakyReLU(0.2, inplace = True), \n",
    "            #PrintLayer(),\n",
    "            nn.Conv2d(256, 512, 4, 2, 1, bias = False),\n",
    "            #PrintLayer(),\n",
    "            nn.BatchNorm2d(512), \n",
    "            #PrintLayer(),\n",
    "            nn.LeakyReLU(0.2, inplace = True), \n",
    "            #PrintLayer(),\n",
    "            nn.Conv2d(512, 10, 4, 1, 0, bias = False), \n",
    "            #PrintLayer(),\n",
    "            nn.Flatten(),\n",
    "            #PrintLayer(),\n",
    "            nn.Linear(90, 128),\n",
    "            #PrintLayer(),\n",
    "            nn.Dropout(p=0.2),\n",
    "            #PrintLayer(),\n",
    "            nn.Linear(128, 10),\n",
    "            nn.Softmax()\n",
    "        )\n",
    "        \n",
    "    def forward(self, input):\n",
    "        output = self.main(input)\n",
    "        return output"
   ]
  },
  {
   "cell_type": "code",
   "execution_count": 24,
   "metadata": {},
   "outputs": [
    {
     "data": {
      "text/plain": [
       "bulb_model(\n",
       "  (main): Sequential(\n",
       "    (0): Conv2d(3, 64, kernel_size=(4, 4), stride=(1, 1), padding=(1, 1), bias=False)\n",
       "    (1): LeakyReLU(negative_slope=0.2, inplace=True)\n",
       "    (2): Conv2d(64, 128, kernel_size=(4, 4), stride=(2, 2), padding=(1, 1), bias=False)\n",
       "    (3): MaxPool2d(kernel_size=3, stride=1, padding=0, dilation=1, ceil_mode=False)\n",
       "    (4): BatchNorm2d(128, eps=1e-05, momentum=0.1, affine=True, track_running_stats=True)\n",
       "    (5): PrintLayer()\n",
       "    (6): LeakyReLU(negative_slope=0.2, inplace=True)\n",
       "    (7): Conv2d(128, 256, kernel_size=(4, 4), stride=(2, 2), padding=(1, 1), bias=False)\n",
       "    (8): MaxPool2d(kernel_size=2, stride=1, padding=0, dilation=1, ceil_mode=False)\n",
       "    (9): BatchNorm2d(256, eps=1e-05, momentum=0.1, affine=True, track_running_stats=True)\n",
       "    (10): PrintLayer()\n",
       "    (11): LeakyReLU(negative_slope=0.2, inplace=True)\n",
       "    (12): Conv2d(256, 512, kernel_size=(4, 4), stride=(2, 2), padding=(1, 1), bias=False)\n",
       "    (13): BatchNorm2d(512, eps=1e-05, momentum=0.1, affine=True, track_running_stats=True)\n",
       "    (14): LeakyReLU(negative_slope=0.2, inplace=True)\n",
       "    (15): Conv2d(512, 10, kernel_size=(4, 4), stride=(1, 1), bias=False)\n",
       "    (16): Flatten()\n",
       "    (17): Linear(in_features=90, out_features=128, bias=True)\n",
       "    (18): Dropout(p=0.2, inplace=False)\n",
       "    (19): Linear(in_features=128, out_features=10, bias=True)\n",
       "    (20): Softmax(dim=None)\n",
       "  )\n",
       ")"
      ]
     },
     "execution_count": 24,
     "metadata": {},
     "output_type": "execute_result"
    }
   ],
   "source": [
    "classifier_1 = bulb_model()\n",
    "classifier_1.apply(weights_init)"
   ]
  },
  {
   "cell_type": "markdown",
   "metadata": {},
   "source": [
    "# Train classifier"
   ]
  },
  {
   "cell_type": "code",
   "execution_count": 313,
   "metadata": {},
   "outputs": [],
   "source": [
    "# create an optimiser for the classifier\n",
    "optimiser_bulb = optim.Adam(classifier_1.parameters(), lr=0.01, betas = (0.9,0.999))\n",
    "# Create a criterion. Lets use cross entropy loss. \n",
    "criterion = nn.CrossEntropyLoss(weight=None, size_average=None, ignore_index=-100, reduce=None, reduction='mean')"
   ]
  },
  {
   "cell_type": "code",
   "execution_count": 314,
   "metadata": {},
   "outputs": [],
   "source": [
    "epochs_total = 50"
   ]
  },
  {
   "cell_type": "code",
   "execution_count": 315,
   "metadata": {},
   "outputs": [
    {
     "name": "stdout",
     "output_type": "stream",
     "text": [
      "[0/50][58/57] Loss: 2.4611\n",
      "[1/50][58/57] Loss: 2.1754\n",
      "[2/50][58/57] Loss: 2.4611\n",
      "[3/50][58/57] Loss: 2.1754\n",
      "[4/50][58/57] Loss: 2.4611\n",
      "[5/50][58/57] Loss: 2.1754\n",
      "[6/50][58/57] Loss: 2.3183\n",
      "[7/50][58/57] Loss: 2.1754\n",
      "[8/50][58/57] Loss: 2.3183\n",
      "[9/50][58/57] Loss: 2.3183\n",
      "[10/50][58/57] Loss: 2.4611\n",
      "[11/50][58/57] Loss: 2.4611\n",
      "[12/50][58/57] Loss: 2.3183\n",
      "[13/50][58/57] Loss: 2.3183\n",
      "[14/50][58/57] Loss: 2.1754\n",
      "[15/50][58/57] Loss: 2.3183\n",
      "[16/50][58/57] Loss: 2.1754\n",
      "[17/50][58/57] Loss: 2.4611\n",
      "[18/50][58/57] Loss: 2.0326\n",
      "[19/50][58/57] Loss: 2.4611\n",
      "[20/50][58/57] Loss: 2.3183\n",
      "[21/50][58/57] Loss: 2.3183\n",
      "[22/50][58/57] Loss: 2.1754\n",
      "[23/50][58/57] Loss: 2.4611\n",
      "[24/50][58/57] Loss: 2.3183\n",
      "[25/50][58/57] Loss: 2.4611\n",
      "[26/50][58/57] Loss: 2.1754\n",
      "[27/50][58/57] Loss: 2.3183\n",
      "[28/50][58/57] Loss: 2.4611\n",
      "[29/50][58/57] Loss: 2.4611\n",
      "[30/50][58/57] Loss: 2.0326\n",
      "[31/50][58/57] Loss: 2.3183\n",
      "[32/50][58/57] Loss: 2.3183\n",
      "[33/50][58/57] Loss: 2.0326\n",
      "[34/50][58/57] Loss: 2.4611\n",
      "[35/50][58/57] Loss: 2.0326\n",
      "[36/50][58/57] Loss: 2.4611\n",
      "[37/50][58/57] Loss: 2.4611\n",
      "[38/50][58/57] Loss: 2.3183\n",
      "[39/50][58/57] Loss: 2.3183\n",
      "[40/50][58/57] Loss: 2.4611\n",
      "[41/50][58/57] Loss: 2.4611\n",
      "[42/50][58/57] Loss: 2.3183\n",
      "[43/50][58/57] Loss: 2.3183\n",
      "[44/50][58/57] Loss: 2.4611\n",
      "[45/50][58/57] Loss: 2.3183\n",
      "[46/50][58/57] Loss: 2.1754\n",
      "[47/50][58/57] Loss: 2.4611\n",
      "[48/50][58/57] Loss: 2.3183\n",
      "[49/50][58/57] Loss: 2.4611\n"
     ]
    }
   ],
   "source": [
    "error_monitoring = []\n",
    "\n",
    "for epoch in range(epochs_total):\n",
    "    i = 1\n",
    "    for data, labels in train:\n",
    "         \n",
    "        #print(data.shape)    \n",
    "        # push the image through the network\n",
    "        prediction = classifier_1(data)\n",
    "        \n",
    "        error = criterion(prediction, labels)\n",
    "        #print('[%d/%d][%d/%d] Loss: %.4f' % (epoch, epochs_total, i, len(train),error))\n",
    "  \n",
    "        # zero grad\n",
    "        classifier_1.zero_grad()\n",
    "        error.backward()\n",
    "        optimiser_bulb.step()\n",
    "        \n",
    "        #if i == 10:\n",
    "        #   break\n",
    "            \n",
    "        i = i + 1\n",
    "    #for each epoch record the final error\n",
    "    error_monitoring.append(error)\n",
    "    print('[%d/%d][%d/%d] Loss: %.4f' % (epoch, epochs_total, i, len(train),error))"
   ]
  },
  {
   "cell_type": "code",
   "execution_count": 25,
   "metadata": {},
   "outputs": [],
   "source": [
    "# confusion matrix on the dev set\n",
    "# F1 score - going to be my key metric? (for now)\n",
    "\n",
    "def inference(model, dev_dataset):\n",
    "\n",
    "    dev_predictions = []\n",
    "    dev_labels = []\n",
    "\n",
    "    for data, labels in dev_dataset:\n",
    "            # push the image through the network\n",
    "            predictions = model(data).detach().numpy()\n",
    "            #print(predictions)\n",
    "            index  = np.argmax(predictions, axis=1)\n",
    "            #print(index)\n",
    "            dev_predictions.append(index)\n",
    "            actual = labels.detach().numpy()\n",
    "            dev_labels.append(actual)\n",
    "\n",
    "    print(confusion_matrix(dev_labels, dev_predictions))\n",
    "\n",
    "    from sklearn.metrics import precision_score, recall_score\n",
    "    pre = precision_score(dev_labels, dev_predictions, average='micro')\n",
    "    print('Precision {}'.format(round(pre,3)))\n",
    "    rec = recall_score(dev_labels, dev_predictions, average='micro')\n",
    "    print('Recall {}'.format(round(rec,3)))"
   ]
  },
  {
   "cell_type": "code",
   "execution_count": 317,
   "metadata": {},
   "outputs": [
    {
     "name": "stdout",
     "output_type": "stream",
     "text": [
      "[[ 0  0 50  0  0  0  0  0]\n",
      " [ 0  0 43  0  0  0  0  0]\n",
      " [ 0  0 50  0  0  0  0  0]\n",
      " [ 0  0 52  0  0  0  0  0]\n",
      " [ 0  0 75  0  0  0  0  0]\n",
      " [ 0  0 53  0  0  0  0  0]\n",
      " [ 0  0 46  0  0  0  0  0]\n",
      " [ 0  0 80  0  0  0  0  0]]\n",
      "Precision 0.111\n",
      "Recall 0.111\n"
     ]
    }
   ],
   "source": [
    "inference(classifier_1, dev)"
   ]
  },
  {
   "cell_type": "markdown",
   "metadata": {},
   "source": [
    "# Experimenting with Built from Scratch\n",
    "\n",
    "Base set up - after 25 epochs it predicts them all to be type 3.\n",
    "\n",
    "What's the problem - high bias\n",
    "\n",
    "Bigger network,\n",
    "change the learning rate\n",
    "change the layers\n",
    "\n"
   ]
  },
  {
   "cell_type": "markdown",
   "metadata": {},
   "source": [
    "# Transfer Learning"
   ]
  },
  {
   "cell_type": "code",
   "execution_count": 18,
   "metadata": {},
   "outputs": [],
   "source": [
    "# To try and give myself a heads start lets see what happens if we use VGG network as the basis and then transfer learn. "
   ]
  },
  {
   "cell_type": "code",
   "execution_count": 26,
   "metadata": {},
   "outputs": [],
   "source": [
    "'''\n",
    "Need to think carefully about the number of layers to retrain. Only want to keep the earlier layers\n",
    "The bigger the difference between our domain and the domain of the pretrained network the more we need to retrain. \n",
    "'''\n",
    "def retrainable_setup(model ,layers_limit):\n",
    "\n",
    "    '''\n",
    "    Function that allows you to set certain layers to be trainable or not\n",
    "    When using a transfer learning approach can vary the amount of layers you want to retrain.\n",
    "    \n",
    "    input \n",
    "    - layers_limit - number of layers to keep fixed.\n",
    "    - model \n",
    "    \n",
    "    output \n",
    "    - model - with layers set for training or not. \n",
    "    '''\n",
    "\n",
    "    for param in model.parameters():\n",
    "        param.requires_grad = False\n",
    "    i = 0\n",
    "    for child in model.children():\n",
    "        for layer in child.children():\n",
    "            i  +=1\n",
    "            if i > layers_limit:\n",
    "                for param in layer.parameters():\n",
    "                    param.requires_grad = True\n",
    "            else:\n",
    "                for param in layer.parameters():\n",
    "                    param.requires_grad = False\n"
   ]
  },
  {
   "cell_type": "code",
   "execution_count": 27,
   "metadata": {},
   "outputs": [],
   "source": [
    "modelVGG = models.vgg16(pretrained=True)"
   ]
  },
  {
   "cell_type": "code",
   "execution_count": 28,
   "metadata": {},
   "outputs": [
    {
     "data": {
      "text/plain": [
       "VGG(\n",
       "  (features): Sequential(\n",
       "    (0): Conv2d(3, 64, kernel_size=(3, 3), stride=(1, 1), padding=(1, 1))\n",
       "    (1): ReLU(inplace=True)\n",
       "    (2): Conv2d(64, 64, kernel_size=(3, 3), stride=(1, 1), padding=(1, 1))\n",
       "    (3): ReLU(inplace=True)\n",
       "    (4): MaxPool2d(kernel_size=2, stride=2, padding=0, dilation=1, ceil_mode=False)\n",
       "    (5): Conv2d(64, 128, kernel_size=(3, 3), stride=(1, 1), padding=(1, 1))\n",
       "    (6): ReLU(inplace=True)\n",
       "    (7): Conv2d(128, 128, kernel_size=(3, 3), stride=(1, 1), padding=(1, 1))\n",
       "    (8): ReLU(inplace=True)\n",
       "    (9): MaxPool2d(kernel_size=2, stride=2, padding=0, dilation=1, ceil_mode=False)\n",
       "    (10): Conv2d(128, 256, kernel_size=(3, 3), stride=(1, 1), padding=(1, 1))\n",
       "    (11): ReLU(inplace=True)\n",
       "    (12): Conv2d(256, 256, kernel_size=(3, 3), stride=(1, 1), padding=(1, 1))\n",
       "    (13): ReLU(inplace=True)\n",
       "    (14): Conv2d(256, 256, kernel_size=(3, 3), stride=(1, 1), padding=(1, 1))\n",
       "    (15): ReLU(inplace=True)\n",
       "    (16): MaxPool2d(kernel_size=2, stride=2, padding=0, dilation=1, ceil_mode=False)\n",
       "    (17): Conv2d(256, 512, kernel_size=(3, 3), stride=(1, 1), padding=(1, 1))\n",
       "    (18): ReLU(inplace=True)\n",
       "    (19): Conv2d(512, 512, kernel_size=(3, 3), stride=(1, 1), padding=(1, 1))\n",
       "    (20): ReLU(inplace=True)\n",
       "    (21): Conv2d(512, 512, kernel_size=(3, 3), stride=(1, 1), padding=(1, 1))\n",
       "    (22): ReLU(inplace=True)\n",
       "    (23): MaxPool2d(kernel_size=2, stride=2, padding=0, dilation=1, ceil_mode=False)\n",
       "    (24): Conv2d(512, 512, kernel_size=(3, 3), stride=(1, 1), padding=(1, 1))\n",
       "    (25): ReLU(inplace=True)\n",
       "    (26): Conv2d(512, 512, kernel_size=(3, 3), stride=(1, 1), padding=(1, 1))\n",
       "    (27): ReLU(inplace=True)\n",
       "    (28): Conv2d(512, 512, kernel_size=(3, 3), stride=(1, 1), padding=(1, 1))\n",
       "    (29): ReLU(inplace=True)\n",
       "    (30): MaxPool2d(kernel_size=2, stride=2, padding=0, dilation=1, ceil_mode=False)\n",
       "  )\n",
       "  (avgpool): AdaptiveAvgPool2d(output_size=(7, 7))\n",
       "  (classifier): Sequential(\n",
       "    (0): Linear(in_features=25088, out_features=4096, bias=True)\n",
       "    (1): ReLU(inplace=True)\n",
       "    (2): Dropout(p=0.5, inplace=False)\n",
       "    (3): Linear(in_features=4096, out_features=4096, bias=True)\n",
       "    (4): ReLU(inplace=True)\n",
       "    (5): Dropout(p=0.5, inplace=False)\n",
       "    (6): Linear(in_features=4096, out_features=1000, bias=True)\n",
       "  )\n",
       ")"
      ]
     },
     "execution_count": 28,
     "metadata": {},
     "output_type": "execute_result"
    }
   ],
   "source": [
    "modelVGG"
   ]
  },
  {
   "cell_type": "code",
   "execution_count": 29,
   "metadata": {},
   "outputs": [],
   "source": [
    "modelVGG.classifier[6] = nn.Sequential(\n",
    "                      nn.Linear(4096, 256), \n",
    "                      nn.ReLU(), \n",
    "                      nn.Dropout(0.4),\n",
    "                      nn.Linear(256, 8),                   \n",
    "                      nn.Softmax(dim=1))"
   ]
  },
  {
   "cell_type": "code",
   "execution_count": 30,
   "metadata": {},
   "outputs": [
    {
     "data": {
      "text/plain": [
       "VGG(\n",
       "  (features): Sequential(\n",
       "    (0): Conv2d(3, 64, kernel_size=(3, 3), stride=(1, 1), padding=(1, 1))\n",
       "    (1): ReLU(inplace=True)\n",
       "    (2): Conv2d(64, 64, kernel_size=(3, 3), stride=(1, 1), padding=(1, 1))\n",
       "    (3): ReLU(inplace=True)\n",
       "    (4): MaxPool2d(kernel_size=2, stride=2, padding=0, dilation=1, ceil_mode=False)\n",
       "    (5): Conv2d(64, 128, kernel_size=(3, 3), stride=(1, 1), padding=(1, 1))\n",
       "    (6): ReLU(inplace=True)\n",
       "    (7): Conv2d(128, 128, kernel_size=(3, 3), stride=(1, 1), padding=(1, 1))\n",
       "    (8): ReLU(inplace=True)\n",
       "    (9): MaxPool2d(kernel_size=2, stride=2, padding=0, dilation=1, ceil_mode=False)\n",
       "    (10): Conv2d(128, 256, kernel_size=(3, 3), stride=(1, 1), padding=(1, 1))\n",
       "    (11): ReLU(inplace=True)\n",
       "    (12): Conv2d(256, 256, kernel_size=(3, 3), stride=(1, 1), padding=(1, 1))\n",
       "    (13): ReLU(inplace=True)\n",
       "    (14): Conv2d(256, 256, kernel_size=(3, 3), stride=(1, 1), padding=(1, 1))\n",
       "    (15): ReLU(inplace=True)\n",
       "    (16): MaxPool2d(kernel_size=2, stride=2, padding=0, dilation=1, ceil_mode=False)\n",
       "    (17): Conv2d(256, 512, kernel_size=(3, 3), stride=(1, 1), padding=(1, 1))\n",
       "    (18): ReLU(inplace=True)\n",
       "    (19): Conv2d(512, 512, kernel_size=(3, 3), stride=(1, 1), padding=(1, 1))\n",
       "    (20): ReLU(inplace=True)\n",
       "    (21): Conv2d(512, 512, kernel_size=(3, 3), stride=(1, 1), padding=(1, 1))\n",
       "    (22): ReLU(inplace=True)\n",
       "    (23): MaxPool2d(kernel_size=2, stride=2, padding=0, dilation=1, ceil_mode=False)\n",
       "    (24): Conv2d(512, 512, kernel_size=(3, 3), stride=(1, 1), padding=(1, 1))\n",
       "    (25): ReLU(inplace=True)\n",
       "    (26): Conv2d(512, 512, kernel_size=(3, 3), stride=(1, 1), padding=(1, 1))\n",
       "    (27): ReLU(inplace=True)\n",
       "    (28): Conv2d(512, 512, kernel_size=(3, 3), stride=(1, 1), padding=(1, 1))\n",
       "    (29): ReLU(inplace=True)\n",
       "    (30): MaxPool2d(kernel_size=2, stride=2, padding=0, dilation=1, ceil_mode=False)\n",
       "  )\n",
       "  (avgpool): AdaptiveAvgPool2d(output_size=(7, 7))\n",
       "  (classifier): Sequential(\n",
       "    (0): Linear(in_features=25088, out_features=4096, bias=True)\n",
       "    (1): ReLU(inplace=True)\n",
       "    (2): Dropout(p=0.5, inplace=False)\n",
       "    (3): Linear(in_features=4096, out_features=4096, bias=True)\n",
       "    (4): ReLU(inplace=True)\n",
       "    (5): Dropout(p=0.5, inplace=False)\n",
       "    (6): Sequential(\n",
       "      (0): Linear(in_features=4096, out_features=256, bias=True)\n",
       "      (1): ReLU()\n",
       "      (2): Dropout(p=0.4, inplace=False)\n",
       "      (3): Linear(in_features=256, out_features=8, bias=True)\n",
       "      (4): Softmax(dim=1)\n",
       "    )\n",
       "  )\n",
       ")"
      ]
     },
     "execution_count": 30,
     "metadata": {},
     "output_type": "execute_result"
    }
   ],
   "source": [
    "modelVGG"
   ]
  },
  {
   "cell_type": "code",
   "execution_count": 31,
   "metadata": {},
   "outputs": [],
   "source": [
    "model = modelVGG"
   ]
  },
  {
   "cell_type": "code",
   "execution_count": 32,
   "metadata": {},
   "outputs": [],
   "source": [
    "retrainable_setup(model ,layers_limit = 27)"
   ]
  },
  {
   "cell_type": "code",
   "execution_count": 33,
   "metadata": {},
   "outputs": [
    {
     "name": "stdout",
     "output_type": "stream",
     "text": [
      "135,311,432 total parameters.\n",
      "122,956,552 training parameters.\n"
     ]
    }
   ],
   "source": [
    "# Find total parameters and trainable parameters\n",
    "total_params = sum(p.numel() for p in model.parameters())\n",
    "print(f'{total_params:,} total parameters.')\n",
    "total_trainable_params = sum(\n",
    "    p.numel() for p in model.parameters() if p.requires_grad)\n",
    "print(f'{total_trainable_params:,} training parameters.')"
   ]
  },
  {
   "cell_type": "code",
   "execution_count": 34,
   "metadata": {},
   "outputs": [],
   "source": [
    "# create an optimiser for the classifier\n",
    "optimiser_bulb_transfer = optim.Adam(model.parameters(), lr=0.01, betas = (0.9,0.999))\n",
    "# Create a criterion. Lets use cross entropy loss. \n",
    "criterion = nn.CrossEntropyLoss(weight=None, size_average=None, ignore_index=-100, reduce=None, reduction='mean')"
   ]
  },
  {
   "cell_type": "code",
   "execution_count": 334,
   "metadata": {},
   "outputs": [
    {
     "name": "stdout",
     "output_type": "stream",
     "text": [
      "[0/1][58/57] Loss: 2.2740\n"
     ]
    }
   ],
   "source": [
    "epochs_total = 25\n",
    "for epoch in range(epochs_total):\n",
    "    i = 1\n",
    "    for data, labels in train:\n",
    "     \n",
    "        # push the image through the network\n",
    "        prediction = model(data)\n",
    "        \n",
    "        error = criterion(prediction, labels)\n",
    "        #print('[%d/%d][%d/%d] Loss: %.4f' % (epoch, epochs_total, i, len(train),error))\n",
    "  \n",
    "        # zero grad\n",
    "        model.zero_grad()\n",
    "        error.backward()\n",
    "        optimiser_bulb_transfer.step()\n",
    "        \n",
    "        #if i == 10:\n",
    "        #   break\n",
    "            \n",
    "        i = i + 1\n",
    "    #for each epoch record the final error\n",
    "    error_monitoring.append(error)\n",
    "    print('[%d/%d][%d/%d] Loss: %.4f' % (epoch, epochs_total, i, len(train),error))"
   ]
  },
  {
   "cell_type": "code",
   "execution_count": 335,
   "metadata": {},
   "outputs": [
    {
     "name": "stdout",
     "output_type": "stream",
     "text": [
      "[[ 0  0  0  0  0  0 50  0]\n",
      " [ 0  0  0  0  0  0 43  0]\n",
      " [ 0  0  0  0  0  0 50  0]\n",
      " [ 0  0  0  0  0  1 51  0]\n",
      " [ 0  0  0  1  0  0 74  0]\n",
      " [ 0  0  0  0  0  0 53  0]\n",
      " [ 0  0  0  0  0  0 46  0]\n",
      " [ 0  0  0  0  0  0 80  0]]\n",
      "Precision 0.102\n",
      "Recall 0.102\n"
     ]
    }
   ],
   "source": [
    "inference(model, dev)"
   ]
  },
  {
   "cell_type": "markdown",
   "metadata": {},
   "source": [
    "# Hyperparameter Testing "
   ]
  },
  {
   "cell_type": "code",
   "execution_count": null,
   "metadata": {},
   "outputs": [],
   "source": [
    "# Testing different parameters. \n",
    "\n",
    "# Learning Rate\n",
    "\n",
    "epochs_total = 25\n",
    "\n",
    "results = {}\n",
    "\n",
    "for learning_rate in [0.01,0.001,0.0001]:\n",
    "    modelVGG = models.vgg16(pretrained=True)\n",
    "    modelVGG.classifier[6] = nn.Sequential(\n",
    "                      nn.Linear(4096, 256), \n",
    "                      nn.ReLU(), \n",
    "                      nn.Dropout(0.4),\n",
    "                      nn.Linear(256, 8),                   \n",
    "                      nn.Softmax(dim=1))\n",
    "    retrainable_setup(modelVGG ,layers_limit = 27)\n",
    "    # create an optimiser for the classifier\n",
    "    optimiser_bulb_transfer = optim.Adam(model.parameters(), lr=learning_rate, betas = (0.9,0.999))\n",
    "    # Create a criterion. Lets use cross entropy loss. \n",
    "    criterion = nn.CrossEntropyLoss(weight=None, size_average=None, ignore_index=-100, reduce=None, reduction='mean')\n",
    "    error_monitoring = []\n",
    "    \n",
    "    for epoch in range(epochs_total):\n",
    "        i = 1\n",
    "        for data, labels in train:\n",
    "\n",
    "            # push the image through the network\n",
    "            prediction = modelVGG(data)\n",
    "\n",
    "            error = criterion(prediction, labels)\n",
    "\n",
    "            # zero grad\n",
    "            model.zero_grad()\n",
    "            error.backward()\n",
    "            optimiser_bulb_transfer.step()\n",
    "            \n",
    "            i = i + 1\n",
    "        #for each epoch record the final error\n",
    "        error_monitoring.append(error.item())\n",
    "        print('[%d/%d][%d/%d] Loss: %.4f' % (epoch, epochs_total, i, len(train),error))\n",
    "    \n",
    "    results[learning_rate] = error_monitoring\n",
    "        "
   ]
  },
  {
   "cell_type": "code",
   "execution_count": 11,
   "metadata": {},
   "outputs": [
    {
     "data": {
      "image/png": "[encoded data removed]",
      "text/plain": [
       "<Figure size 432x288 with 1 Axes>"
      ]
     },
     "metadata": {
      "needs_background": "light"
     },
     "output_type": "display_data"
    }
   ],
   "source": [
    "x_values = list(range(0,epochs_total))\n",
    "for learning_rate in [0.01,0.001,0.0001]:\n",
    "    plt.scatter(x_values, results[learning_rate], label=learning_rate)\n",
    "\n",
    "    plt.title('Learning Rates')\n",
    "    plt.xlabel('Epochs')\n",
    "    plt.ylabel('loss')\n",
    "    plt.legend()"
   ]
  },
  {
   "cell_type": "code",
   "execution_count": null,
   "metadata": {},
   "outputs": [],
   "source": []
  }
 ],
 "metadata": {
  "kernelspec": {
   "display_name": "Python 3",
   "language": "python",
   "name": "python3"
  },
  "language_info": {
   "codemirror_mode": {
    "name": "ipython",
    "version": 3
   },
   "file_extension": ".py",
   "mimetype": "text/x-python",
   "name": "python",
   "nbconvert_exporter": "python",
   "pygments_lexer": "ipython3",
   "version": "3.6.8"
  }
 },
 "nbformat": 4,
 "nbformat_minor": 2
}
